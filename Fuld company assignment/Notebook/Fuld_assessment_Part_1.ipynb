{
  "cells": [
    {
      "cell_type": "code",
      "execution_count": 1,
      "metadata": {
        "colab": {
          "base_uri": "https://localhost:8080/"
        },
        "id": "DVjJ4BGmvneN",
        "outputId": "5e44afc5-bd54-4a93-aa5e-44ec4cea7f39"
      },
      "outputs": [
        {
          "output_type": "stream",
          "name": "stdout",
          "text": [
            "Collecting fuzzywuzzy[speedup]\n",
            "  Downloading fuzzywuzzy-0.18.0-py2.py3-none-any.whl.metadata (4.9 kB)\n",
            "Collecting python-levenshtein>=0.12 (from fuzzywuzzy[speedup])\n",
            "  Downloading python_levenshtein-0.27.1-py3-none-any.whl.metadata (3.7 kB)\n",
            "Collecting Levenshtein==0.27.1 (from python-levenshtein>=0.12->fuzzywuzzy[speedup])\n",
            "  Downloading levenshtein-0.27.1-cp311-cp311-manylinux_2_17_x86_64.manylinux2014_x86_64.whl.metadata (3.6 kB)\n",
            "Collecting rapidfuzz<4.0.0,>=3.9.0 (from Levenshtein==0.27.1->python-levenshtein>=0.12->fuzzywuzzy[speedup])\n",
            "  Downloading rapidfuzz-3.12.2-cp311-cp311-manylinux_2_17_x86_64.manylinux2014_x86_64.whl.metadata (12 kB)\n",
            "Downloading python_levenshtein-0.27.1-py3-none-any.whl (9.4 kB)\n",
            "Downloading levenshtein-0.27.1-cp311-cp311-manylinux_2_17_x86_64.manylinux2014_x86_64.whl (161 kB)\n",
            "\u001b[2K   \u001b[90m━━━━━━━━━━━━━━━━━━━━━━━━━━━━━━━━━━━━━━━━\u001b[0m \u001b[32m161.7/161.7 kB\u001b[0m \u001b[31m2.5 MB/s\u001b[0m eta \u001b[36m0:00:00\u001b[0m\n",
            "\u001b[?25hDownloading fuzzywuzzy-0.18.0-py2.py3-none-any.whl (18 kB)\n",
            "Downloading rapidfuzz-3.12.2-cp311-cp311-manylinux_2_17_x86_64.manylinux2014_x86_64.whl (3.1 MB)\n",
            "\u001b[2K   \u001b[90m━━━━━━━━━━━━━━━━━━━━━━━━━━━━━━━━━━━━━━━━\u001b[0m \u001b[32m3.1/3.1 MB\u001b[0m \u001b[31m15.2 MB/s\u001b[0m eta \u001b[36m0:00:00\u001b[0m\n",
            "\u001b[?25hInstalling collected packages: fuzzywuzzy, rapidfuzz, Levenshtein, python-levenshtein\n",
            "Successfully installed Levenshtein-0.27.1 fuzzywuzzy-0.18.0 python-levenshtein-0.27.1 rapidfuzz-3.12.2\n"
          ]
        }
      ],
      "source": [
        "!pip install fuzzywuzzy[speedup]"
      ]
    },
    {
      "cell_type": "code",
      "execution_count": 2,
      "metadata": {
        "colab": {
          "base_uri": "https://localhost:8080/"
        },
        "id": "uY9sQq4uaGM2",
        "outputId": "94cc9fa4-563b-4130-9267-ac6d16c012b2"
      },
      "outputs": [
        {
          "output_type": "stream",
          "name": "stdout",
          "text": [
            "Collecting gensim\n",
            "  Downloading gensim-4.3.3-cp311-cp311-manylinux_2_17_x86_64.manylinux2014_x86_64.whl.metadata (8.1 kB)\n",
            "Requirement already satisfied: numpy<2.0,>=1.18.5 in /usr/local/lib/python3.11/dist-packages (from gensim) (1.26.4)\n",
            "Collecting scipy<1.14.0,>=1.7.0 (from gensim)\n",
            "  Downloading scipy-1.13.1-cp311-cp311-manylinux_2_17_x86_64.manylinux2014_x86_64.whl.metadata (60 kB)\n",
            "\u001b[2K     \u001b[90m━━━━━━━━━━━━━━━━━━━━━━━━━━━━━━━━━━━━━━━━\u001b[0m \u001b[32m60.6/60.6 kB\u001b[0m \u001b[31m2.0 MB/s\u001b[0m eta \u001b[36m0:00:00\u001b[0m\n",
            "\u001b[?25hRequirement already satisfied: smart-open>=1.8.1 in /usr/local/lib/python3.11/dist-packages (from gensim) (7.1.0)\n",
            "Requirement already satisfied: wrapt in /usr/local/lib/python3.11/dist-packages (from smart-open>=1.8.1->gensim) (1.17.2)\n",
            "Downloading gensim-4.3.3-cp311-cp311-manylinux_2_17_x86_64.manylinux2014_x86_64.whl (26.7 MB)\n",
            "\u001b[2K   \u001b[90m━━━━━━━━━━━━━━━━━━━━━━━━━━━━━━━━━━━━━━━━\u001b[0m \u001b[32m26.7/26.7 MB\u001b[0m \u001b[31m39.1 MB/s\u001b[0m eta \u001b[36m0:00:00\u001b[0m\n",
            "\u001b[?25hDownloading scipy-1.13.1-cp311-cp311-manylinux_2_17_x86_64.manylinux2014_x86_64.whl (38.6 MB)\n",
            "\u001b[2K   \u001b[90m━━━━━━━━━━━━━━━━━━━━━━━━━━━━━━━━━━━━━━━━\u001b[0m \u001b[32m38.6/38.6 MB\u001b[0m \u001b[31m10.7 MB/s\u001b[0m eta \u001b[36m0:00:00\u001b[0m\n",
            "\u001b[?25hInstalling collected packages: scipy, gensim\n",
            "  Attempting uninstall: scipy\n",
            "    Found existing installation: scipy 1.14.1\n",
            "    Uninstalling scipy-1.14.1:\n",
            "      Successfully uninstalled scipy-1.14.1\n",
            "Successfully installed gensim-4.3.3 scipy-1.13.1\n"
          ]
        }
      ],
      "source": [
        "!pip install gensim"
      ]
    },
    {
      "cell_type": "code",
      "execution_count": 3,
      "metadata": {
        "colab": {
          "base_uri": "https://localhost:8080/"
        },
        "id": "KEXaERnYiI_k",
        "outputId": "6db8c6c3-3c72-4e1c-c299-afd7661ad772"
      },
      "outputs": [
        {
          "output_type": "stream",
          "name": "stdout",
          "text": [
            "Collecting vaderSentiment\n",
            "  Downloading vaderSentiment-3.3.2-py2.py3-none-any.whl.metadata (572 bytes)\n",
            "Requirement already satisfied: requests in /usr/local/lib/python3.11/dist-packages (from vaderSentiment) (2.32.3)\n",
            "Requirement already satisfied: charset-normalizer<4,>=2 in /usr/local/lib/python3.11/dist-packages (from requests->vaderSentiment) (3.4.1)\n",
            "Requirement already satisfied: idna<4,>=2.5 in /usr/local/lib/python3.11/dist-packages (from requests->vaderSentiment) (3.10)\n",
            "Requirement already satisfied: urllib3<3,>=1.21.1 in /usr/local/lib/python3.11/dist-packages (from requests->vaderSentiment) (2.3.0)\n",
            "Requirement already satisfied: certifi>=2017.4.17 in /usr/local/lib/python3.11/dist-packages (from requests->vaderSentiment) (2025.1.31)\n",
            "Downloading vaderSentiment-3.3.2-py2.py3-none-any.whl (125 kB)\n",
            "\u001b[2K   \u001b[90m━━━━━━━━━━━━━━━━━━━━━━━━━━━━━━━━━━━━━━━━\u001b[0m \u001b[32m126.0/126.0 kB\u001b[0m \u001b[31m2.7 MB/s\u001b[0m eta \u001b[36m0:00:00\u001b[0m\n",
            "\u001b[?25hInstalling collected packages: vaderSentiment\n",
            "Successfully installed vaderSentiment-3.3.2\n"
          ]
        }
      ],
      "source": [
        "pip install vaderSentiment"
      ]
    },
    {
      "cell_type": "code",
      "execution_count": 4,
      "metadata": {
        "id": "hnRvt0cQeHch"
      },
      "outputs": [],
      "source": [
        "import json\n",
        "import pandas as pd\n",
        "import re\n",
        "import requests\n",
        "from bs4 import BeautifulSoup\n",
        "import numpy as np\n",
        "from google.colab import drive\n",
        "from urllib.robotparser import RobotFileParser\n",
        "import time\n",
        "from concurrent.futures import ThreadPoolExecutor, as_completed\n",
        "import nltk\n",
        "from nltk.corpus import stopwords\n",
        "from nltk.tokenize import word_tokenize\n",
        "from nltk.stem import WordNetLemmatizer\n",
        "import spacy\n",
        "from textblob import TextBlob\n",
        "from collections import Counter\n",
        "from sklearn.feature_extraction.text import TfidfVectorizer\n",
        "import torch\n",
        "from transformers import pipeline\n",
        "from sklearn.preprocessing import LabelEncoder\n",
        "from nltk.sentiment import SentimentIntensityAnalyzer\n",
        "from gensim.models import Word2Vec\n",
        "from tqdm import tqdm\n",
        "from fuzzywuzzy import fuzz\n",
        "from nltk import pos_tag\n",
        "from nltk.corpus import wordnet\n",
        "from sklearn.model_selection import train_test_split\n",
        "from sklearn.ensemble import RandomForestClassifier\n",
        "from sklearn.linear_model import LogisticRegression\n",
        "from sklearn.svm import SVC\n",
        "from sklearn.metrics import classification_report, accuracy_score\n",
        "from vaderSentiment.vaderSentiment import SentimentIntensityAnalyzer\n",
        "from sklearn.decomposition import LatentDirichletAllocation\n",
        "from transformers import BertTokenizer, BertModel"
      ]
    },
    {
      "cell_type": "code",
      "execution_count": 5,
      "metadata": {
        "colab": {
          "base_uri": "https://localhost:8080/"
        },
        "id": "2s-ji570gQwD",
        "outputId": "06261c17-c0c8-48a0-b7d3-85f06282e57c"
      },
      "outputs": [
        {
          "output_type": "stream",
          "name": "stdout",
          "text": [
            "Mounted at /content/drive\n"
          ]
        }
      ],
      "source": [
        "drive.mount('/content/drive')"
      ]
    },
    {
      "cell_type": "code",
      "execution_count": 6,
      "metadata": {
        "id": "OwMcVbHBj-yk"
      },
      "outputs": [],
      "source": [
        "path = \"/content/drive/My Drive/Fuld/Raw Data v4.json\""
      ]
    },
    {
      "cell_type": "code",
      "execution_count": 7,
      "metadata": {
        "id": "iij5iPnekQcw"
      },
      "outputs": [],
      "source": [
        "with open(path, \"r\", encoding = \"utf-8\") as file:\n",
        "  data = json.load(file)\n"
      ]
    },
    {
      "cell_type": "code",
      "execution_count": 8,
      "metadata": {
        "colab": {
          "base_uri": "https://localhost:8080/"
        },
        "id": "LgaJCKMkkkTN",
        "outputId": "6fff1d3d-af70-4edd-b401-2f0d19610930"
      },
      "outputs": [
        {
          "output_type": "stream",
          "name": "stdout",
          "text": [
            "[{'title': \"South African fashion retailer TFG buys UK's White Stuff\", 'link': 'https://www.reuters.com/markets/deals/south-african-fashion-retailer-tfg-buys-uks-white-stuff-2024-10-25/', 'photo_url': 'https://www.reuters.com/resizer/v2/2KOP6CTZDZKEVJW2GD4EBEWLFA.jpg?auth=1cd9323c857290811636ec34b37c1f376cb915290f11ca5ebda3899213ac910b&width=4918&quality=80', 'thumbnail_url': 'https://news.google.com/api/attachments/CC8iK0NnNVBhRXRJUW5odFIwcHJOa1F6VFJDOEF4aXpCU2dLTWdhRlVwQW1MUWM=-w200-h200-p-df-rw', 'published_datetime_utc': '2024-10-25T07:00:00.000Z', 'authors': \"['Louise Heavens', 'Emelia Sithole-Matarise', 'Nqobile Dludla']\", 'source_url': 'https://www.reuters.com', 'source_name': 'Reuters', 'source_logo_url': 'https://lh3.googleusercontent.com/OzNZmYwP-Zl3sTWa8dzzyws9hou0ZihOGJ_-qanon-1iB5KwyqcHOwPxYZj54cGMZwD5qXui', 'source_favicon_url': 'https://encrypted-tbn2.gstatic.com/faviconV2?url=https://www.reuters.com&client=NEWS_360&size=96&type=FAVICON&fallback_opts=TYPE,SIZE,URL', 'source_publication_id': 'CAAqBggKMLegDDCwJg', 'related_topics': \"[{'topic_id': 'CAAqKAgKIiJDQkFTRXdvTkwyY3ZNVEZtTUY4NWN6RjNaaElDWlc0b0FBUAE', 'topic_name': 'Louise Heavens'}, {'topic_id': 'CAAqKAgKIiJDQkFTRXdvTkwyY3ZNVEZtZVY5c1psOXhkaElDWlc0b0FBUAE', 'topic_name': 'Emelia Sithole-Matarise'}, {'topic_id': 'CAAqKAgKIiJDQkFTRXdvTkwyY3ZNVEYwWXpWZmJsOW1OaElDWlc0b0FBUAE', 'topic_name': 'Nqobile Dludla'}]\", 'Full_Article': None}, {'title': 'Hobbs-owner acquires White Stuff in bid to boost brand growth', 'link': 'https://www.just-style.com/news/hobbs-owner-aquires-white-stuff-in-bid-to-boost-brand-growth/', 'photo_url': 'https://www.just-style.com/wp-content/uploads/sites/27/2024/10/GettyImages-173554520-430x241.jpg', 'thumbnail_url': 'https://news.google.com/api/attachments/CC8iK0NnNTNURTVtUjNCc2JGTk9VbEJIVFJEeEFSaXVBeWdLTWdZZEo1QktsZ28=-w200-h200-p-df-rw', 'published_datetime_utc': '2024-10-28T07:00:00.000Z', 'authors': \"['Shemona Safaya']\", 'source_url': 'https://www.just-style.com', 'source_name': 'just-style.com', 'source_logo_url': None, 'source_favicon_url': 'https://encrypted-tbn3.gstatic.com/faviconV2?url=https://www.just-style.com&client=NEWS_360&size=96&type=FAVICON&fallback_opts=TYPE,SIZE,URL', 'source_publication_id': 'CAAqKQgKIiNDQklTRkFnTWFoQUtEbXAxYzNRdGMzUjViR1V1WTI5dEtBQVAB', 'related_topics': \"[{'topic_id': 'CAAqKAgKIiJDQkFTRXdvTkwyY3ZNVEYwYUdvMU5uQXlNUklDWlc0b0FBUAE', 'topic_name': 'Shemona Safaya'}]\", 'Full_Article': 'TFG London, the parent company behind Hobbs, Phase Eight, and Whistles, has officially acquired White Stuff, a British retailer known for thoughtfully designed fashion and lifestyle products.\\nThis acquisition is a part of TFG London’s medium-term strategy to expand its brand portfolio, marking its fourth acquisition after Phase Eight, Whistles, and Hobbs. The acquisition will be funded through TFG London’s recently refinanced debt facility.\\nFounded in 1985, White Stuff boasts a substantial high-street presence with 113 UK stores, 46 concessions, and a growing international footprint.\\nAccording to TFG London, White Stuff has a history of solid financial performance, with annual revenue reaching £154.8m and EBITDA of £8.6 as of April 2024. With over 85% of its revenue from in-store and online sales, White Stuff notably also benefits from its wholesale and international operations, which include 606 wholesale stockists worldwide.\\nTFG London intends to support White Stuff’s ambitious growth strategy, including store expansions and strengthening the brand’s digital presence.\\nJustin Hampshire, CEO of TFG London, expressed enthusiasm over White Stuff’s addition to the company’s portfolio: “We are thrilled to welcome the White Stuff team into the TFG London family. The addition of White Stuff to TFG London diversifies and strengthens our existing womenswear portfolio, adding the first lifestyle brand while also bringing a well-established menswear offer and its loyal and resilient customer base.\\nHow well do you really know your competitors?\\nAccess the most comprehensive Company Profiles on the market, powered by GlobalData. Save hours of research. Gain competitive edge.\\nThank you!\\nYour download email will arrive shortly\\nNot ready to buy yet? Download a free sample\\nWe are confident about the unique quality of our Company Profiles. However, we want you to make the most beneficial decision for your business, so we offer a free sample that you can download by submitting the below form\\nBy GlobalData“With White Stuff’s strong presence on the high street and significant potential for sustained growth, we are committed to supporting Jo and her talented team with their ambitious rollout strategy to further increase its store and concession estate. Simultaneously, TFG London will continue to invest in the White Stuff brand and online offer to drive further awareness and growth.”\\nJo Jenkins, CEO of White Stuff, views the acquisition as a natural progression for the business: “It builds on the hard work and success the brand has achieved in recent years. TFG London is the ideal owner for our business. They value our brand, have a wealth of premium retail experience, and will be excellent long-term owners to support White Stuff’s next phase of growth.”\\nGeorge Treves, co-founder of White Stuff, stated: “We have spent over 40 years building this company from the ground up. We have achieved more than we ever dreamed possible, thanks to the incredible dedication of our team, the support of our customers, and the commitment of our suppliers. While this decision was not an easy one, we believe it’s the right next step for White Stuff and know that TFG is committed to providing White Stuff with new opportunities for growth.”\\nTFG London’s acquisition of White Stuff not only extends its reach in the UK and Europe but also reinforces its commitment to enhancing brand presence and customer engagement across its portfolio.\\nAdditionally, it highlighted the retention of White Stuff’s senior leadership team, led by CEO Jenkins, and all colleagues across the business. meanwhile, its founders Treves and Sean Thomas will be stepping down from their roles.\\nThis acquisition follows White Stuff weighing the potential sale of its business earlier in February after an unsolicited takeover proposal from a potential buyer.'}, {'title': \"White Stuff dress with pockets that 'hides lumps and bumps' drops from £75 to £27\", 'link': 'https://www.nottinghampost.com/whats-on/shopping/white-stuff-dress-pockets-hides-9913704', 'photo_url': 'https://i2-prod.nottinghampost.com/whats-on/shopping/article9913938.ece/ALTERNATES/s1200b/0_white-stuff-dress-1.jpg', 'thumbnail_url': 'https://news.google.com/api/attachments/CC8iK0NnNW1VakZFYzBKSWQwSnRkMjlOVFJEZ0F4aUFCU2dLTWdhdEJZVE9rUW8=-w200-h200-p-df-rw', 'published_datetime_utc': '2025-02-03T11:48:23.000Z', 'authors': \"['Lucy Addicott']\", 'source_url': 'https://www.nottinghampost.com', 'source_name': 'Nottinghamshire Live', 'source_logo_url': 'https://lh3.googleusercontent.com/msWuiz7du-FGyRqvhOWQ3v2i3O-HaKQ09o7h6oI70wLtI2ySJoRewFmSvMUmGitwjBUxfzGKY0k', 'source_favicon_url': 'https://encrypted-tbn3.gstatic.com/faviconV2?url=https://www.nottinghampost.com&client=NEWS_360&size=96&type=FAVICON&fallback_opts=TYPE,SIZE,URL', 'source_publication_id': 'CAAqBwgKMIfCoQkwid2WAg', 'related_topics': \"[{'topic_id': 'CAAqKAgKIiJDQkFTRXdvTkwyY3ZNVEZtTUhwcWVtWjVjQklDWlc0b0FBUAE', 'topic_name': 'Lucy Addicott'}]\", 'Full_Article': 'As we head into February, fashion brand White Stuff is still treating shoppers to discounts, and we\\'ve spotted an eye-catching item that you won\\'t want to miss out on. The Lucy Midi Print Dress is a beautiful option and 300 shoppers seem to think so too, rating it five stars.\\nIt would typically set you back £75, making it one of the pricier pieces for a high street store; however, for a limited time, you can snap it up for £27. That\\'s a total saving of £48 so it\\'s the price as well as the pattern that makes it showstopping.\\nThe three-quarter-length sleeved midi dress features an abstract print with pops of gold, burgundy, navy, and coral, with a v-neck cut. Shoppers are styling theirs in winter with boots and tights, as well as picking it up now to wear through spring and summer. If you have a wedding on your calendar, it\\'s an ideal choice, keeping you comfortable and stylish at the same time.\\nREAD MORE: Teeth whitening strips \\'just like they\\'ve been to the hygienist\\' in Valentine\\'s Day bundle\\nREAD MORE: Marks and Spencer knitted jacket \\'perfect for spring\\' is selling out quickly\\nThe Lucy dress comes in sizes six to eighteen, and you can choose between petite or regular skirt length. It is crafted from 100% Ecovero viscose, a breathable fabric, so you shouldn\\'t feel sweaty when the weather warms up or when layered under a jacket.\\nAnd, it\\'s not just the print that has shoppers swooning - the dress\\' silhouette cinches you in at the waist without being restricting. The flowing skirt gives the dress a relaxed feel, but it can still be dressed up with gold jewellery and heeled sandals.\\nWhite Stuff customers have left rave reviews over the Lucy dress, taking to the website to express feedback. One person said: \"I bought this dress as I was attracted to the beautiful colours as I already had this style but with a longer sleeve. The material is a lovely quality and the dress hangs beautifully. It looks fabulous and is a very flattering fit. I bought it in the sale too, so it was of brilliant value!\"\\nA second said: \"Such a beautiful, flattering dress and the colours are fabulous . Very comfortable to wear . Looks great with boots, heals or sandals.\" And a third shared: \"I bought the pink and turquoise version and the shape is so flattering. I’ve had loads of compliments and I feel very summery in it. The sleeves are elbow length on me (hiding my saggy arms) which is great and the overall length is perfect as a midi dress.\"\\nHaving pockets is a \\'real bonus\\' for one shopper, who went on to say: \"This is my second Lucy Eco Vero dress, and I like it as much as the first. The style is really flattering and hides my lumps and bumps!\"\\nHowever, there are customers who didn\\'t gel with the Lucy dress, finding it swamped their shape. Someone explained: \"The dress itself didn\\'t suit me at all. Even though the material was lovely there was just to much of it. The sleeves and skirt were huge. Which was a real shame.\"\\nAnother stand-out dress for the coming season is the Fuchsia Floral Ruched Waist Midi Dress from Roman. It has a ruched waistline to flatter your figure and one person said they had \\'a number of people\\' stopping them to ask where the dress was from.\\nRiver Island is another retailer that don\\'t disappoint with their dress offerings. We\\'re big fans of the Blue Floral Ruffle Slip Maxi Dress and the Pink Premium Floral Sleeveless Maxi Dress is \\'selling fast\\' for a reason.'}]\n"
          ]
        }
      ],
      "source": [
        "print(data[:3])"
      ]
    },
    {
      "cell_type": "code",
      "execution_count": 9,
      "metadata": {
        "id": "WawTZ7W9njOf"
      },
      "outputs": [],
      "source": [
        "DF = pd.DataFrame(data)"
      ]
    },
    {
      "cell_type": "code",
      "execution_count": 10,
      "metadata": {
        "colab": {
          "base_uri": "https://localhost:8080/",
          "height": 539
        },
        "id": "vVNBMtV7nuVQ",
        "outputId": "2685422e-176a-4df8-f0e8-21dfb8876b37"
      },
      "outputs": [
        {
          "output_type": "execute_result",
          "data": {
            "text/plain": [
              "                                               title  \\\n",
              "0  South African fashion retailer TFG buys UK's W...   \n",
              "1  Hobbs-owner acquires White Stuff in bid to boo...   \n",
              "2  White Stuff dress with pockets that 'hides lum...   \n",
              "3            South Africa’s TFG acquires White Stuff   \n",
              "4  Fiftysomethings in pink bobble jumpers: how Wh...   \n",
              "\n",
              "                                                link  \\\n",
              "0  https://www.reuters.com/markets/deals/south-af...   \n",
              "1  https://www.just-style.com/news/hobbs-owner-aq...   \n",
              "2  https://www.nottinghampost.com/whats-on/shoppi...   \n",
              "3  https://www.retail-insight-network.com/news/tf...   \n",
              "4  https://www.theguardian.com/business/article/2...   \n",
              "\n",
              "                                           photo_url  \\\n",
              "0  https://www.reuters.com/resizer/v2/2KOP6CTZDZK...   \n",
              "1  https://www.just-style.com/wp-content/uploads/...   \n",
              "2  https://i2-prod.nottinghampost.com/whats-on/sh...   \n",
              "3  https://www.retail-insight-network.com/wp-cont...   \n",
              "4  https://i.guim.co.uk/img/media/9f854e09421b65d...   \n",
              "\n",
              "                                       thumbnail_url  \\\n",
              "0  https://news.google.com/api/attachments/CC8iK0...   \n",
              "1  https://news.google.com/api/attachments/CC8iK0...   \n",
              "2  https://news.google.com/api/attachments/CC8iK0...   \n",
              "3  https://news.google.com/api/attachments/CC8iL0...   \n",
              "4  https://news.google.com/api/attachments/CC8iK0...   \n",
              "\n",
              "     published_datetime_utc  \\\n",
              "0  2024-10-25T07:00:00.000Z   \n",
              "1  2024-10-28T07:00:00.000Z   \n",
              "2  2025-02-03T11:48:23.000Z   \n",
              "3  2024-10-28T07:00:00.000Z   \n",
              "4  2024-06-04T07:00:00.000Z   \n",
              "\n",
              "                                             authors  \\\n",
              "0  ['Louise Heavens', 'Emelia Sithole-Matarise', ...   \n",
              "1                                 ['Shemona Safaya']   \n",
              "2                                  ['Lucy Addicott']   \n",
              "3                                                 []   \n",
              "4                                   ['Sarah Butler']   \n",
              "\n",
              "                               source_url             source_name  \\\n",
              "0                 https://www.reuters.com                 Reuters   \n",
              "1              https://www.just-style.com          just-style.com   \n",
              "2          https://www.nottinghampost.com    Nottinghamshire Live   \n",
              "3  https://www.retail-insight-network.com  Retail Insight Network   \n",
              "4             https://www.theguardian.com            The Guardian   \n",
              "\n",
              "                                     source_logo_url  \\\n",
              "0  https://lh3.googleusercontent.com/OzNZmYwP-Zl3...   \n",
              "1                                               None   \n",
              "2  https://lh3.googleusercontent.com/msWuiz7du-FG...   \n",
              "3                                               None   \n",
              "4  https://lh3.googleusercontent.com/SU8FywVNtcrG...   \n",
              "\n",
              "                                  source_favicon_url  \\\n",
              "0  https://encrypted-tbn2.gstatic.com/faviconV2?u...   \n",
              "1  https://encrypted-tbn3.gstatic.com/faviconV2?u...   \n",
              "2  https://encrypted-tbn3.gstatic.com/faviconV2?u...   \n",
              "3  https://encrypted-tbn1.gstatic.com/faviconV2?u...   \n",
              "4  https://encrypted-tbn0.gstatic.com/faviconV2?u...   \n",
              "\n",
              "                               source_publication_id  \\\n",
              "0                                 CAAqBggKMLegDDCwJg   \n",
              "1  CAAqKQgKIiNDQklTRkFnTWFoQUtEbXAxYzNRdGMzUjViR1...   \n",
              "2                             CAAqBwgKMIfCoQkwid2WAg   \n",
              "3                             CAAqBwgKMKz4nQswvYK2Aw   \n",
              "4                                CAAqBggKMJeqezDfswk   \n",
              "\n",
              "                                      related_topics  \\\n",
              "0  [{'topic_id': 'CAAqKAgKIiJDQkFTRXdvTkwyY3ZNVEZ...   \n",
              "1  [{'topic_id': 'CAAqKAgKIiJDQkFTRXdvTkwyY3ZNVEY...   \n",
              "2  [{'topic_id': 'CAAqKAgKIiJDQkFTRXdvTkwyY3ZNVEZ...   \n",
              "3                                                 []   \n",
              "4  [{'topic_id': 'CAAqKAgKIiJDQkFTRXdvTkwyY3ZNVEZ...   \n",
              "\n",
              "                                        Full_Article  \n",
              "0                                               None  \n",
              "1  TFG London, the parent company behind Hobbs, P...  \n",
              "2  As we head into February, fashion brand White ...  \n",
              "3  South African retail group TFG, through its Lo...  \n",
              "4  ‘I’m just getting going,” says Jo Jenkins, the...  "
            ],
            "text/html": [
              "\n",
              "  <div id=\"df-d322819f-2ebf-4d09-aac4-1d08587bfaa5\" class=\"colab-df-container\">\n",
              "    <div>\n",
              "<style scoped>\n",
              "    .dataframe tbody tr th:only-of-type {\n",
              "        vertical-align: middle;\n",
              "    }\n",
              "\n",
              "    .dataframe tbody tr th {\n",
              "        vertical-align: top;\n",
              "    }\n",
              "\n",
              "    .dataframe thead th {\n",
              "        text-align: right;\n",
              "    }\n",
              "</style>\n",
              "<table border=\"1\" class=\"dataframe\">\n",
              "  <thead>\n",
              "    <tr style=\"text-align: right;\">\n",
              "      <th></th>\n",
              "      <th>title</th>\n",
              "      <th>link</th>\n",
              "      <th>photo_url</th>\n",
              "      <th>thumbnail_url</th>\n",
              "      <th>published_datetime_utc</th>\n",
              "      <th>authors</th>\n",
              "      <th>source_url</th>\n",
              "      <th>source_name</th>\n",
              "      <th>source_logo_url</th>\n",
              "      <th>source_favicon_url</th>\n",
              "      <th>source_publication_id</th>\n",
              "      <th>related_topics</th>\n",
              "      <th>Full_Article</th>\n",
              "    </tr>\n",
              "  </thead>\n",
              "  <tbody>\n",
              "    <tr>\n",
              "      <th>0</th>\n",
              "      <td>South African fashion retailer TFG buys UK's W...</td>\n",
              "      <td>https://www.reuters.com/markets/deals/south-af...</td>\n",
              "      <td>https://www.reuters.com/resizer/v2/2KOP6CTZDZK...</td>\n",
              "      <td>https://news.google.com/api/attachments/CC8iK0...</td>\n",
              "      <td>2024-10-25T07:00:00.000Z</td>\n",
              "      <td>['Louise Heavens', 'Emelia Sithole-Matarise', ...</td>\n",
              "      <td>https://www.reuters.com</td>\n",
              "      <td>Reuters</td>\n",
              "      <td>https://lh3.googleusercontent.com/OzNZmYwP-Zl3...</td>\n",
              "      <td>https://encrypted-tbn2.gstatic.com/faviconV2?u...</td>\n",
              "      <td>CAAqBggKMLegDDCwJg</td>\n",
              "      <td>[{'topic_id': 'CAAqKAgKIiJDQkFTRXdvTkwyY3ZNVEZ...</td>\n",
              "      <td>None</td>\n",
              "    </tr>\n",
              "    <tr>\n",
              "      <th>1</th>\n",
              "      <td>Hobbs-owner acquires White Stuff in bid to boo...</td>\n",
              "      <td>https://www.just-style.com/news/hobbs-owner-aq...</td>\n",
              "      <td>https://www.just-style.com/wp-content/uploads/...</td>\n",
              "      <td>https://news.google.com/api/attachments/CC8iK0...</td>\n",
              "      <td>2024-10-28T07:00:00.000Z</td>\n",
              "      <td>['Shemona Safaya']</td>\n",
              "      <td>https://www.just-style.com</td>\n",
              "      <td>just-style.com</td>\n",
              "      <td>None</td>\n",
              "      <td>https://encrypted-tbn3.gstatic.com/faviconV2?u...</td>\n",
              "      <td>CAAqKQgKIiNDQklTRkFnTWFoQUtEbXAxYzNRdGMzUjViR1...</td>\n",
              "      <td>[{'topic_id': 'CAAqKAgKIiJDQkFTRXdvTkwyY3ZNVEY...</td>\n",
              "      <td>TFG London, the parent company behind Hobbs, P...</td>\n",
              "    </tr>\n",
              "    <tr>\n",
              "      <th>2</th>\n",
              "      <td>White Stuff dress with pockets that 'hides lum...</td>\n",
              "      <td>https://www.nottinghampost.com/whats-on/shoppi...</td>\n",
              "      <td>https://i2-prod.nottinghampost.com/whats-on/sh...</td>\n",
              "      <td>https://news.google.com/api/attachments/CC8iK0...</td>\n",
              "      <td>2025-02-03T11:48:23.000Z</td>\n",
              "      <td>['Lucy Addicott']</td>\n",
              "      <td>https://www.nottinghampost.com</td>\n",
              "      <td>Nottinghamshire Live</td>\n",
              "      <td>https://lh3.googleusercontent.com/msWuiz7du-FG...</td>\n",
              "      <td>https://encrypted-tbn3.gstatic.com/faviconV2?u...</td>\n",
              "      <td>CAAqBwgKMIfCoQkwid2WAg</td>\n",
              "      <td>[{'topic_id': 'CAAqKAgKIiJDQkFTRXdvTkwyY3ZNVEZ...</td>\n",
              "      <td>As we head into February, fashion brand White ...</td>\n",
              "    </tr>\n",
              "    <tr>\n",
              "      <th>3</th>\n",
              "      <td>South Africa’s TFG acquires White Stuff</td>\n",
              "      <td>https://www.retail-insight-network.com/news/tf...</td>\n",
              "      <td>https://www.retail-insight-network.com/wp-cont...</td>\n",
              "      <td>https://news.google.com/api/attachments/CC8iL0...</td>\n",
              "      <td>2024-10-28T07:00:00.000Z</td>\n",
              "      <td>[]</td>\n",
              "      <td>https://www.retail-insight-network.com</td>\n",
              "      <td>Retail Insight Network</td>\n",
              "      <td>None</td>\n",
              "      <td>https://encrypted-tbn1.gstatic.com/faviconV2?u...</td>\n",
              "      <td>CAAqBwgKMKz4nQswvYK2Aw</td>\n",
              "      <td>[]</td>\n",
              "      <td>South African retail group TFG, through its Lo...</td>\n",
              "    </tr>\n",
              "    <tr>\n",
              "      <th>4</th>\n",
              "      <td>Fiftysomethings in pink bobble jumpers: how Wh...</td>\n",
              "      <td>https://www.theguardian.com/business/article/2...</td>\n",
              "      <td>https://i.guim.co.uk/img/media/9f854e09421b65d...</td>\n",
              "      <td>https://news.google.com/api/attachments/CC8iK0...</td>\n",
              "      <td>2024-06-04T07:00:00.000Z</td>\n",
              "      <td>['Sarah Butler']</td>\n",
              "      <td>https://www.theguardian.com</td>\n",
              "      <td>The Guardian</td>\n",
              "      <td>https://lh3.googleusercontent.com/SU8FywVNtcrG...</td>\n",
              "      <td>https://encrypted-tbn0.gstatic.com/faviconV2?u...</td>\n",
              "      <td>CAAqBggKMJeqezDfswk</td>\n",
              "      <td>[{'topic_id': 'CAAqKAgKIiJDQkFTRXdvTkwyY3ZNVEZ...</td>\n",
              "      <td>‘I’m just getting going,” says Jo Jenkins, the...</td>\n",
              "    </tr>\n",
              "  </tbody>\n",
              "</table>\n",
              "</div>\n",
              "    <div class=\"colab-df-buttons\">\n",
              "\n",
              "  <div class=\"colab-df-container\">\n",
              "    <button class=\"colab-df-convert\" onclick=\"convertToInteractive('df-d322819f-2ebf-4d09-aac4-1d08587bfaa5')\"\n",
              "            title=\"Convert this dataframe to an interactive table.\"\n",
              "            style=\"display:none;\">\n",
              "\n",
              "  <svg xmlns=\"http://www.w3.org/2000/svg\" height=\"24px\" viewBox=\"0 -960 960 960\">\n",
              "    <path d=\"M120-120v-720h720v720H120Zm60-500h600v-160H180v160Zm220 220h160v-160H400v160Zm0 220h160v-160H400v160ZM180-400h160v-160H180v160Zm440 0h160v-160H620v160ZM180-180h160v-160H180v160Zm440 0h160v-160H620v160Z\"/>\n",
              "  </svg>\n",
              "    </button>\n",
              "\n",
              "  <style>\n",
              "    .colab-df-container {\n",
              "      display:flex;\n",
              "      gap: 12px;\n",
              "    }\n",
              "\n",
              "    .colab-df-convert {\n",
              "      background-color: #E8F0FE;\n",
              "      border: none;\n",
              "      border-radius: 50%;\n",
              "      cursor: pointer;\n",
              "      display: none;\n",
              "      fill: #1967D2;\n",
              "      height: 32px;\n",
              "      padding: 0 0 0 0;\n",
              "      width: 32px;\n",
              "    }\n",
              "\n",
              "    .colab-df-convert:hover {\n",
              "      background-color: #E2EBFA;\n",
              "      box-shadow: 0px 1px 2px rgba(60, 64, 67, 0.3), 0px 1px 3px 1px rgba(60, 64, 67, 0.15);\n",
              "      fill: #174EA6;\n",
              "    }\n",
              "\n",
              "    .colab-df-buttons div {\n",
              "      margin-bottom: 4px;\n",
              "    }\n",
              "\n",
              "    [theme=dark] .colab-df-convert {\n",
              "      background-color: #3B4455;\n",
              "      fill: #D2E3FC;\n",
              "    }\n",
              "\n",
              "    [theme=dark] .colab-df-convert:hover {\n",
              "      background-color: #434B5C;\n",
              "      box-shadow: 0px 1px 3px 1px rgba(0, 0, 0, 0.15);\n",
              "      filter: drop-shadow(0px 1px 2px rgba(0, 0, 0, 0.3));\n",
              "      fill: #FFFFFF;\n",
              "    }\n",
              "  </style>\n",
              "\n",
              "    <script>\n",
              "      const buttonEl =\n",
              "        document.querySelector('#df-d322819f-2ebf-4d09-aac4-1d08587bfaa5 button.colab-df-convert');\n",
              "      buttonEl.style.display =\n",
              "        google.colab.kernel.accessAllowed ? 'block' : 'none';\n",
              "\n",
              "      async function convertToInteractive(key) {\n",
              "        const element = document.querySelector('#df-d322819f-2ebf-4d09-aac4-1d08587bfaa5');\n",
              "        const dataTable =\n",
              "          await google.colab.kernel.invokeFunction('convertToInteractive',\n",
              "                                                    [key], {});\n",
              "        if (!dataTable) return;\n",
              "\n",
              "        const docLinkHtml = 'Like what you see? Visit the ' +\n",
              "          '<a target=\"_blank\" href=https://colab.research.google.com/notebooks/data_table.ipynb>data table notebook</a>'\n",
              "          + ' to learn more about interactive tables.';\n",
              "        element.innerHTML = '';\n",
              "        dataTable['output_type'] = 'display_data';\n",
              "        await google.colab.output.renderOutput(dataTable, element);\n",
              "        const docLink = document.createElement('div');\n",
              "        docLink.innerHTML = docLinkHtml;\n",
              "        element.appendChild(docLink);\n",
              "      }\n",
              "    </script>\n",
              "  </div>\n",
              "\n",
              "\n",
              "<div id=\"df-6bef732e-9160-4be2-b8bf-ccc8cb472a52\">\n",
              "  <button class=\"colab-df-quickchart\" onclick=\"quickchart('df-6bef732e-9160-4be2-b8bf-ccc8cb472a52')\"\n",
              "            title=\"Suggest charts\"\n",
              "            style=\"display:none;\">\n",
              "\n",
              "<svg xmlns=\"http://www.w3.org/2000/svg\" height=\"24px\"viewBox=\"0 0 24 24\"\n",
              "     width=\"24px\">\n",
              "    <g>\n",
              "        <path d=\"M19 3H5c-1.1 0-2 .9-2 2v14c0 1.1.9 2 2 2h14c1.1 0 2-.9 2-2V5c0-1.1-.9-2-2-2zM9 17H7v-7h2v7zm4 0h-2V7h2v10zm4 0h-2v-4h2v4z\"/>\n",
              "    </g>\n",
              "</svg>\n",
              "  </button>\n",
              "\n",
              "<style>\n",
              "  .colab-df-quickchart {\n",
              "      --bg-color: #E8F0FE;\n",
              "      --fill-color: #1967D2;\n",
              "      --hover-bg-color: #E2EBFA;\n",
              "      --hover-fill-color: #174EA6;\n",
              "      --disabled-fill-color: #AAA;\n",
              "      --disabled-bg-color: #DDD;\n",
              "  }\n",
              "\n",
              "  [theme=dark] .colab-df-quickchart {\n",
              "      --bg-color: #3B4455;\n",
              "      --fill-color: #D2E3FC;\n",
              "      --hover-bg-color: #434B5C;\n",
              "      --hover-fill-color: #FFFFFF;\n",
              "      --disabled-bg-color: #3B4455;\n",
              "      --disabled-fill-color: #666;\n",
              "  }\n",
              "\n",
              "  .colab-df-quickchart {\n",
              "    background-color: var(--bg-color);\n",
              "    border: none;\n",
              "    border-radius: 50%;\n",
              "    cursor: pointer;\n",
              "    display: none;\n",
              "    fill: var(--fill-color);\n",
              "    height: 32px;\n",
              "    padding: 0;\n",
              "    width: 32px;\n",
              "  }\n",
              "\n",
              "  .colab-df-quickchart:hover {\n",
              "    background-color: var(--hover-bg-color);\n",
              "    box-shadow: 0 1px 2px rgba(60, 64, 67, 0.3), 0 1px 3px 1px rgba(60, 64, 67, 0.15);\n",
              "    fill: var(--button-hover-fill-color);\n",
              "  }\n",
              "\n",
              "  .colab-df-quickchart-complete:disabled,\n",
              "  .colab-df-quickchart-complete:disabled:hover {\n",
              "    background-color: var(--disabled-bg-color);\n",
              "    fill: var(--disabled-fill-color);\n",
              "    box-shadow: none;\n",
              "  }\n",
              "\n",
              "  .colab-df-spinner {\n",
              "    border: 2px solid var(--fill-color);\n",
              "    border-color: transparent;\n",
              "    border-bottom-color: var(--fill-color);\n",
              "    animation:\n",
              "      spin 1s steps(1) infinite;\n",
              "  }\n",
              "\n",
              "  @keyframes spin {\n",
              "    0% {\n",
              "      border-color: transparent;\n",
              "      border-bottom-color: var(--fill-color);\n",
              "      border-left-color: var(--fill-color);\n",
              "    }\n",
              "    20% {\n",
              "      border-color: transparent;\n",
              "      border-left-color: var(--fill-color);\n",
              "      border-top-color: var(--fill-color);\n",
              "    }\n",
              "    30% {\n",
              "      border-color: transparent;\n",
              "      border-left-color: var(--fill-color);\n",
              "      border-top-color: var(--fill-color);\n",
              "      border-right-color: var(--fill-color);\n",
              "    }\n",
              "    40% {\n",
              "      border-color: transparent;\n",
              "      border-right-color: var(--fill-color);\n",
              "      border-top-color: var(--fill-color);\n",
              "    }\n",
              "    60% {\n",
              "      border-color: transparent;\n",
              "      border-right-color: var(--fill-color);\n",
              "    }\n",
              "    80% {\n",
              "      border-color: transparent;\n",
              "      border-right-color: var(--fill-color);\n",
              "      border-bottom-color: var(--fill-color);\n",
              "    }\n",
              "    90% {\n",
              "      border-color: transparent;\n",
              "      border-bottom-color: var(--fill-color);\n",
              "    }\n",
              "  }\n",
              "</style>\n",
              "\n",
              "  <script>\n",
              "    async function quickchart(key) {\n",
              "      const quickchartButtonEl =\n",
              "        document.querySelector('#' + key + ' button');\n",
              "      quickchartButtonEl.disabled = true;  // To prevent multiple clicks.\n",
              "      quickchartButtonEl.classList.add('colab-df-spinner');\n",
              "      try {\n",
              "        const charts = await google.colab.kernel.invokeFunction(\n",
              "            'suggestCharts', [key], {});\n",
              "      } catch (error) {\n",
              "        console.error('Error during call to suggestCharts:', error);\n",
              "      }\n",
              "      quickchartButtonEl.classList.remove('colab-df-spinner');\n",
              "      quickchartButtonEl.classList.add('colab-df-quickchart-complete');\n",
              "    }\n",
              "    (() => {\n",
              "      let quickchartButtonEl =\n",
              "        document.querySelector('#df-6bef732e-9160-4be2-b8bf-ccc8cb472a52 button');\n",
              "      quickchartButtonEl.style.display =\n",
              "        google.colab.kernel.accessAllowed ? 'block' : 'none';\n",
              "    })();\n",
              "  </script>\n",
              "</div>\n",
              "\n",
              "    </div>\n",
              "  </div>\n"
            ],
            "application/vnd.google.colaboratory.intrinsic+json": {
              "type": "dataframe",
              "variable_name": "DF",
              "summary": "{\n  \"name\": \"DF\",\n  \"rows\": 1418,\n  \"fields\": [\n    {\n      \"column\": \"title\",\n      \"properties\": {\n        \"dtype\": \"string\",\n        \"num_unique_values\": 916,\n        \"samples\": [\n          \"New S&P SL 20 entrant Teejay Lanka opens trading at CSE\",\n          \"With its headquarters for sale, here's where Caleres \\u2014 and its 700 employees \\u2014 could land\",\n          \"Pubudu De Silva appointed Teejay Lanka new CEO\"\n        ],\n        \"semantic_type\": \"\",\n        \"description\": \"\"\n      }\n    },\n    {\n      \"column\": \"link\",\n      \"properties\": {\n        \"dtype\": \"string\",\n        \"num_unique_values\": 942,\n        \"samples\": [\n          \"https://www.dailymirror.lk/print/business-news/Teejay-Lanka-doubles-India-plant-capacity-with-US-mn-expansion/273-150212\",\n          \"https://m.economictimes.com/industry/services/property-/-cstruction/welspun-one-buys-22-acre-land-on-gurugram-nh8-corridor-to-build-logistic-park-at-rs-125-crore/articleshow/112651936.cms\",\n          \"https://www.marketbeat.com/instant-alerts/caleres-nysecal-reaches-new-52-week-low-whats-next-2025-01-29/\"\n        ],\n        \"semantic_type\": \"\",\n        \"description\": \"\"\n      }\n    },\n    {\n      \"column\": \"photo_url\",\n      \"properties\": {\n        \"dtype\": \"string\",\n        \"num_unique_values\": 832,\n        \"samples\": [\n          \"https://bsmedia.business-standard.com/_media/bs/img/article/2021-07/16/full/1626452743-6322.jpg\",\n          \"https://sourcingjournal.com/wp-content/uploads/2021/10/Famousfootwear.jpg?w=910&h=511&crop=1\",\n          \"http://s3.amazonaws.com/bizenglish/wp-content/uploads/2024/03/03235344/Bill-McRaith-left-and-Shrihan-Perera.jpg\"\n        ],\n        \"semantic_type\": \"\",\n        \"description\": \"\"\n      }\n    },\n    {\n      \"column\": \"thumbnail_url\",\n      \"properties\": {\n        \"dtype\": \"string\",\n        \"num_unique_values\": 819,\n        \"samples\": [\n          \"https://news.google.com/api/attachments/CC8iL0NnNU9aVlI2ZVhsSVdEbHVSVkZwVFJDb0FSaXJBaWdCTWdtVkU0d0ptaWhzelFF=-w200-h200-p-df-rw\",\n          \"https://news.google.com/api/attachments/CC8iK0NnNUxRa3BUZVhkcE1qbG1Na2RyVFJDM0FSaVRBaWdCTWdZdE5vYk5IUWs=-w200-h200-p-df-rw\",\n          \"https://news.google.com/api/attachments/CC8iL0NnNWFWMUZNVURrdGQyeHVXVzF1VFJDZ0F4amlCU2dLTWdrQmNJNW9MZWJBa1FF=-w200-h200-p-df-rw\"\n        ],\n        \"semantic_type\": \"\",\n        \"description\": \"\"\n      }\n    },\n    {\n      \"column\": \"published_datetime_utc\",\n      \"properties\": {\n        \"dtype\": \"object\",\n        \"num_unique_values\": 644,\n        \"samples\": [\n          \"2019-07-22T07:00:00.000Z\",\n          \"2025-01-12T08:00:00.000Z\",\n          \"2025-01-31T11:19:04.000Z\"\n        ],\n        \"semantic_type\": \"\",\n        \"description\": \"\"\n      }\n    },\n    {\n      \"column\": \"authors\",\n      \"properties\": {\n        \"dtype\": \"category\",\n        \"num_unique_values\": 257,\n        \"samples\": [\n          \"['Janaki Krishnan']\",\n          \"['T Surendar']\",\n          \"['Tilman K\\u00fchn']\"\n        ],\n        \"semantic_type\": \"\",\n        \"description\": \"\"\n      }\n    },\n    {\n      \"column\": \"source_url\",\n      \"properties\": {\n        \"dtype\": \"category\",\n        \"num_unique_values\": 247,\n        \"samples\": [\n          \"https://www.whitecase.com\",\n          \"https://www.bizcommunity.com\",\n          \"https://www.3ds.com\"\n        ],\n        \"semantic_type\": \"\",\n        \"description\": \"\"\n      }\n    },\n    {\n      \"column\": \"source_name\",\n      \"properties\": {\n        \"dtype\": \"category\",\n        \"num_unique_values\": 237,\n        \"samples\": [\n          \"FashionNetwork.com\",\n          \"The Irish News \",\n          \"MarketBeat\"\n        ],\n        \"semantic_type\": \"\",\n        \"description\": \"\"\n      }\n    },\n    {\n      \"column\": \"source_logo_url\",\n      \"properties\": {\n        \"dtype\": \"category\",\n        \"num_unique_values\": 117,\n        \"samples\": [\n          \"https://lh3.googleusercontent.com/6CWDKcKm6Wc-1wmd6hDenVIQTORP1riiEcU33gx2l7MvB8ULN18L-n4dz0CpfzMax8YJQk3Qsg\",\n          \"https://lh3.googleusercontent.com/ZeJ-E4Pk_OZR2jUXXgm4_tBpKw6dMZbt37vSSibD3MVpV4ADy1Ic9Rv4a2po8lvZaoTpHLiBcw\",\n          \"https://lh3.googleusercontent.com/AT8iZRL6eUcqE6QveDcDvxkWRmUmyT_OzkkVmZ20YRlylJqSMypckPekPjhINXiSTA47GzKicg\"\n        ],\n        \"semantic_type\": \"\",\n        \"description\": \"\"\n      }\n    },\n    {\n      \"column\": \"source_favicon_url\",\n      \"properties\": {\n        \"dtype\": \"category\",\n        \"num_unique_values\": 247,\n        \"samples\": [\n          \"https://encrypted-tbn2.gstatic.com/faviconV2?url=https://www.whitecase.com&client=NEWS_360&size=96&type=FAVICON&fallback_opts=TYPE,SIZE,URL\",\n          \"https://encrypted-tbn0.gstatic.com/faviconV2?url=https://www.bizcommunity.com&client=NEWS_360&size=96&type=FAVICON&fallback_opts=TYPE,SIZE,URL\",\n          \"https://encrypted-tbn0.gstatic.com/faviconV2?url=https://www.3ds.com&client=NEWS_360&size=96&type=FAVICON&fallback_opts=TYPE,SIZE,URL\"\n        ],\n        \"semantic_type\": \"\",\n        \"description\": \"\"\n      }\n    },\n    {\n      \"column\": \"source_publication_id\",\n      \"properties\": {\n        \"dtype\": \"category\",\n        \"num_unique_values\": 245,\n        \"samples\": [\n          \"CAAqBwgKMKiEtwswtZ_OAw\",\n          \"CAAiEJc2Bs0_mAPsABcISwJ3Sc8qFAgKIhCXNgbNP5gD7AAXCEsCd0nP\",\n          \"CAAqBwgKMP_kzwswroDnAw\"\n        ],\n        \"semantic_type\": \"\",\n        \"description\": \"\"\n      }\n    },\n    {\n      \"column\": \"related_topics\",\n      \"properties\": {\n        \"dtype\": \"category\",\n        \"num_unique_values\": 257,\n        \"samples\": [\n          \"[{'topic_id': 'CAAqKAgKIiJDQkFTRXdvTkwyY3ZNVEZ4Ym1NNFlqRmtheElDWlc0b0FBUAE', 'topic_name': 'Janaki Krishnan'}]\",\n          \"[{'topic_id': 'CAAqKAgKIiJDQkFTRXdvTkwyY3ZNVEZ0ZG5ScVpEaHROeElDWlc0b0FBUAE', 'topic_name': 'T Surendar'}]\",\n          \"[{'topic_id': 'CAAqKAgKIiJDQkFTRXdvTkwyY3ZNVEZvWHpkc2VqWmtNaElDWlc0b0FBUAE', 'topic_name': 'Tilman K\\u00fchn'}]\"\n        ],\n        \"semantic_type\": \"\",\n        \"description\": \"\"\n      }\n    },\n    {\n      \"column\": \"Full_Article\",\n      \"properties\": {\n        \"dtype\": \"string\",\n        \"num_unique_values\": 752,\n        \"samples\": [\n          \"Introduction To Interarch Building Products IPO\\nThe Interarch Building Products IPO is a book-built issue worth Rs 600.29 crores in total. It consists of a fresh issue of 0.22 crore shares valued at Rs 200.00 crores and an offer for sale of 0.44 crore shares valued at Rs 400.29 crores.\\nThe IPO opens for subscription on August 19, 2024, and closes on August 21, 2024. The allotment of shares is expected to be finalised on Thursday, August 22, 2024. The IPO will be listed on BSE and NSE. This listing is tentatively scheduled for Monday, August 26, 2024.\\nThe Interarch Building Products IPO price band for each share ranges from Rs 850 to Rs 900. The minimum number of shares for application is 16. Retail investors need to invest a minimum of Rs 14,400. Small non-institutional bidders (sNII) investors must invest in 14 lots (224 shares) amounting to Rs 2,01,600. Meanwhile, big non-institutional bidders (bNII) investors must invest in 70 lots (1,120 shares) amounting to Rs 10,08,000.\\nAmbit Private Limited and Axis Capital Limited are the book-running lead managers for Interarch Building Products\\u2019 IPO. Link Intime India Private Ltd is the registrar for the issue.\\nInterarch Building IPO Details:\\n| Particulars | Details |\\n| IPO Date | August 19, 2024 to August 21, 2024 |\\n| Face Value | Rs 10 per share |\\n| Interarch Building Products IPO Price Band | Rs 850 to Rs 900 per share |\\n| Interarch Building Products Lot Size | 16 Shares |\\n| Interarch Building Products IPO Total Issue Size | 6,669,852 shares (aggregating up to Rs 600.29 Cr) |\\n| Fresh Issue | 2,222,222 shares (aggregating up to Rs 200.00 Cr) |\\n| Offer for Sale | 4,447,630 shares of Rs 10 (aggregating up to Rs 400.29 Cr) |\\n| Employee Discount | Rs 85 per share |\\n| Issue Type | Book Built Issue IPO |\\n| Interarch Building Products Listing At | BSE, NSE |\\n| Share-holding pre-issue | 1,44,15,892 |\\n| Share-holding post issue | 1,66,38,114 |\\nTentative Dates of IPO Events in Interarch Building Products Ltd\\n| Particulars | Tentative dates |\\n| IPO Open Date | Monday, August 19, 2024 |\\n| IPO Close Date | Wednesday, August 21, 2024 |\\n| Basis of Allotment | Thursday, August 22, 2024 |\\n| Initiation of Refunds | Friday, August 23, 2024 |\\n| The credit of Shares to Demat | Friday, August 23, 2024 |\\n| Interarch Building Listing Date | Monday, August 26, 2024 |\\n| Cut-off time for UPI mandate confirmation | 5 PM on August 21, 2024 |\\nThe Investor categories and shares offered\\n| Investor Category | Shares Offered |\\n| QIB Shares Offered | Not more than 50% of the Net offer |\\n| Retail Shares Offered | Not less than 35% of the Offer |\\n| NII (HNI) Shares Offered | Not less than 15% of the Offer |\\nApplication sources \\u2013 Interarch Building Products Ltd IPO Lot Size and their value\\n| Application | Lots | Shares | Amount (in Rs) |\\n| Retail (Min) | 1 | 16 | 14,400 |\\n| Retail (Max) | 13 | 208 | 1,87,200 |\\n| S-HNI (Min) | 14 | 224 | 2,01,600 |\\n| S-HNI (Max) | 69 | 1,104 | 9,93,600 |\\n| B-HNI (Min) | 70 | 1,120 | 10,08,000 |\\nInterarch Building Products Limited \\u2013 Company details\\nSince 1983, Interarch Building Limited has been a reliable supplier of complete pre-engineered steel construction solutions in India. The company\\u2019s wide-ranging offerings include design. Engineering. Production and on-site project supervision for assembly and raising of pre-engineered steel buildings (PEB)\\nAs of March 31, 2023, Interarch Building Limited had positioned itself as a significant contender in the industry. It holds the second-highest installed capacity of 141,000 metric tonnes annually. Additionally, in 2023, the company achieved a noteworthy 6.1% market share in operating income among integrated PEB players in India.\\nThe company provides PEBs through contracts for pre-engineered steel buildings (\\u201cPEB Contracts\\u201d). It also engages in the sale of materials for pre-engineered steel buildings (\\u201cPEB Sales\\u201d). These include metal ceilings, corrugated roofing, PEB steel structures and light gauge framing systems.\\nThe company\\u2019s industrial/manufacturing construction clients include Grasim Industries Limited, Berger Paints India Limited, Blue Star Climatech Limited, Timken India Limited and Addverb Technologies Limited. InstaKart Services Private Limited is also served by a company in the infrastructure construction sector.\\nThe company has manufacturing facilities in four locations: two in Sriperumbudur, Tamil Nadu, India; one in Inha, Uttarakhand; and one in Pantnagar, Uttarakhand.\\nEmployees who handle sales and marketing operations are located in Chandigarh, Punjab Haryana; Lucknow, Uttar Pradesh; Coimbatore, Tamil Nadu; Bhubaneshwar, Odisha; and Raipur, Chhattisgarh.\\nEach manufacturing facility is certified as compliant with the ISO 9001:2015 standard for Quality Management Systems. As of September 30, 2023, the company employs 111 skilled structural design engineers and detailers in its internal design and engineering team. On average, these team members have 8.05 years of experience working with the company.\\nFinancials Of Interarch Building Products:\\nMajor financials for the year ended March 31 2022. March 31, 2023. And March 31 2024.\\n| Period Ended | 31-Mar-24 | 31-Mar-23 | 31-Mar-22 |\\n| Assets (Rs in crores) | 755.01 | 675.03 | 543.75 |\\n| Revenue (Rs in crores) | 1,306.32 | 1,136.39 | 840.86 |\\n| Profit After Tax (Rs in crores) | 86.26 | 81.46 | 17.13 |\\n| Net Worth (Rs in crores) | 262.65 | 343.8 | 262.65 |\\n| Total Borrowing (Rs in crores) | 3.36 | 11.38 | 3.36 |\\nKey performance indicators and their values\\n| Key performance indicator (KPI) | Values |\\n| Return on Equity (ROE) | 19.40% |\\n| Return on capital employed (ROCE) | 25.79% |\\n| Debt/Equity | -0.11 |\\n| Return on net worth (RoNW) | 22.26% |\\n| P/BV | 0 |\\nObjectives of Interarch Building Products IPO\\nThe company plans to use Net Proceeds for financing the following purposes:\\n1) Securing funds needed to establish a new PEB manufacturing facility as part of Phase 2 of an expansion plan for the planned Andhra Pradesh Manufacturing Facility (\\u201cProject\\u201d)\\n2) Financing capital expenditure for enhancement of Kichha Manufacturing Facility, Tamil Nadu Manufacturing Facility I, Tamil Nadu Manufacturing Facility II and Pantnagar Manufacturing Facility\\n3) Funding investment in information technology (\\u201cIT\\u201d) assets to upgrade the company\\u2019s current information technology infrastructure\\n4) Providing funds for additional working capital needs\\n5) For general corporate purposes.\\nInterarch Building Products Ltd IPO GMP\\nThe most recent Grey Market Premium (GMP) for Interarch Building Products IPO is Rs 345. Information is updated as of 10:32 AM on August 16 2024. Considering the price range for IPO is Rs 850 to Rs 900, the anticipated listing price is Rs 1245 (upper price band + current GMP). This implies an expected per-share gain or loss of 38.33%.\\nThe retail price subject to cauda for Interarch Building Products IPO is Rs 4200. The small HNI price subject to cauda for Interarch Building Products IPO is Rs 58800.\\nInterarch Building Products IPO RHP Details \\u2013 Risks associated\\n1) The company\\u2019s success depends heavily on the availability and cost of raw materials, including steel. Any supply disruptions or price volatility may negatively impact operations, cash flows and financial health.\\n2) Underutilisation of manufacturing capacities can lead to inefficiencies and increased costs. This impacts the business\\u2019s overall productivity and profitability. Additionally, the inability to effectively utilise expanded capacities can result in missed opportunities. These include revenue generation and market share expansion. This situation may also affect the company\\u2019s future financial performance and cash flows. It poses risks to long-term sustainability and growth prospects.\\n3) Business customers sometimes commit to short-term contracts. They may cancel or change orders. They might need to be able to make payments. These actions could hurt cash flow, revenues and earnings. The company relies on a few customer groups. Repeat orders account for most of the revenue.\\n4) The company\\u2019s operations rely on its manufacturing facilities. They will continue to depend on them. The manufacturing process poses certain risks. Any interruptions, delays, or cessation of manufacturing operations could hurt the company\\u2019s business. This includes financial condition, the results of operations, and cash flows.\\n5) Insurance policies may not be adequate to cover all losses incurred in business. An inability to maintain sufficient insurance coverage may protect us from adverse material incidents in connection with our company. This situation may adversely affect our business results. It may also impact operations, financial conditions, and cash flows.\\nFrequently Asked Questions (FAQs)\\nWhat is the latest Interarch Building Products Ltd IPO GMP?\\nInterarch Building Products IPO\\u2019s latest Grey Market Premium (GMP) stands at Rs 345. This data was last updated at 10:32 AM on August 16, 2024.\\nWhat is Interarch Building Products Ltd IPO Price Band?\\nEach share\\u2019s Interarch Building Products IPO price band ranges from Rs 850 to Rs 900.\\nWhat are Interarch Building Products Ltd\\u2019s owner details?\\nInterarch Building Products\\u2019 owners are promoters Arvind Nanda, who serves as managing director, and Gautam Suri, the company\\u2019s full-time director. Non-Executive Directors include Viraj Nanda and Ishaan Suri.\\nIs Interarch Building Products Limited ISO certified?\\nYes, the company is ISO 9001:2015 standard certified for Quality Management Systems (QMS).\\nName a source from which you can obtain the Red herring prospectus (RHP) of the above IPO.\\nThe RHP of Interarch Building Products Limited IPO can be downloaded from the company\\u2019s website and SEBI\\u2019s website.\\nName a source from which you can draft the Red Herring (DRHP) prospectus for the above IPO.\\nYou can download the DRHP of Interarch Building Products Limited IPO from SEBI\\u2019s website.\\nDiscover the next big investment! Unicorn Signals\\u2019 IPO screener helps you identify promising initial public offerings. Download Unicorn Signals and get ahead of the curve! Sign Up Now & Find Your Next IPO Gem!\",\n          \"Tata Mutual Funds managed by Tata Asset Management Limited is a prominent asset management company in India, that offers a range of investment options to investors through mutual funds to invest in equity, debt, hybrid, and other financial instruments tailored to different risk appetites and financial goals.\\nListed below are four stocks in which Tata Mutual Fund has made a fresh position in Q2FY25, worth ~Rs. 660 Crores.\\nNetweb Technologies India\\nNetweb Technologies Limited is engaged in offering product and solution suite in designing, developing, implementing and integrating high performance computing solutions. It involves developing homegrown compute and storage technologies, and deployingg supercomputing infrastructure.\\nNote: Get Best Stock Analysis Tools + Premium Stock Research Reports to invest smartly in the market. Click here to subscribe to Trade Brains Portal Now!!\\nWith a market capitalization of Rs. 14,662 Crores, the shares of Netweb Technologies India Limited were trading at Rs. 2,601.50 per equity share, up 0.25 percent from its previous day\\u2019s close price of Rs. 2,595.05.\\nTata Mutual Fund made a fresh position in Netweb Technologies India Limited in Q2FY25 by purchasing a 1.58 percent stake or 8.88 Lakh equity shares.\\nIts Revenue from operations grew by 149 percent from Rs. 59.8 Crores in Q1FY24 to Rs. 149.32 Crores in Q1FY25, accompanied by profits of Rs. 5.09 Crores to Rs. 15.44 Crores.\\nArvind Fashions Limited is a fashion apparel company primarily engaged in the business of marketing and distribution of branded apparel and accessories, operating in the branded apparel, beauty, and footwear space. Its portfolio of owned and licensed international brands, includes US Polo, Arrow, Flying Machine, Tommy Hilfiger, Calvin Klein, Sephora, and others.\\nWith a market capitalization of Rs. 8,235 Crores, the shares of Arvind Fashions Limited were trading at Rs. 618.20 per equity share, down 0.62 percent from its previous day\\u2019s close price of Rs. 622.05.\\nTata Mutual Fund made a fresh position in Arvind Fashions Limited in Q2FY25 by purchasing a 1.07 percent stake consisting of 14.31 Lakh equity shares.\\nIts Revenue from operations declined by 0.24 percent from Rs. 957.16 Crores in Q1FY24 to Rs. 954.84 Crores in Q1FY25, accompanied by a loss of Rs. 4.53 Crores to a profit of Rs. 13.92 Crores.\\nPricol\\nPricol Limited is an automotive technology and precision-engineered solutions company engaged in the business of manufacturing, marketing, and selling of driver information systems and connected vehicle solutions, and actuation, control, fluid management systems, instrument clusters, and other allied automobile components to OEMs and many others.\\nWith a market capitalization of Rs. 5,742 Crores, the shares of Pricol Limited were trading at Rs. 471.10 per equity share, down 0.74 percent from its previous day\\u2019s close price of Rs. 474.60.\\nTata Mutual Fund made a fresh position in Pricol Limited in Q2FY25 by purchasing a 2.74 percent stake consisting of 33.39 Lakh equity shares.\\nIts Revenue from operations grew by 15.40 percent from Rs. 537 Crores in Q1FY24 to Rs. 620 Crores in Q1FY25, accompanied by profits of Rs. 32 Crores to Rs. 46 Crores.\\nCraftsman Automation is a precision components manufacturer, it is engaged in designing, developing, and manufacturing of engineering products using its state-of-the-art engineering technology and efficient manpower.\\nWith a market capitalization of Rs. 14,708 Crores, the shares of Craftsman Automation Limited were trading at Rs. 6,615.75 per equity share, up 0.45 percent from its previous day\\u2019s close price of Rs. 6,138.15.\\nTata Mutual Fund made a fresh position in Craftsman Automation Limited in Q2FY25 by purchasing a 1.23 percent stake consisting of 2.92 Lakh equity shares.\\nIts Revenue from operations grew by 11 percent from Rs. 1,038 Crores in Q1FY24 to Rs. 1,151 Crores in Q1FY25, accompanied by profits of Rs. 81 Crores to Rs. 59 Crores.\\nWritten by: Bharath K.S\\nDisclaimer\\nThe views and investment tips expressed by investment experts/broking houses/rating agencies on tradebrains.in are their own, and not that of the website or its management. Investing in equities poses a risk of financial losses. Investors must therefore exercise due caution while investing or trading in stocks. Dailyraven Technologies or the author are not liable for any losses caused as a result of the decision based on this article. Please consult your investment advisor before investing.\",\n          \"Legendary fund manager Li Lu (who Charlie Munger backed) once said, 'The biggest investment risk is not the volatility of prices, but whether you will suffer a permanent loss of capital.' So it might be obvious that you need to consider debt, when you think about how risky any given stock is, because too much debt can sink a company. Importantly, Arvind Limited (NSE:ARVIND) does carry debt. But is this debt a concern to shareholders?\\nWhen Is Debt Dangerous?\\nGenerally speaking, debt only becomes a real problem when a company can't easily pay it off, either by raising capital or with its own cash flow. Ultimately, if the company can't fulfill its legal obligations to repay debt, shareholders could walk away with nothing. However, a more usual (but still expensive) situation is where a company must dilute shareholders at a cheap share price simply to get debt under control. Of course, debt can be an important tool in businesses, particularly capital heavy businesses. When we think about a company's use of debt, we first look at cash and debt together.\\nView our latest analysis for Arvind\\nWhat Is Arvind's Debt?\\nAs you can see below, Arvind had \\u20b913.8b of debt, at September 2024, which is about the same as the year before. You can click the chart for greater detail. However, it also had \\u20b9888.3m in cash, and so its net debt is \\u20b913.0b.\\nHow Healthy Is Arvind's Balance Sheet?\\nZooming in on the latest balance sheet data, we can see that Arvind had liabilities of \\u20b931.5b due within 12 months and liabilities of \\u20b97.17b due beyond that. Offsetting this, it had \\u20b9888.3m in cash and \\u20b911.9b in receivables that were due within 12 months. So its liabilities total \\u20b925.9b more than the combination of its cash and short-term receivables.\\nWhile this might seem like a lot, it is not so bad since Arvind has a market capitalization of \\u20b9112.2b, and so it could probably strengthen its balance sheet by raising capital if it needed to. But it's clear that we should definitely closely examine whether it can manage its debt without dilution.\\nWe measure a company's debt load relative to its earnings power by looking at its net debt divided by its earnings before interest, tax, depreciation, and amortization (EBITDA) and by calculating how easily its earnings before interest and tax (EBIT) cover its interest expense (interest cover). This way, we consider both the absolute quantum of the debt, as well as the interest rates paid on it.\\nArvind has net debt worth 1.6 times EBITDA, which isn't too much, but its interest cover looks a bit on the low side, with EBIT at only 3.6 times the interest expense. While that doesn't worry us too much, it does suggest the interest payments are somewhat of a burden. If Arvind can keep growing EBIT at last year's rate of 12% over the last year, then it will find its debt load easier to manage. The balance sheet is clearly the area to focus on when you are analysing debt. But it is future earnings, more than anything, that will determine Arvind's ability to maintain a healthy balance sheet going forward. So if you're focused on the future you can check out this free report showing analyst profit forecasts.\\nFinally, a business needs free cash flow to pay off debt; accounting profits just don't cut it. So we clearly need to look at whether that EBIT is leading to corresponding free cash flow. During the last three years, Arvind produced sturdy free cash flow equating to 74% of its EBIT, about what we'd expect. This cold hard cash means it can reduce its debt when it wants to.\\nOur View\\nArvind's conversion of EBIT to free cash flow suggests it can handle its debt as easily as Cristiano Ronaldo could score a goal against an under 14's goalkeeper. But, on a more sombre note, we are a little concerned by its interest cover. All these things considered, it appears that Arvind can comfortably handle its current debt levels. Of course, while this leverage can enhance returns on equity, it does bring more risk, so it's worth keeping an eye on this one. There's no doubt that we learn most about debt from the balance sheet. However, not all investment risk resides within the balance sheet - far from it. These risks can be hard to spot. Every company has them, and we've spotted 2 warning signs for Arvind you should know about.\\nIf you're interested in investing in businesses that can grow profits without the burden of debt, then check out this free list of growing businesses that have net cash on the balance sheet.\\nNew: Manage All Your Stock Portfolios in One Place\\nWe've created the ultimate portfolio companion for stock investors, and it's free.\\n\\u2022 Connect an unlimited number of Portfolios and see your total in one currency\\n\\u2022 Be alerted to new Warning Signs or Risks via email or mobile\\n\\u2022 Track the Fair Value of your stocks\\nHave feedback on this article? Concerned about the content? Get in touch with us directly. Alternatively, email editorial-team (at) simplywallst.com.\\nThis article by Simply Wall St is general in nature. We provide commentary based on historical data and analyst forecasts only using an unbiased methodology and our articles are not intended to be financial advice. It does not constitute a recommendation to buy or sell any stock, and does not take account of your objectives, or your financial situation. We aim to bring you long-term focused analysis driven by fundamental data. Note that our analysis may not factor in the latest price-sensitive company announcements or qualitative material. Simply Wall St has no position in any stocks mentioned.\\nAbout NSEI:ARVIND\\nArvind\\nManufactures, markets, retails, supplies, and exports textiles in India and internationally.\\nExcellent balance sheet with reasonable growth potential and pays a dividend.\"\n        ],\n        \"semantic_type\": \"\",\n        \"description\": \"\"\n      }\n    }\n  ]\n}"
            }
          },
          "metadata": {},
          "execution_count": 10
        }
      ],
      "source": [
        "DF.head()"
      ]
    },
    {
      "cell_type": "code",
      "execution_count": 11,
      "metadata": {
        "colab": {
          "base_uri": "https://localhost:8080/"
        },
        "id": "35x2uF1Wn5wv",
        "outputId": "8bf5c509-55dd-48f1-e57d-4259d5d848c5"
      },
      "outputs": [
        {
          "output_type": "stream",
          "name": "stdout",
          "text": [
            "<class 'pandas.core.frame.DataFrame'>\n",
            "RangeIndex: 1418 entries, 0 to 1417\n",
            "Data columns (total 13 columns):\n",
            " #   Column                  Non-Null Count  Dtype \n",
            "---  ------                  --------------  ----- \n",
            " 0   title                   1418 non-null   object\n",
            " 1   link                    1418 non-null   object\n",
            " 2   photo_url               1369 non-null   object\n",
            " 3   thumbnail_url           1369 non-null   object\n",
            " 4   published_datetime_utc  1418 non-null   object\n",
            " 5   authors                 1418 non-null   object\n",
            " 6   source_url              1418 non-null   object\n",
            " 7   source_name             1418 non-null   object\n",
            " 8   source_logo_url         640 non-null    object\n",
            " 9   source_favicon_url      1418 non-null   object\n",
            " 10  source_publication_id   1418 non-null   object\n",
            " 11  related_topics          1418 non-null   object\n",
            " 12  Full_Article            1157 non-null   object\n",
            "dtypes: object(13)\n",
            "memory usage: 144.1+ KB\n"
          ]
        }
      ],
      "source": [
        "DF.info()"
      ]
    },
    {
      "cell_type": "code",
      "execution_count": 12,
      "metadata": {
        "id": "bUQT1TaHuSH6"
      },
      "outputs": [],
      "source": [
        "# Convert published date to datetime format\n",
        "DF[\"published_datetime_utc\"] = pd.to_datetime(DF[\"published_datetime_utc\"], errors=\"coerce\")"
      ]
    },
    {
      "cell_type": "code",
      "execution_count": 13,
      "metadata": {
        "id": "RpOlm7n9uUU_"
      },
      "outputs": [],
      "source": [
        "# Filter articles from 2023 and 2024\n",
        "DF = DF[(DF[\"published_datetime_utc\"].dt.year >= 2023) & (DF[\"published_datetime_utc\"].dt.year <= 2024)]"
      ]
    },
    {
      "cell_type": "code",
      "execution_count": 14,
      "metadata": {
        "colab": {
          "base_uri": "https://localhost:8080/"
        },
        "id": "m3jjG3bduYou",
        "outputId": "206b01c3-315a-44b6-a09b-2ced7fb8139c"
      },
      "outputs": [
        {
          "output_type": "stream",
          "name": "stdout",
          "text": [
            "<class 'pandas.core.frame.DataFrame'>\n",
            "Index: 854 entries, 0 to 1415\n",
            "Data columns (total 13 columns):\n",
            " #   Column                  Non-Null Count  Dtype              \n",
            "---  ------                  --------------  -----              \n",
            " 0   title                   854 non-null    object             \n",
            " 1   link                    854 non-null    object             \n",
            " 2   photo_url               833 non-null    object             \n",
            " 3   thumbnail_url           833 non-null    object             \n",
            " 4   published_datetime_utc  854 non-null    datetime64[ns, UTC]\n",
            " 5   authors                 854 non-null    object             \n",
            " 6   source_url              854 non-null    object             \n",
            " 7   source_name             854 non-null    object             \n",
            " 8   source_logo_url         435 non-null    object             \n",
            " 9   source_favicon_url      854 non-null    object             \n",
            " 10  source_publication_id   854 non-null    object             \n",
            " 11  related_topics          854 non-null    object             \n",
            " 12  Full_Article            691 non-null    object             \n",
            "dtypes: datetime64[ns, UTC](1), object(12)\n",
            "memory usage: 93.4+ KB\n"
          ]
        }
      ],
      "source": [
        "DF.info()"
      ]
    },
    {
      "cell_type": "markdown",
      "metadata": {
        "id": "u_-t3G5s5Awv"
      },
      "source": [
        "#It seems that there are missing records in column Full Article. Hence, we need to do web scrapping for those missing articles."
      ]
    },
    {
      "cell_type": "code",
      "execution_count": 15,
      "metadata": {
        "id": "_EyFjPBg7rkw"
      },
      "outputs": [],
      "source": [
        "missing_articles = DF[DF[\"Full_Article\"].isnull()]"
      ]
    },
    {
      "cell_type": "code",
      "execution_count": 16,
      "metadata": {
        "colab": {
          "base_uri": "https://localhost:8080/"
        },
        "id": "NMCLwz9N7vkO",
        "outputId": "ee188265-b8d3-4a36-df3f-dfa62761e12b"
      },
      "outputs": [
        {
          "output_type": "stream",
          "name": "stdout",
          "text": [
            "Total missing articles: 163\n"
          ]
        }
      ],
      "source": [
        "print(f\"Total missing articles: {len(missing_articles)}\")"
      ]
    },
    {
      "cell_type": "code",
      "execution_count": 17,
      "metadata": {
        "id": "K6ICJWm_amF3"
      },
      "outputs": [],
      "source": [
        "# Function to scrape an article\n",
        "def scrape_article(url):\n",
        "    headers = {\"User-Agent\": \"Mozilla/5.0\"}\n",
        "\n",
        "    try:\n",
        "        response = requests.get(url, headers=headers, timeout=10)  # Ensuring timeout\n",
        "        response.raise_for_status()\n",
        "        soup = BeautifulSoup(response.text, \"html.parser\")\n",
        "\n",
        "        # Extract article text (modify this logic based on the site's structure)\n",
        "        paragraphs = soup.find_all(\"p\")\n",
        "        article_text = \"\\n\".join([p.get_text() for p in paragraphs])\n",
        "\n",
        "        return article_text.strip() if article_text.strip() else None\n",
        "\n",
        "    except requests.exceptions.RequestException as e:\n",
        "        print(f\"Error scraping {url}: {e}\")\n",
        "        return None  # Return None on failure"
      ]
    },
    {
      "cell_type": "code",
      "execution_count": 18,
      "metadata": {
        "id": "dCjBeYrMaoOu"
      },
      "outputs": [],
      "source": [
        "# Function to process one article\n",
        "def process_article(idx, url):\n",
        "    print(f\"Scraping: {url}\")\n",
        "    article_text = scrape_article(url)\n",
        "    return idx, article_text"
      ]
    },
    {
      "cell_type": "code",
      "execution_count": 19,
      "metadata": {
        "colab": {
          "base_uri": "https://localhost:8080/"
        },
        "id": "_bDLecf7asJQ",
        "outputId": "7248c25f-248e-45b0-f322-ca18183bdc08"
      },
      "outputs": [
        {
          "output_type": "stream",
          "name": "stdout",
          "text": [
            "Scraping: https://www.reuters.com/markets/deals/south-african-fashion-retailer-tfg-buys-uks-white-stuff-2024-10-25/\n",
            "Scraping: https://www.foodepedia.co.uk/restaurant-news/the-white-stuff-german-gymnasium-serves-white-asparagus/\n",
            "Scraping: https://www.stuff.co.nz/world-news/350452570/what-are-these-mysterious-blobs-washing-canadian-beaches\n",
            "Scraping: https://www.stuff.co.nz/sport/360482689/all-whites-secure-biggest-win-two-decades-world-cup-qualifier-against-vanuatu\n",
            "Scraping: https://www.stuff.co.nz/home-property/360475544/leading-landscape-designer-bucked-sexist-stereotype\n",
            "Scraping: https://www.stuff.co.nz/nz-news/350262054/new-details-revealed-after-young-mother-killed-boating-incident\n",
            "Scraping: https://www.stuff.co.nz/home-property/350177734/white-paint-through-decades-remember-half-tea-one-we-love-now\n",
            "Scraping: https://www.stuff.co.nz/nz-news/350293195/misery-vines-tale-exploitation\n",
            "Error scraping https://www.reuters.com/markets/deals/south-african-fashion-retailer-tfg-buys-uks-white-stuff-2024-10-25/: 401 Client Error: HTTP Forbidden for url: https://www.reuters.com/markets/deals/south-african-fashion-retailer-tfg-buys-uks-white-stuff-2024-10-25/\n",
            "Scraping: https://www.stuff.co.nz/culture/350374785/lucy-lawless-reignites-feud-kevin-sorbo-over-kamala-harris-comment\n",
            "Scraping: https://www.stuff.co.nz/business/350181308/insiders-view-what-went-wrong-fletcher\n",
            "Scraping: https://www.stuff.co.nz/politics/350168684/pictures-stunning-photos-capture-lead-historic-waitangi-day\n",
            "Scraping: https://www.stuff.co.nz/nz-news/350454246/charter-company-ordered-pay-140k-after-young-mother-killed-boating-accident\n",
            "Scraping: https://www.stuff.co.nz/business/132338800/stuff-maintains-dominance-of-new-zealand-news-market\n",
            "Scraping: https://www.stuff.co.nz/national/131120689/last-chance-to-solve-60year-mystery-of-missing-honeymoon-flight\n",
            "Scraping: https://www.stuff.co.nz/national/300960019/thirteen-stuff-visual-journalists-named-as-nz-geographic-photographer-of-the-year-finalists\n",
            "Scraping: https://www.stuff.co.nz/national/crime/132875506/attempted-murder-of-radio-host-harnek-singh-was-planned-and-plotted-crown-say\n",
            "Scraping: https://www.weforum.org/stories/2024/01/generative-ai-risks-chief-legal-officers/\n",
            "Scraping: https://lordslibrary.parliament.uk/artificial-intelligence-development-risks-and-regulation/\n",
            "Scraping: https://www.nytimes.com/2024/07/02/climate/supreme-court-climate-chevron.html\n",
            "Scraping: https://publiclawproject.org.uk/resources/hurt-first-fix-later-ai-regulation-white-paper-consultation-response/\n",
            "Error scraping https://lordslibrary.parliament.uk/artificial-intelligence-development-risks-and-regulation/: 403 Client Error: Forbidden for url: https://lordslibrary.parliament.uk/artificial-intelligence-development-risks-and-regulation/\n",
            "Scraping: https://www.bloomberg.com/graphics/2024-investment-outlooks/\n",
            "Error scraping https://www.nytimes.com/2024/07/02/climate/supreme-court-climate-chevron.html: 403 Client Error: Forbidden for url: https://www.nytimes.com/2024/07/02/climate/supreme-court-climate-chevron.html\n",
            "Scraping: https://www.stuff.co.nz/national/132031985/a-northland-shipwreck-has-been-labelled-an-environmental-time-bomb--so-why-is-the-government-refusing-to-act\n",
            "Scraping: https://www.stuff.co.nz/nz-news/350177479/experts-fear-foodstuffs-facial-recognition-trial-could-harm-maori-pasifika\n",
            "Scraping: https://www.stuff.co.nz/national/health/coronavirus/301028013/the-future-risk-of-long-covid\n",
            "Scraping: https://profit.pakistantoday.com.pk/2024/11/25/interloop-aiming-to-hit-700-million-in-revenue-by-2026/\n",
            "Error scraping https://www.weforum.org/stories/2024/01/generative-ai-risks-chief-legal-officers/: 403 Client Error: Forbidden for url: https://www.weforum.org/stories/2024/01/generative-ai-risks-chief-legal-officers/\n",
            "Scraping: https://www.brecorder.com/news/40328792\n",
            "Scraping: https://profit.pakistantoday.com.pk/2024/12/18/yb-group-acquires-interloop-asset-management-rebrands-as-lucky-investment-management/\n",
            "Scraping: https://www.brecorder.com/news/40309741\n",
            "Scraping: https://www.brecorder.com/news/40324153\n",
            "Scraping: https://www.brecorder.com/news/40331123\n",
            "Scraping: https://profit.pakistantoday.com.pk/2024/06/26/interloop-approves-budget-expansion-plan-for-fy2024-25/\n",
            "Scraping: https://www.brecorder.com/news/40309937\n",
            "Scraping: https://profit.pakistantoday.com.pk/2024/10/02/fawad-anwar-elected-as-chairman-of-pakistan-textile-council/\n",
            "Scraping: https://www.brecorder.com/news/40295319\n",
            "Scraping: https://www.brecorder.com/news/40318548\n",
            "Scraping: https://propakistani.pk/2024/07/07/interloop-is-now-largest-textile-exporter-of-pakistan/\n",
            "Scraping: https://profit.pakistantoday.com.pk/2024/02/25/as-interloops-year-on-year-profits-surge-do-the-recent-quarters-hiccups-indicate-a-shift-in-trajectory/\n",
            "Error scraping https://propakistani.pk/2024/07/07/interloop-is-now-largest-textile-exporter-of-pakistan/: 403 Client Error: Forbidden for url: https://propakistani.pk/2024/07/07/interloop-is-now-largest-textile-exporter-of-pakistan/\n",
            "Scraping: https://www.brecorder.com/news/40289773\n",
            "Scraping: https://www.brecorder.com/news/40276179/pakistans-interloop-limited-completes-equity-stake-in-usas-top-circle-hosiery-mills\n",
            "Scraping: https://www.dawn.com/news/1794346\n",
            "Scraping: https://profit.pakistantoday.com.pk/2023/12/01/interloop-acquires-64-stake-in-us-firm-top-circle-hosiery-mills/\n",
            "Scraping: https://propakistani.pk/2024/02/20/interloops-half-year-profit-soars-115-to-rs-9-85-billion/\n",
            "Error scraping https://propakistani.pk/2024/02/20/interloops-half-year-profit-soars-115-to-rs-9-85-billion/: 403 Client Error: Forbidden for url: https://propakistani.pk/2024/02/20/interloops-half-year-profit-soars-115-to-rs-9-85-billion/\n",
            "Scraping: https://www.brecorder.com/news/40261976/interloops-profit-surges-to-rs2017bn-in-fy23\n",
            "Scraping: https://profit.pakistantoday.com.pk/2024/02/13/22-pakistani-listed-companies-added-to-msci-indices/\n",
            "Scraping: https://punjabpolice.gov.pk/node/14697\n",
            "Scraping: https://profit.pakistantoday.com.pk/2024/12/18/yb-group-acquires-interloop-asset-management-rebrands-as-lucky-investment-management/\n",
            "Scraping: https://profit.pakistantoday.com.pk/2024/02/25/as-interloops-year-on-year-profits-surge-do-the-recent-quarters-hiccups-indicate-a-shift-in-trajectory/\n",
            "Scraping: https://profit.pakistantoday.com.pk/2023/12/01/interloop-acquires-64-stake-in-us-firm-top-circle-hosiery-mills/\n",
            "Scraping: https://profit.pakistantoday.com.pk/2024/02/25/as-interloops-year-on-year-profits-surge-do-the-recent-quarters-hiccups-indicate-a-shift-in-trajectory/\n",
            "Scraping: https://profit.pakistantoday.com.pk/2024/02/25/as-interloops-year-on-year-profits-surge-do-the-recent-quarters-hiccups-indicate-a-shift-in-trajectory/\n",
            "Scraping: https://profit.pakistantoday.com.pk/2023/12/01/interloop-acquires-64-stake-in-us-firm-top-circle-hosiery-mills/\n",
            "Scraping: https://profit.pakistantoday.com.pk/2024/02/25/as-interloops-year-on-year-profits-surge-do-the-recent-quarters-hiccups-indicate-a-shift-in-trajectory/\n",
            "Scraping: https://profit.pakistantoday.com.pk/2024/02/13/22-pakistani-listed-companies-added-to-msci-indices/\n",
            "Scraping: https://profit.pakistantoday.com.pk/2023/12/01/interloop-acquires-64-stake-in-us-firm-top-circle-hosiery-mills/\n",
            "Scraping: https://www.sundayobserver.lk/2024/03/10/business/18626/teejay-lanka-appoints-two-new-directors/\n",
            "Scraping: https://www.sundayobserver.lk/2024/01/21/business/14726/teejay-lanka-teams-up-with-hemas/\n",
            "Error scraping https://www.sundayobserver.lk/2024/03/10/business/18626/teejay-lanka-appoints-two-new-directors/: 403 Client Error: Forbidden for url: https://www.sundayobserver.lk/2024/03/10/business/18626/teejay-lanka-appoints-two-new-directors/\n",
            "Scraping: https://www.dailynews.lk/2023/10/24/business/184271/teejay-knits-partnership-with-university-of-sri-jayewardenepura/\n",
            "Error scraping https://www.dailynews.lk/2023/10/24/business/184271/teejay-knits-partnership-with-university-of-sri-jayewardenepura/: 403 Client Error: Forbidden for url: https://www.dailynews.lk/2023/10/24/business/184271/teejay-knits-partnership-with-university-of-sri-jayewardenepura/\n",
            "Scraping: http://archives1.dailynews.lk/2023/05/18/business/303590/teejay-posts-rs-84-bn-annual-revenue-rs-173-bn-q4\n",
            "Error scraping https://www.sundayobserver.lk/2024/01/21/business/14726/teejay-lanka-teams-up-with-hemas/: 403 Client Error: Forbidden for url: https://www.sundayobserver.lk/2024/01/21/business/14726/teejay-lanka-teams-up-with-hemas/\n",
            "Scraping: http://archives1.sundayobserver.lk/2023/03/19/business/lankaila-pumps-rs-160m-acquires-sixth-local-hotel?page=5\n",
            "Error scraping http://archives1.dailynews.lk/2023/05/18/business/303590/teejay-posts-rs-84-bn-annual-revenue-rs-173-bn-q4: 403 Client Error: Forbidden for url: http://archives1.dailynews.lk/2023/05/18/business/303590/teejay-posts-rs-84-bn-annual-revenue-rs-173-bn-q4\n",
            "Scraping: https://archives1.sundayobserver.lk/2023/09/10/business/cooking-gas-sugarcane-waste?page=5\n",
            "Error scraping http://archives1.sundayobserver.lk/2023/03/19/business/lankaila-pumps-rs-160m-acquires-sixth-local-hotel?page=5: 403 Client Error: Forbidden for url: http://archives1.sundayobserver.lk/2023/03/19/business/lankaila-pumps-rs-160m-acquires-sixth-local-hotel?page=5\n",
            "Scraping: https://www.sundayobserver.lk/2024/01/21/business/14726/teejay-lanka-teams-up-with-hemas/\n",
            "Error scraping https://archives1.sundayobserver.lk/2023/09/10/business/cooking-gas-sugarcane-waste?page=5: 403 Client Error: Forbidden for url: https://archives1.sundayobserver.lk/2023/09/10/business/cooking-gas-sugarcane-waste?page=5\n",
            "Scraping: http://archives1.sundayobserver.lk/2023/05/28/business/local-hotels-operating-less-50-staff-slihm-chairman-shirantha-peiris?page=5\n",
            "Error scraping https://www.sundayobserver.lk/2024/01/21/business/14726/teejay-lanka-teams-up-with-hemas/: 403 Client Error: Forbidden for url: https://www.sundayobserver.lk/2024/01/21/business/14726/teejay-lanka-teams-up-with-hemas/\n",
            "Scraping: https://www.sundayobserver.lk/2024/01/21/business/14726/teejay-lanka-teams-up-with-hemas/\n",
            "Error scraping http://archives1.sundayobserver.lk/2023/05/28/business/local-hotels-operating-less-50-staff-slihm-chairman-shirantha-peiris?page=5: 403 Client Error: Forbidden for url: http://archives1.sundayobserver.lk/2023/05/28/business/local-hotels-operating-less-50-staff-slihm-chairman-shirantha-peiris?page=5\n",
            "Scraping: https://www.reuters.com/plus/acumen/vision-2045/welspun-sustainable-textile-loom\n",
            "Error scraping https://www.sundayobserver.lk/2024/01/21/business/14726/teejay-lanka-teams-up-with-hemas/: 403 Client Error: Forbidden for url: https://www.sundayobserver.lk/2024/01/21/business/14726/teejay-lanka-teams-up-with-hemas/\n",
            "Scraping: https://www.bloomberg.com/news/videos/2024-09-04/welspun-living-navigates-retail-slump-video\n",
            "Error scraping https://www.reuters.com/plus/acumen/vision-2045/welspun-sustainable-textile-loom: 401 Client Error: HTTP Forbidden for url: https://www.reuters.com/plus/acumen/vision-2045/welspun-sustainable-textile-loom\n",
            "Scraping: https://www.thehansindia.com/business/welspun-living-opens-new-fully-automated-125-million-pillow-factory-in-ohio-914860\n",
            "Scraping: https://www.business-standard.com/companies/results/welspun-living-q2fy25-results-net-profit-increases-to-rs-202-4-cr-124102800623_1.html\n",
            "Error scraping https://www.bloomberg.com/news/videos/2024-09-04/welspun-living-navigates-retail-slump-video: 403 Client Error: Forbidden for url: https://www.bloomberg.com/news/videos/2024-09-04/welspun-living-navigates-retail-slump-video\n",
            "Scraping: https://www.bizzbuzz.news/State/Telangana/welspun-living-opens-125-mn-pillow-factory-1339011\n",
            "Error scraping https://www.business-standard.com/companies/results/welspun-living-q2fy25-results-net-profit-increases-to-rs-202-4-cr-124102800623_1.html: 403 Client Error: Forbidden for url: https://www.business-standard.com/companies/results/welspun-living-q2fy25-results-net-profit-increases-to-rs-202-4-cr-124102800623_1.html\n",
            "Scraping: https://www.bizzbuzz.news/national/welspun-living-joins-reuters-vision-2045-campaign-to-drive-sustainable-change-1330514\n",
            "Scraping: https://www.bizzbuzz.news/news-capsules/welspun-living-strikes-partnership-with-queer-eyes-jeremiah-brent-1334787\n",
            "Scraping: https://www.business-standard.com/companies/results/welspun-living-q1fy25-results-net-profit-rises-14-to-rs-185-95-cr-124072401065_1.html\n",
            "Error scraping https://www.business-standard.com/companies/results/welspun-living-q1fy25-results-net-profit-rises-14-to-rs-185-95-cr-124072401065_1.html: 403 Client Error: Forbidden for url: https://www.business-standard.com/companies/results/welspun-living-q1fy25-results-net-profit-rises-14-to-rs-185-95-cr-124072401065_1.html\n",
            "Scraping: https://www.business-standard.com/markets/news/welspun-living-slips-over-4-as-2-1-mn-shares-changed-hands-via-block-deals-124082900501_1.html\n",
            "Error scraping https://www.business-standard.com/markets/news/welspun-living-slips-over-4-as-2-1-mn-shares-changed-hands-via-block-deals-124082900501_1.html: 403 Client Error: Forbidden for url: https://www.business-standard.com/markets/news/welspun-living-slips-over-4-as-2-1-mn-shares-changed-hands-via-block-deals-124082900501_1.html\n",
            "Scraping: https://www.business-standard.com/companies/interviews/welspun-living-expects-its-revenue-from-indian-market-to-triple-by-2026-27-124022600700_1.html\n",
            "Error scraping https://www.business-standard.com/companies/interviews/welspun-living-expects-its-revenue-from-indian-market-to-triple-by-2026-27-124022600700_1.html: 403 Client Error: Forbidden for url: https://www.business-standard.com/companies/interviews/welspun-living-expects-its-revenue-from-indian-market-to-triple-by-2026-27-124022600700_1.html\n",
            "Scraping: https://www.business-standard.com/markets/capital-market-news/board-of-welspun-living-approves-restructuring-of-overseas-subsidiaries-124042500721_1.html\n",
            "Scraping: https://www.business-standard.com/markets/capital-market-news/welspun-living-gains-as-arm-acquires-christy-home-124091800636_1.html\n",
            "Error scraping https://www.business-standard.com/markets/capital-market-news/board-of-welspun-living-approves-restructuring-of-overseas-subsidiaries-124042500721_1.html: 403 Client Error: Forbidden for url: https://www.business-standard.com/markets/capital-market-news/board-of-welspun-living-approves-restructuring-of-overseas-subsidiaries-124042500721_1.html\n",
            "Scraping: https://www.business-standard.com/markets/capital-market-news/board-of-welspun-living-approves-investment-of-rs-1-15-cr-in-welspun-bhargavi-124091000679_1.html\n",
            "Scraping: https://www.thehansindia.com/life-style/welspun-living-joins-reuters-vision-2045-campaign-to-drive-sustainable-change-by-making-india-the-sustainable-loom-for-the-world-895266\n",
            "Scraping: https://www.bizzbuzz.news/industry/welspun-living-scores-highest-esg-rating-1303976\n",
            "Error scraping https://www.business-standard.com/markets/capital-market-news/board-of-welspun-living-approves-investment-of-rs-1-15-cr-in-welspun-bhargavi-124091000679_1.html: 403 Client Error: Forbidden for url: https://www.business-standard.com/markets/capital-market-news/board-of-welspun-living-approves-investment-of-rs-1-15-cr-in-welspun-bhargavi-124091000679_1.html\n",
            "Scraping: https://www.business-standard.com/companies/news/welspun-one-raises-rs-2-275-cr-for-second-fund-to-build-warehousing-assets-124070800251_1.html\n",
            "Error scraping https://www.business-standard.com/markets/capital-market-news/welspun-living-gains-as-arm-acquires-christy-home-124091800636_1.html: 403 Client Error: Forbidden for url: https://www.business-standard.com/markets/capital-market-news/welspun-living-gains-as-arm-acquires-christy-home-124091800636_1.html\n",
            "Scraping: https://www.business-standard.com/companies/results/welspun-living-q4-results-net-profit-increases-16-to-rs-146-crore-124042500667_1.html\n",
            "Error scraping https://www.business-standard.com/companies/news/welspun-one-raises-rs-2-275-cr-for-second-fund-to-build-warehousing-assets-124070800251_1.html: 403 Client Error: Forbidden for url: https://www.business-standard.com/companies/news/welspun-one-raises-rs-2-275-cr-for-second-fund-to-build-warehousing-assets-124070800251_1.html\n",
            "Scraping: https://www.thehansindia.com/business/welspun-flooring-limited-wins-silver-in-the-national-award-for-manufacturing-excellence-2023-24-recognition-program-903203\n",
            "Error scraping https://www.business-standard.com/companies/results/welspun-living-q4-results-net-profit-increases-16-to-rs-146-crore-124042500667_1.html: 403 Client Error: Forbidden for url: https://www.business-standard.com/companies/results/welspun-living-q4-results-net-profit-increases-16-to-rs-146-crore-124042500667_1.html\n",
            "Scraping: https://www.business-standard.com/companies/results/welspun-corp-q2-profit-falls-27-board-approves-over-rs-2k-cr-investments-124110801481_1.html\n",
            "Error scraping https://www.business-standard.com/companies/results/welspun-corp-q2-profit-falls-27-board-approves-over-rs-2k-cr-investments-124110801481_1.html: 403 Client Error: Forbidden for url: https://www.business-standard.com/companies/results/welspun-corp-q2-profit-falls-27-board-approves-over-rs-2k-cr-investments-124110801481_1.html\n",
            "Scraping: https://www.reuters.com/plus/acumen/vision-2045/welspun-sustainable-textile-loom\n",
            "Scraping: https://www.indianretailer.com/news/retail-india-news-balkrishan-goenkas-family-trust-offloads-39-pc-stake-welspun-living-rs-781\n",
            "Error scraping https://www.reuters.com/plus/acumen/vision-2045/welspun-sustainable-textile-loom: 401 Client Error: HTTP Forbidden for url: https://www.reuters.com/plus/acumen/vision-2045/welspun-sustainable-textile-loom\n",
            "Scraping: https://www.indianretailer.com/news/retail-india-news-welspun-living-joins-bharat-tex-2024-champion-indias-textile-legacy\n",
            "Error scraping https://www.indianretailer.com/news/retail-india-news-welspun-living-joins-bharat-tex-2024-champion-indias-textile-legacy: 403 Client Error: Forbidden for url: https://www.indianretailer.com/news/retail-india-news-welspun-living-joins-bharat-tex-2024-champion-indias-textile-legacy\n",
            "Scraping: https://www.bizzbuzz.news/national/welspun-living-joins-reuters-vision-2045-campaign-to-drive-sustainable-change-1330514\n",
            "Error scraping https://www.indianretailer.com/news/retail-india-news-balkrishan-goenkas-family-trust-offloads-39-pc-stake-welspun-living-rs-781: 403 Client Error: Forbidden for url: https://www.indianretailer.com/news/retail-india-news-balkrishan-goenkas-family-trust-offloads-39-pc-stake-welspun-living-rs-781\n",
            "Scraping: https://www.business-standard.com/companies/news/welspun-one-launches-rs-2-700-cr-warehousing-industrial-park-at-jnpa-sez-124112700514_1.html\n",
            "Error scraping https://www.business-standard.com/companies/news/welspun-one-launches-rs-2-700-cr-warehousing-industrial-park-at-jnpa-sez-124112700514_1.html: 403 Client Error: Forbidden for url: https://www.business-standard.com/companies/news/welspun-one-launches-rs-2-700-cr-warehousing-industrial-park-at-jnpa-sez-124112700514_1.html\n",
            "Scraping: https://www.thecore.in/business/welspun-living-to-prioritise-b2c-expansion-says-ceo-dipali-goenka-2033803\n",
            "Scraping: https://www.indianretailer.com/news/retail-india-news-board-welspun-living-appoints-naiyya-saggi-independent-director\n",
            "Error scraping https://www.indianretailer.com/news/retail-india-news-board-welspun-living-appoints-naiyya-saggi-independent-director: 403 Client Error: Forbidden for url: https://www.indianretailer.com/news/retail-india-news-board-welspun-living-appoints-naiyya-saggi-independent-director\n",
            "Scraping: https://www.reuters.com/plus/acumen/vision-2045/welspun-sustainable-textile-loom\n",
            "Scraping: https://www.bizzbuzz.news/national/welspun-living-joins-reuters-vision-2045-campaign-to-drive-sustainable-change-1330514\n",
            "Error scraping https://www.reuters.com/plus/acumen/vision-2045/welspun-sustainable-textile-loom: 401 Client Error: HTTP Forbidden for url: https://www.reuters.com/plus/acumen/vision-2045/welspun-sustainable-textile-loom\n",
            "Scraping: https://www.indianretailer.com/news/retail-india-news-balkrishan-goenkas-family-trust-offloads-39-pc-stake-welspun-living-rs-781\n",
            "Scraping: https://www.business-standard.com/companies/news/welspun-one-launches-rs-2-700-cr-warehousing-industrial-park-at-jnpa-sez-124112700514_1.html\n",
            "Scraping: https://www.indianretailer.com/news/retail-india-news-board-welspun-living-appoints-naiyya-saggi-independent-director\n",
            "Error scraping https://www.business-standard.com/companies/news/welspun-one-launches-rs-2-700-cr-warehousing-industrial-park-at-jnpa-sez-124112700514_1.html: 403 Client Error: Forbidden for url: https://www.business-standard.com/companies/news/welspun-one-launches-rs-2-700-cr-warehousing-industrial-park-at-jnpa-sez-124112700514_1.html\n",
            "Scraping: https://www.indianretailer.com/news/retail-india-news-welspun-living-joins-bharat-tex-2024-champion-indias-textile-legacy\n",
            "Error scraping https://www.indianretailer.com/news/retail-india-news-balkrishan-goenkas-family-trust-offloads-39-pc-stake-welspun-living-rs-781: 403 Client Error: Forbidden for url: https://www.indianretailer.com/news/retail-india-news-balkrishan-goenkas-family-trust-offloads-39-pc-stake-welspun-living-rs-781\n",
            "Scraping: https://www.thecore.in/business/welspun-living-to-prioritise-b2c-expansion-says-ceo-dipali-goenka-2033803\n",
            "Error scraping https://www.indianretailer.com/news/retail-india-news-board-welspun-living-appoints-naiyya-saggi-independent-director: 403 Client Error: Forbidden for url: https://www.indianretailer.com/news/retail-india-news-board-welspun-living-appoints-naiyya-saggi-independent-director\n",
            "Scraping: https://www.reuters.com/plus/acumen/vision-2045/welspun-sustainable-textile-loom\n",
            "Error scraping https://www.indianretailer.com/news/retail-india-news-welspun-living-joins-bharat-tex-2024-champion-indias-textile-legacy: 403 Client Error: Forbidden for url: https://www.indianretailer.com/news/retail-india-news-welspun-living-joins-bharat-tex-2024-champion-indias-textile-legacy\n",
            "Scraping: https://www.bizzbuzz.news/national/welspun-living-joins-reuters-vision-2045-campaign-to-drive-sustainable-change-1330514\n",
            "Error scraping https://www.reuters.com/plus/acumen/vision-2045/welspun-sustainable-textile-loom: 401 Client Error: HTTP Forbidden for url: https://www.reuters.com/plus/acumen/vision-2045/welspun-sustainable-textile-loom\n",
            "Scraping: https://www.indianretailer.com/news/retail-india-news-balkrishan-goenkas-family-trust-offloads-39-pc-stake-welspun-living-rs-781\n",
            "Error scraping https://www.indianretailer.com/news/retail-india-news-balkrishan-goenkas-family-trust-offloads-39-pc-stake-welspun-living-rs-781: 403 Client Error: Forbidden for url: https://www.indianretailer.com/news/retail-india-news-balkrishan-goenkas-family-trust-offloads-39-pc-stake-welspun-living-rs-781\n",
            "Scraping: https://www.business-standard.com/companies/news/welspun-one-launches-rs-2-700-cr-warehousing-industrial-park-at-jnpa-sez-124112700514_1.html\n",
            "Error scraping https://www.business-standard.com/companies/news/welspun-one-launches-rs-2-700-cr-warehousing-industrial-park-at-jnpa-sez-124112700514_1.html: 403 Client Error: Forbidden for url: https://www.business-standard.com/companies/news/welspun-one-launches-rs-2-700-cr-warehousing-industrial-park-at-jnpa-sez-124112700514_1.html\n",
            "Scraping: https://www.indianretailer.com/news/retail-india-news-board-welspun-living-appoints-naiyya-saggi-independent-director\n",
            "Error scraping https://www.indianretailer.com/news/retail-india-news-board-welspun-living-appoints-naiyya-saggi-independent-director: 403 Client Error: Forbidden for url: https://www.indianretailer.com/news/retail-india-news-board-welspun-living-appoints-naiyya-saggi-independent-director\n",
            "Scraping: https://www.indianretailer.com/news/retail-india-news-welspun-living-joins-bharat-tex-2024-champion-indias-textile-legacy\n",
            "Error scraping https://www.indianretailer.com/news/retail-india-news-welspun-living-joins-bharat-tex-2024-champion-indias-textile-legacy: 403 Client Error: Forbidden for url: https://www.indianretailer.com/news/retail-india-news-welspun-living-joins-bharat-tex-2024-champion-indias-textile-legacy\n",
            "Scraping: https://www.thecore.in/business/welspun-living-to-prioritise-b2c-expansion-says-ceo-dipali-goenka-2033803\n",
            "Scraping: https://www.indianretailer.com/news/retail-india-news-welspun-living-joins-bharat-tex-2024-champion-indias-textile-legacy\n",
            "Error scraping https://www.indianretailer.com/news/retail-india-news-welspun-living-joins-bharat-tex-2024-champion-indias-textile-legacy: 403 Client Error: Forbidden for url: https://www.indianretailer.com/news/retail-india-news-welspun-living-joins-bharat-tex-2024-champion-indias-textile-legacy\n",
            "Scraping: https://www.reuters.com/plus/acumen/vision-2045/welspun-sustainable-textile-loom\n",
            "Error scraping https://www.reuters.com/plus/acumen/vision-2045/welspun-sustainable-textile-loom: 401 Client Error: HTTP Forbidden for url: https://www.reuters.com/plus/acumen/vision-2045/welspun-sustainable-textile-loom\n",
            "Scraping: https://www.indianretailer.com/news/retail-india-news-balkrishan-goenkas-family-trust-offloads-39-pc-stake-welspun-living-rs-781\n",
            "Scraping: https://www.indianretailer.com/news/retail-india-news-board-welspun-living-appoints-naiyya-saggi-independent-director\n",
            "Error scraping https://www.indianretailer.com/news/retail-india-news-board-welspun-living-appoints-naiyya-saggi-independent-director: 403 Client Error: Forbidden for url: https://www.indianretailer.com/news/retail-india-news-board-welspun-living-appoints-naiyya-saggi-independent-director\n",
            "Scraping: https://www.indianretailer.com/news/retail-india-news-welspun-living-joins-bharat-tex-2024-champion-indias-textile-legacy\n",
            "Error scraping https://www.indianretailer.com/news/retail-india-news-balkrishan-goenkas-family-trust-offloads-39-pc-stake-welspun-living-rs-781: 403 Client Error: Forbidden for url: https://www.indianretailer.com/news/retail-india-news-balkrishan-goenkas-family-trust-offloads-39-pc-stake-welspun-living-rs-781\n",
            "Scraping: https://www.indianretailer.com/news/retail-india-news-welspun-living-joins-bharat-tex-2024-champion-indias-textile-legacy\n",
            "Error scraping https://www.indianretailer.com/news/retail-india-news-welspun-living-joins-bharat-tex-2024-champion-indias-textile-legacy: 403 Client Error: Forbidden for url: https://www.indianretailer.com/news/retail-india-news-welspun-living-joins-bharat-tex-2024-champion-indias-textile-legacy\n",
            "Scraping: https://www.business-standard.com/companies/news/welspun-one-launches-rs-2-700-cr-warehousing-industrial-park-at-jnpa-sez-124112700514_1.html\n",
            "Error scraping https://www.indianretailer.com/news/retail-india-news-welspun-living-joins-bharat-tex-2024-champion-indias-textile-legacy: 403 Client Error: Forbidden for url: https://www.indianretailer.com/news/retail-india-news-welspun-living-joins-bharat-tex-2024-champion-indias-textile-legacy\n",
            "Scraping: https://www.indianretailer.com/news/retail-india-news-welspun-living-joins-bharat-tex-2024-champion-indias-textile-legacy\n",
            "Error scraping https://www.business-standard.com/companies/news/welspun-one-launches-rs-2-700-cr-warehousing-industrial-park-at-jnpa-sez-124112700514_1.html: 403 Client Error: Forbidden for url: https://www.business-standard.com/companies/news/welspun-one-launches-rs-2-700-cr-warehousing-industrial-park-at-jnpa-sez-124112700514_1.html\n",
            "Scraping: https://www.reuters.com/plus/acumen/vision-2045/welspun-sustainable-textile-loom\n",
            "Scraping: https://www.business-standard.com/markets/capital-market-news/volumes-jump-at-godrej-consumer-products-ltd-counter-124120900226_1.html\n",
            "Error scraping https://www.indianretailer.com/news/retail-india-news-welspun-living-joins-bharat-tex-2024-champion-indias-textile-legacy: 403 Client Error: Forbidden for url: https://www.indianretailer.com/news/retail-india-news-welspun-living-joins-bharat-tex-2024-champion-indias-textile-legacy\n",
            "Scraping: https://www.indianretailer.com/news/retail-india-news-welspun-living-joins-bharat-tex-2024-champion-indias-textile-legacy\n",
            "Error scraping https://www.business-standard.com/markets/capital-market-news/volumes-jump-at-godrej-consumer-products-ltd-counter-124120900226_1.html: 403 Client Error: Forbidden for url: https://www.business-standard.com/markets/capital-market-news/volumes-jump-at-godrej-consumer-products-ltd-counter-124120900226_1.html\n",
            "Scraping: https://www.bizzbuzz.news/national/welspun-living-joins-reuters-vision-2045-campaign-to-drive-sustainable-change-1330514\n",
            "Error scraping https://www.indianretailer.com/news/retail-india-news-welspun-living-joins-bharat-tex-2024-champion-indias-textile-legacy: 403 Client Error: Forbidden for url: https://www.indianretailer.com/news/retail-india-news-welspun-living-joins-bharat-tex-2024-champion-indias-textile-legacy\n",
            "Scraping: https://www.indianretailer.com/news/retail-india-news-balkrishan-goenkas-family-trust-offloads-39-pc-stake-welspun-living-rs-781\n",
            "Error scraping https://www.indianretailer.com/news/retail-india-news-balkrishan-goenkas-family-trust-offloads-39-pc-stake-welspun-living-rs-781: 403 Client Error: Forbidden for url: https://www.indianretailer.com/news/retail-india-news-balkrishan-goenkas-family-trust-offloads-39-pc-stake-welspun-living-rs-781\n",
            "Scraping: https://www.thecore.in/business/welspun-living-to-prioritise-b2c-expansion-says-ceo-dipali-goenka-2033803\n",
            "Error scraping https://www.reuters.com/plus/acumen/vision-2045/welspun-sustainable-textile-loom: 401 Client Error: HTTP Forbidden for url: https://www.reuters.com/plus/acumen/vision-2045/welspun-sustainable-textile-loom\n",
            "Scraping: https://www.indianretailer.com/news/retail-india-news-board-welspun-living-appoints-naiyya-saggi-independent-director\n",
            "Scraping: https://www.business-standard.com/companies/news/arvind-q1-results-profit-dips-37-25-to-rs-43-73-cr-revenue-falls-1-2-124072901169_1.htmlError scraping https://www.indianretailer.com/news/retail-india-news-board-welspun-living-appoints-naiyya-saggi-independent-director: 403 Client Error: Forbidden for url: https://www.indianretailer.com/news/retail-india-news-board-welspun-living-appoints-naiyya-saggi-independent-director\n",
            "Scraping: https://www.exchange4media.com/people-movement-news/saloni-arora-elevated-to-business-head-at-arvind-fashions-limited-136771.html\n",
            "\n",
            "Error scraping https://www.business-standard.com/companies/news/arvind-q1-results-profit-dips-37-25-to-rs-43-73-cr-revenue-falls-1-2-124072901169_1.html: 403 Client Error: Forbidden for url: https://www.business-standard.com/companies/news/arvind-q1-results-profit-dips-37-25-to-rs-43-73-cr-revenue-falls-1-2-124072901169_1.html\n",
            "Scraping: https://www.exchange4media.com/marketing-news/arvind-limited-unveils-first-campaign-with-dr-lakshyaraj-singh-mewar-136873.html\n",
            "Error scraping https://www.exchange4media.com/marketing-news/arvind-limited-unveils-first-campaign-with-dr-lakshyaraj-singh-mewar-136873.html: 403 Client Error: Forbidden for url: https://www.exchange4media.com/marketing-news/arvind-limited-unveils-first-campaign-with-dr-lakshyaraj-singh-mewar-136873.html\n",
            "Scraping: https://www.business-standard.com/companies/results/arvind-q4-result-profit-rises-marginally-by-2-1-as-demand-remains-steady-124050600429_1.html\n",
            "Error scraping https://www.business-standard.com/companies/results/arvind-q4-result-profit-rises-marginally-by-2-1-as-demand-remains-steady-124050600429_1.html: 403 Client Error: Forbidden for url: https://www.business-standard.com/companies/results/arvind-q4-result-profit-rises-marginally-by-2-1-as-demand-remains-steady-124050600429_1.html\n",
            "Scraping: https://www.business-standard.com/companies/results/arvind-fashions-q1-results-pat-at-rs-13-92-crore-on-strong-revenue-growth-124080100739_1.html\n",
            "Error scraping https://www.business-standard.com/companies/results/arvind-fashions-q1-results-pat-at-rs-13-92-crore-on-strong-revenue-growth-124080100739_1.html: 403 Client Error: Forbidden for url: https://www.business-standard.com/companies/results/arvind-fashions-q1-results-pat-at-rs-13-92-crore-on-strong-revenue-growth-124080100739_1.html\n",
            "Scraping: https://www.indiaretailing.com/2024/09/23/arvind-ltd-to-go-aggressive-on-growing-us-polo-assn-in-india/\n",
            "Error scraping https://www.exchange4media.com/people-movement-news/saloni-arora-elevated-to-business-head-at-arvind-fashions-limited-136771.html: 403 Client Error: Forbidden for url: https://www.exchange4media.com/people-movement-news/saloni-arora-elevated-to-business-head-at-arvind-fashions-limited-136771.html\n",
            "Scraping: https://www.medianews4u.com/arvind-limited-launches-campaign-with-dr-lakshyaraj-singh-mewar-as-primante-luxury-fabrics-ambassador/\n",
            "Scraping: https://deshgujarat.com/2024/05/27/thousands-of-laborers-of-arvind-mills-on-strike-gather-in-gandhinagar/\n",
            "Scraping: https://www.business-standard.com/markets/news/arvind-shares-jump-over-6-hits-record-high-after-q4-results-124050700635_1.html\n",
            "Error scraping https://www.business-standard.com/markets/news/arvind-shares-jump-over-6-hits-record-high-after-q4-results-124050700635_1.html: 403 Client Error: Forbidden for url: https://www.business-standard.com/markets/news/arvind-shares-jump-over-6-hits-record-high-after-q4-results-124050700635_1.html\n",
            "Scraping: https://www.indianretailer.com/brandlicense/archives/news/arvind-limited-taps-royal-heritage-primante-campaign-dr-lakshyaraj-singh-mewar.n3100\n",
            "Error scraping https://www.indianretailer.com/brandlicense/archives/news/arvind-limited-taps-royal-heritage-primante-campaign-dr-lakshyaraj-singh-mewar.n3100: 403 Client Error: Forbidden for url: https://www.indianretailer.com/brandlicense/archives/news/arvind-limited-taps-royal-heritage-primante-campaign-dr-lakshyaraj-singh-mewar.n3100\n",
            "Scraping: https://www.indianretailer.com/news/retail-india-news-arvind-ltd-revenue-profit-down-25-pc-q2-amid-tax-and-cost-pressures\n",
            "Error scraping https://www.indianretailer.com/news/retail-india-news-arvind-ltd-revenue-profit-down-25-pc-q2-amid-tax-and-cost-pressures: 403 Client Error: Forbidden for url: https://www.indianretailer.com/news/retail-india-news-arvind-ltd-revenue-profit-down-25-pc-q2-amid-tax-and-cost-pressures\n",
            "Scraping: https://www.business-standard.com/markets/news/arvind-share-price-jumps-3-after-workers-call-off-strike-at-santej-plant-124061300277_1.html\n",
            "Error scraping https://www.business-standard.com/markets/news/arvind-share-price-jumps-3-after-workers-call-off-strike-at-santej-plant-124061300277_1.html: 403 Client Error: Forbidden for url: https://www.business-standard.com/markets/news/arvind-share-price-jumps-3-after-workers-call-off-strike-at-santej-plant-124061300277_1.html\n",
            "Scraping: https://www.passionateinmarketing.com/arvind-limited-unveils-its-first-campaign-with-his-highness-dr-lakshyaraj-singh-mewar-as-brand-ambassador-for-primante-luxury-fabrics/\n",
            "Scraping: https://www.indianretailer.com/news/arvind-ltd-sees-3725-pc-decline-q1-profit-revenue-slips-12-pc-rs-18306-cr\n",
            "Scraping: https://www.business-standard.com/companies/news/arvind-retailers-q2fy25-results-pre-tax-profit-rises-19-to-rs-135-crore-124102800536_1.html\n",
            "Error scraping https://www.indianretailer.com/news/arvind-ltd-sees-3725-pc-decline-q1-profit-revenue-slips-12-pc-rs-18306-cr: 403 Client Error: Forbidden for url: https://www.indianretailer.com/news/arvind-ltd-sees-3725-pc-decline-q1-profit-revenue-slips-12-pc-rs-18306-cr\n",
            "Scraping: https://www.medianews4u.com/arvind-limited-names-dr-lakshyaraj-singh-mewar-as-primante-luxury-fabrics-brand-ambassador/\n",
            "Scraping: https://www.indiaretailing.com/2024/04/30/arvind-opens-2nd-megamart-in-maharashtra/\n",
            "Error scraping https://www.business-standard.com/companies/news/arvind-retailers-q2fy25-results-pre-tax-profit-rises-19-to-rs-135-crore-124102800536_1.html: 403 Client Error: Forbidden for url: https://www.business-standard.com/companies/news/arvind-retailers-q2fy25-results-pre-tax-profit-rises-19-to-rs-135-crore-124102800536_1.html\n",
            "Scraping: https://www.indiaretailing.com/2024/04/04/arvind-lakshyaraj-singh-mewar-udaipur/\n",
            "Scraping: https://www.business-standard.com/companies/news/arvind-retailers-q2fy25-results-pre-tax-profit-rises-19-to-rs-135-crore-124102800536_1.html\n",
            "Error scraping https://www.business-standard.com/companies/news/arvind-retailers-q2fy25-results-pre-tax-profit-rises-19-to-rs-135-crore-124102800536_1.html: 403 Client Error: Forbidden for url: https://www.business-standard.com/companies/news/arvind-retailers-q2fy25-results-pre-tax-profit-rises-19-to-rs-135-crore-124102800536_1.html\n",
            "Scraping: https://www.indianretailer.com/news/retail-india-news-arvind-ltd-revenue-profit-down-25-pc-q2-amid-tax-and-cost-pressures\n",
            "Error scraping https://www.indianretailer.com/news/retail-india-news-arvind-ltd-revenue-profit-down-25-pc-q2-amid-tax-and-cost-pressures: 403 Client Error: Forbidden for url: https://www.indianretailer.com/news/retail-india-news-arvind-ltd-revenue-profit-down-25-pc-q2-amid-tax-and-cost-pressures\n",
            "Scraping: https://www.indianretailer.com/news/arvind-ltd-sees-3725-pc-decline-q1-profit-revenue-slips-12-pc-rs-18306-cr\n",
            "Error scraping https://www.indianretailer.com/news/arvind-ltd-sees-3725-pc-decline-q1-profit-revenue-slips-12-pc-rs-18306-cr: 403 Client Error: Forbidden for url: https://www.indianretailer.com/news/arvind-ltd-sees-3725-pc-decline-q1-profit-revenue-slips-12-pc-rs-18306-cr\n",
            "Scraping: https://www.aninews.in/news/business/business/actyvai-welcomes-arvind-kathpalia-as-advisor-to-accelerate-future-growth20230227185039\n",
            "Scraping: https://www.indianretailer.com/news/arvind-ltd-sees-3725-pc-decline-q1-profit-revenue-slips-12-pc-rs-18306-cr\n",
            "Error scraping https://www.indianretailer.com/news/arvind-ltd-sees-3725-pc-decline-q1-profit-revenue-slips-12-pc-rs-18306-cr: 403 Client Error: Forbidden for url: https://www.indianretailer.com/news/arvind-ltd-sees-3725-pc-decline-q1-profit-revenue-slips-12-pc-rs-18306-cr\n",
            "Scraping: https://www.business-standard.com/companies/news/arvind-retailers-q2fy25-results-pre-tax-profit-rises-19-to-rs-135-crore-124102800536_1.html\n",
            "Error scraping https://www.business-standard.com/companies/news/arvind-retailers-q2fy25-results-pre-tax-profit-rises-19-to-rs-135-crore-124102800536_1.html: 403 Client Error: Forbidden for url: https://www.business-standard.com/companies/news/arvind-retailers-q2fy25-results-pre-tax-profit-rises-19-to-rs-135-crore-124102800536_1.html\n",
            "Scraping: https://www.politico.com/news/2023/10/10/ibm-ceo-artificial-intelligence-00120666\n",
            "Error scraping https://www.politico.com/news/2023/10/10/ibm-ceo-artificial-intelligence-00120666: 403 Client Error: Forbidden for url: https://www.politico.com/news/2023/10/10/ibm-ceo-artificial-intelligence-00120666\n",
            "Scraping: https://www.indianretailer.com/news/retail-india-news-arvind-ltd-revenue-profit-down-25-pc-q2-amid-tax-and-cost-pressures\n",
            "Scraping: https://www.business-standard.com/companies/news/singapore-s-xcelerate-picks-up-strategic-stake-in-governance-firm-stirrup-124040500691_1.html\n",
            "Error scraping https://www.indianretailer.com/news/retail-india-news-arvind-ltd-revenue-profit-down-25-pc-q2-amid-tax-and-cost-pressures: 403 Client Error: Forbidden for url: https://www.indianretailer.com/news/retail-india-news-arvind-ltd-revenue-profit-down-25-pc-q2-amid-tax-and-cost-pressures\n",
            "Scraping: https://www.indianretailer.com/news/arvind-ltd-sees-3725-pc-decline-q1-profit-revenue-slips-12-pc-rs-18306-cr\n",
            "Error scraping https://www.business-standard.com/companies/news/singapore-s-xcelerate-picks-up-strategic-stake-in-governance-firm-stirrup-124040500691_1.html: 403 Client Error: Forbidden for url: https://www.business-standard.com/companies/news/singapore-s-xcelerate-picks-up-strategic-stake-in-governance-firm-stirrup-124040500691_1.html\n",
            "Scraping: https://www.manufacturingtodayindia.com/dr-arvind-bodhankar-takes-helm-as-chief-sustainability-officer-at-arcelormittal-nippon-steel-india\n",
            "Error scraping https://www.indianretailer.com/news/arvind-ltd-sees-3725-pc-decline-q1-profit-revenue-slips-12-pc-rs-18306-cr: 403 Client Error: Forbidden for url: https://www.indianretailer.com/news/arvind-ltd-sees-3725-pc-decline-q1-profit-revenue-slips-12-pc-rs-18306-cr\n",
            "Scraping: https://www.indianretailer.com/news/retail-india-news-arvind-ltd-revenue-profit-down-25-pc-q2-amid-tax-and-cost-pressures\n",
            "Error scraping https://www.aninews.in/news/business/business/actyvai-welcomes-arvind-kathpalia-as-advisor-to-accelerate-future-growth20230227185039: 403 Client Error: Forbidden for url: https://www.aninews.in/news/business/business/actyvai-welcomes-arvind-kathpalia-as-advisor-to-accelerate-future-growth20230227185039\n",
            "Scraping: https://www.washingtonpost.com/technology/2024/08/19/artificial-intelligence-mayor-cheyenne-vic/\n",
            "Error scraping https://www.indianretailer.com/news/retail-india-news-arvind-ltd-revenue-profit-down-25-pc-q2-amid-tax-and-cost-pressures: 403 Client Error: Forbidden for url: https://www.indianretailer.com/news/retail-india-news-arvind-ltd-revenue-profit-down-25-pc-q2-amid-tax-and-cost-pressures\n",
            "Scraping: https://www.wsj.com/tech/ai/ai-risk-humanity-experts-thoughts-4b271757\n",
            "Scraping: https://www.indiaretailing.com/2023/11/26/the-next-phase-of-tech-will-have-data-at-its-core-satish-panchapakesan-arvind-fashions/\n",
            "Error scraping https://www.wsj.com/tech/ai/ai-risk-humanity-experts-thoughts-4b271757: 401 Client Error: HTTP Forbidden for url: https://www.wsj.com/tech/ai/ai-risk-humanity-experts-thoughts-4b271757\n",
            "Scraping: https://www.indianretailer.com/news/retail-india-news-arvind-ltd-revenue-profit-down-25-pc-q2-amid-tax-and-cost-pressures\n",
            "Error scraping https://www.indianretailer.com/news/retail-india-news-arvind-ltd-revenue-profit-down-25-pc-q2-amid-tax-and-cost-pressures: 403 Client Error: Forbidden for url: https://www.indianretailer.com/news/retail-india-news-arvind-ltd-revenue-profit-down-25-pc-q2-amid-tax-and-cost-pressures\n",
            "Scraping: https://www.indianretailer.com/news/arvind-ltd-sees-3725-pc-decline-q1-profit-revenue-slips-12-pc-rs-18306-cr\n",
            "Error scraping https://www.indianretailer.com/news/arvind-ltd-sees-3725-pc-decline-q1-profit-revenue-slips-12-pc-rs-18306-cr: 403 Client Error: Forbidden for url: https://www.indianretailer.com/news/arvind-ltd-sees-3725-pc-decline-q1-profit-revenue-slips-12-pc-rs-18306-cr\n",
            "Scraping: https://www.aninews.in/news/business/business/actyvai-welcomes-arvind-kathpalia-as-advisor-to-accelerate-future-growth20230227185039\n",
            "Error scraping https://www.manufacturingtodayindia.com/dr-arvind-bodhankar-takes-helm-as-chief-sustainability-officer-at-arcelormittal-nippon-steel-india: 403 Client Error: HTTP Forbidden for url: https://www.manufacturingtodayindia.com/dr-arvind-bodhankar-takes-helm-as-chief-sustainability-officer-at-arcelormittal-nippon-steel-india\n",
            "Scraping: https://www.business-standard.com/companies/news/arvind-retailers-q2fy25-results-pre-tax-profit-rises-19-to-rs-135-crore-124102800536_1.html\n",
            "Error scraping https://www.business-standard.com/companies/news/arvind-retailers-q2fy25-results-pre-tax-profit-rises-19-to-rs-135-crore-124102800536_1.html: 403 Client Error: Forbidden for url: https://www.business-standard.com/companies/news/arvind-retailers-q2fy25-results-pre-tax-profit-rises-19-to-rs-135-crore-124102800536_1.html\n",
            "Scraping: https://www.indianretailer.com/news/arvind-ltd-sees-3725-pc-decline-q1-profit-revenue-slips-12-pc-rs-18306-cr\n",
            "Error scraping https://www.indianretailer.com/news/arvind-ltd-sees-3725-pc-decline-q1-profit-revenue-slips-12-pc-rs-18306-cr: 403 Client Error: Forbidden for url: https://www.indianretailer.com/news/arvind-ltd-sees-3725-pc-decline-q1-profit-revenue-slips-12-pc-rs-18306-cr\n",
            "Scraping: https://www.gurufocus.com/news/2624320/caleres-inc-cal-q3-earnings-eps-at-119-revenue-hits-7409-million-both-miss-estimates\n",
            "Scraping: https://seekingalpha.com/article/4720925-after-the-2q24-stock-price-fall-caleres-trades-more-reasonably-but-is-not-an-opportunity\n",
            "Scraping: https://www.gurufocus.com/news/2522643/caleres-inc-cal-q2-2024-earnings-eps-of-085-misses-estimates-revenue-of-6833-million-falls-short\n",
            "Error scraping https://www.aninews.in/news/business/business/actyvai-welcomes-arvind-kathpalia-as-advisor-to-accelerate-future-growth20230227185039: 403 Client Error: Forbidden for url: https://www.aninews.in/news/business/business/actyvai-welcomes-arvind-kathpalia-as-advisor-to-accelerate-future-growth20230227185039\n",
            "Scraping: https://www.stltoday.com/news/local/business/arizona-woman-suing-clayton-based-caleres-for-spying-on-her-email-activity/article_6bc59b46-648d-11ef-8921-cf22573c360e.html\n",
            "Error scraping https://seekingalpha.com/article/4720925-after-the-2q24-stock-price-fall-caleres-trades-more-reasonably-but-is-not-an-opportunity: 403 Client Error: Forbidden for url: https://seekingalpha.com/article/4720925-after-the-2q24-stock-price-fall-caleres-trades-more-reasonably-but-is-not-an-opportunity\n",
            "Scraping: https://www.nasdaq.com/articles/ex-dividend-reminder-royal-caribbean-group-caleres-and-national-healthcare\n",
            "Error scraping https://www.stltoday.com/news/local/business/arizona-woman-suing-clayton-based-caleres-for-spying-on-her-email-activity/article_6bc59b46-648d-11ef-8921-cf22573c360e.html: 429 Client Error: Too Many Requests for url: https://www.stltoday.com/news/local/business/arizona-woman-suing-clayton-based-caleres-for-spying-on-her-email-activity/article_6bc59b46-648d-11ef-8921-cf22573c360e.html\n",
            "Scraping: https://www.riverfronttimes.com/news/claytons-furor-over-caleres-deal-has-gotten-ahead-of-the-facts-41669833\n",
            "Scraping: https://www.defenseworld.net/2024/12/27/barclays-plc-acquires-29057-shares-of-caleres-inc-nysecal.html\n",
            "Error scraping https://www.defenseworld.net/2024/12/27/barclays-plc-acquires-29057-shares-of-caleres-inc-nysecal.html: 404 Client Error: Not Found for url: https://www.defenseworld.net/2024/12/27/barclays-plc-acquires-29057-shares-of-caleres-inc-nysecal.html\n",
            "Error scraping https://www.washingtonpost.com/technology/2024/08/19/artificial-intelligence-mayor-cheyenne-vic/: HTTPSConnectionPool(host='www.washingtonpost.com', port=443): Read timed out. (read timeout=10)\n",
            "Scraping complete. Data saved. 163 successful, 0 failed.\n"
          ]
        }
      ],
      "source": [
        "# Multi-threading with a timeout to prevent infinite loops\n",
        "with ThreadPoolExecutor(max_workers=5) as executor:\n",
        "    future_to_url = {executor.submit(process_article, row[0], row[1][\"link\"]): row[0] for row in missing_articles.iterrows()}\n",
        "\n",
        "    results = []\n",
        "    for future in as_completed(future_to_url, timeout=300):  # Global timeout of 300s\n",
        "        try:\n",
        "            idx, article_text = future.result(timeout=15)  # Each request has max 15s\n",
        "            results.append((idx, article_text))\n",
        "        except Exception as e:\n",
        "            print(f\"Thread failed: {e}\")\n",
        "\n",
        "# Store results in DataFrame\n",
        "for idx, article_text in results:\n",
        "    DF.at[idx, \"Full_Article\"] = article_text\n",
        "\n",
        "# Save progress\n",
        "DF.to_csv(\"Updated_Articles.csv\", index=False, encoding=\"utf-8\")\n",
        "print(f\"Scraping complete. Data saved. {len(results)} successful, {len(missing_articles) - len(results)} failed.\")"
      ]
    },
    {
      "cell_type": "code",
      "execution_count": 20,
      "metadata": {
        "id": "A_juw8FSbnYG"
      },
      "outputs": [],
      "source": [
        "# Reload the updated DataFrame\n",
        "df_updated = pd.read_csv(\"Updated_Articles.csv\", encoding=\"utf-8\")"
      ]
    },
    {
      "cell_type": "code",
      "execution_count": 21,
      "metadata": {
        "id": "rREY9YchV3DT"
      },
      "outputs": [],
      "source": [
        "#df_updated[\"published_datetime_utc\"] = pd.to_datetime(df_updated[\"published_datetime_utc\"], errors=\"coerce\")"
      ]
    },
    {
      "cell_type": "code",
      "execution_count": 22,
      "metadata": {
        "id": "yyu4pFrgWDrg"
      },
      "outputs": [],
      "source": [
        "# Extract the year\n",
        "#df_updated[\"year\"] = df_updated[\"published_datetime_utc\"].dt.year\n",
        "\n",
        "# Find unique years present in the dataset\n",
        "#unique_years = df_updated[\"year\"].dropna().unique()\n",
        "\n",
        "#print(\"Unique years in the dataset:\", unique_years)"
      ]
    },
    {
      "cell_type": "code",
      "execution_count": 23,
      "metadata": {
        "id": "jWRWLLlpUstQ"
      },
      "outputs": [],
      "source": [
        "#files.download(\"Updated_Articles.csv\")"
      ]
    },
    {
      "cell_type": "code",
      "execution_count": 24,
      "metadata": {
        "id": "65wGyGTPWPpd"
      },
      "outputs": [],
      "source": [
        "#df_updated.info()"
      ]
    },
    {
      "cell_type": "code",
      "execution_count": 25,
      "metadata": {
        "id": "Z7l-mgLKXL3x"
      },
      "outputs": [],
      "source": [
        "#df = pd.read_csv(\"Updated_Articles.csv\", delimiter=\",\", encoding=\"utf-8\", on_bad_lines=\"skip\")\n",
        "#print(df.shape)  # Check number of rows and columns"
      ]
    },
    {
      "cell_type": "code",
      "execution_count": 26,
      "metadata": {
        "id": "4r3mu4I3bqBN"
      },
      "outputs": [],
      "source": [
        "# Find missing articles again\n",
        "missing_articles_after = df_updated[df_updated[\"Full_Article\"].isnull()]"
      ]
    },
    {
      "cell_type": "code",
      "execution_count": 27,
      "metadata": {
        "colab": {
          "base_uri": "https://localhost:8080/"
        },
        "id": "8CfEeEDxbsma",
        "outputId": "caa6d3dd-bdab-40f3-9f05-4deabb85e2ac"
      },
      "outputs": [
        {
          "output_type": "stream",
          "name": "stdout",
          "text": [
            "Total missing articles after scraping: 105\n"
          ]
        }
      ],
      "source": [
        "# Print the number of missing articles\n",
        "print(f\"Total missing articles after scraping: {len(missing_articles_after)}\")"
      ]
    },
    {
      "cell_type": "code",
      "execution_count": 28,
      "metadata": {
        "colab": {
          "base_uri": "https://localhost:8080/"
        },
        "id": "3wE8K1w9bwgE",
        "outputId": "75cf568c-fae8-4780-fe77-3868f80fa845"
      },
      "outputs": [
        {
          "output_type": "stream",
          "name": "stdout",
          "text": [
            "<class 'pandas.core.frame.DataFrame'>\n",
            "RangeIndex: 854 entries, 0 to 853\n",
            "Data columns (total 13 columns):\n",
            " #   Column                  Non-Null Count  Dtype \n",
            "---  ------                  --------------  ----- \n",
            " 0   title                   854 non-null    object\n",
            " 1   link                    854 non-null    object\n",
            " 2   photo_url               833 non-null    object\n",
            " 3   thumbnail_url           833 non-null    object\n",
            " 4   published_datetime_utc  854 non-null    object\n",
            " 5   authors                 854 non-null    object\n",
            " 6   source_url              854 non-null    object\n",
            " 7   source_name             854 non-null    object\n",
            " 8   source_logo_url         435 non-null    object\n",
            " 9   source_favicon_url      854 non-null    object\n",
            " 10  source_publication_id   854 non-null    object\n",
            " 11  related_topics          854 non-null    object\n",
            " 12  Full_Article            749 non-null    object\n",
            "dtypes: object(13)\n",
            "memory usage: 86.9+ KB\n"
          ]
        }
      ],
      "source": [
        "df_updated.info()"
      ]
    },
    {
      "cell_type": "markdown",
      "metadata": {
        "id": "4p-Da7Ljb7o_"
      },
      "source": [
        "Before web scrapping, We had 163 missing articles and now we have 74 missing articles. 74 missing articles were not captured due to either article is no longer on website or Website Blocks Scraping. Therefore, we will proceed with available date"
      ]
    },
    {
      "cell_type": "code",
      "execution_count": 29,
      "metadata": {
        "colab": {
          "base_uri": "https://localhost:8080/"
        },
        "id": "kOb9XavneMp0",
        "outputId": "ef058c10-6ed9-4262-9d42-12b4edfd16e7"
      },
      "outputs": [
        {
          "output_type": "stream",
          "name": "stdout",
          "text": [
            "Updated dataset size: 749 (Removed 105 missing articles)\n",
            "Updated dataset saved as 'Updated_Articles.csv'.\n"
          ]
        }
      ],
      "source": [
        "# Remove rows where 'Full_Article' is null\n",
        "df_updated.dropna(subset=[\"Full_Article\"], inplace = True)\n",
        "\n",
        "# Reset index after dropping rows\n",
        "df_updated.reset_index(drop=True, inplace=True)\n",
        "\n",
        "# Check updated dataset size\n",
        "print(f\"Updated dataset size: {len(df_updated)} (Removed {854 - len(df_updated)} missing articles)\")\n",
        "\n",
        "# Save the cleaned dataset\n",
        "df_updated.to_csv(\"Updated_Articles.csv\", index=False, encoding=\"utf-8\")\n",
        "print(\"Updated dataset saved as 'Updated_Articles.csv'.\")"
      ]
    },
    {
      "cell_type": "markdown",
      "metadata": {
        "id": "D3EETKDgqcuG"
      },
      "source": [
        "#Lets filter out the articles based on given suppliers in assignment"
      ]
    },
    {
      "cell_type": "code",
      "execution_count": 30,
      "metadata": {
        "id": "utf_0SH8qino"
      },
      "outputs": [],
      "source": [
        "# Load spaCy's Named Entity Recognition (NER) model\n",
        "nlp = spacy.load(\"en_core_web_sm\")"
      ]
    },
    {
      "cell_type": "code",
      "execution_count": 31,
      "metadata": {
        "id": "LQuQXnG8qle7"
      },
      "outputs": [],
      "source": [
        "df1 = pd.read_csv(\"Updated_Articles.csv\")"
      ]
    },
    {
      "cell_type": "code",
      "execution_count": 32,
      "metadata": {
        "id": "fSeYLt2Aqwug"
      },
      "outputs": [],
      "source": [
        "# List of supplier names (for exact and fuzzy matching)\n",
        "suppliers = [\n",
        "    \"Welspun Living Limited\",\n",
        "    \"Teejay Lanka PLC\",\n",
        "    \"Arvind Limited\",\n",
        "    \"Caleres, Inc.\",\n",
        "    \"Interloop Limited\",\n",
        "    \"Kitex Garments Limited\",\n",
        "    \"ThredUp Inc.\",\n",
        "    \"G-III Apparel Group, Ltd.\",\n",
        "    \"Mint Velvet\",\n",
        "    \"White Stuff Limited\"\n",
        "]"
      ]
    },
    {
      "cell_type": "code",
      "execution_count": 33,
      "metadata": {
        "id": "o6LDsedCq5KU"
      },
      "outputs": [],
      "source": [
        "def extract_suppliers(text):\n",
        "  if pd.isna(text):  # Handle NaN values\n",
        "        return []\n",
        "\n",
        "  found_suppliers = set()\n",
        "\n",
        "  # Named Entity Recognition (NER) for organizations\n",
        "  doc = nlp(text)\n",
        "  for ent in doc.ents:\n",
        "          if ent.label_ == \"ORG\":  # Check if the entity is an organization\n",
        "                      for supplier in suppliers:\n",
        "                                        if supplier.lower() in ent.text.lower():  # Exact match\n",
        "                                          found_suppliers.add(supplier)\n",
        "                                        elif fuzz.partial_ratio(supplier.lower(), ent.text.lower()) > 85:  # Fuzzy matching\n",
        "                                          found_suppliers.add(supplier)\n",
        "\n",
        "  return list(found_suppliers)"
      ]
    },
    {
      "cell_type": "code",
      "execution_count": 34,
      "metadata": {
        "id": "dRLAscWGu4C5"
      },
      "outputs": [],
      "source": [
        "# Apply function to extract suppliers from the 'content' column\n",
        "df1[\"suppliers\"] = df1[\"Full_Article\"].apply(extract_suppliers)"
      ]
    },
    {
      "cell_type": "code",
      "execution_count": 35,
      "metadata": {
        "id": "0vh47V50rq0D"
      },
      "outputs": [],
      "source": [
        "# Filter only rows where suppliers were identified\n",
        "filtered_df = df1[df1[\"suppliers\"].apply(lambda x: len(x) > 0)]"
      ]
    },
    {
      "cell_type": "code",
      "execution_count": 36,
      "metadata": {
        "id": "YCpTxb54rxUU"
      },
      "outputs": [],
      "source": [
        "# Save filtered data\n",
        "filtered_df.to_csv(\"Filtered_Articles.csv\", index=False)\n",
        "\n"
      ]
    },
    {
      "cell_type": "code",
      "execution_count": 37,
      "metadata": {
        "colab": {
          "base_uri": "https://localhost:8080/"
        },
        "id": "crxuEEdUxUxv",
        "outputId": "ee69a270-281d-4306-daa0-a7919fc9f85a"
      },
      "outputs": [
        {
          "output_type": "stream",
          "name": "stdout",
          "text": [
            "<class 'pandas.core.frame.DataFrame'>\n",
            "Index: 544 entries, 0 to 747\n",
            "Data columns (total 14 columns):\n",
            " #   Column                  Non-Null Count  Dtype \n",
            "---  ------                  --------------  ----- \n",
            " 0   title                   544 non-null    object\n",
            " 1   link                    544 non-null    object\n",
            " 2   photo_url               534 non-null    object\n",
            " 3   thumbnail_url           534 non-null    object\n",
            " 4   published_datetime_utc  544 non-null    object\n",
            " 5   authors                 544 non-null    object\n",
            " 6   source_url              544 non-null    object\n",
            " 7   source_name             544 non-null    object\n",
            " 8   source_logo_url         244 non-null    object\n",
            " 9   source_favicon_url      544 non-null    object\n",
            " 10  source_publication_id   544 non-null    object\n",
            " 11  related_topics          544 non-null    object\n",
            " 12  Full_Article            544 non-null    object\n",
            " 13  suppliers               544 non-null    object\n",
            "dtypes: object(14)\n",
            "memory usage: 63.8+ KB\n"
          ]
        }
      ],
      "source": [
        "filtered_df.info()"
      ]
    },
    {
      "cell_type": "code",
      "execution_count": 38,
      "metadata": {
        "id": "_6Y-0axDB75_"
      },
      "outputs": [],
      "source": [
        "df = filtered_df[['title','Full_Article']]"
      ]
    },
    {
      "cell_type": "code",
      "execution_count": 39,
      "metadata": {
        "colab": {
          "base_uri": "https://localhost:8080/",
          "height": 206
        },
        "id": "A0Am_2Zfxv8d",
        "outputId": "6add588a-1054-403d-ae87-c0ea176ae532"
      },
      "outputs": [
        {
          "output_type": "execute_result",
          "data": {
            "text/plain": [
              "                                               title  \\\n",
              "0  Hobbs-owner acquires White Stuff in bid to boo...   \n",
              "1            South Africa’s TFG acquires White Stuff   \n",
              "2  Fiftysomethings in pink bobble jumpers: how Wh...   \n",
              "3  TFG acquires fashion and lifestyle retailer, W...   \n",
              "4  Whistles owner The Foschini Group buys White S...   \n",
              "\n",
              "                                        Full_Article  \n",
              "0  TFG London, the parent company behind Hobbs, P...  \n",
              "1  South African retail group TFG, through its Lo...  \n",
              "2  ‘I’m just getting going,” says Jo Jenkins, the...  \n",
              "3  TFG acquires fashion and lifestyle retailer, W...  \n",
              "4  Whistles owner The Foschini Group buys White S...  "
            ],
            "text/html": [
              "\n",
              "  <div id=\"df-1d9f0d24-ca54-4374-9c6e-41575e0dcad9\" class=\"colab-df-container\">\n",
              "    <div>\n",
              "<style scoped>\n",
              "    .dataframe tbody tr th:only-of-type {\n",
              "        vertical-align: middle;\n",
              "    }\n",
              "\n",
              "    .dataframe tbody tr th {\n",
              "        vertical-align: top;\n",
              "    }\n",
              "\n",
              "    .dataframe thead th {\n",
              "        text-align: right;\n",
              "    }\n",
              "</style>\n",
              "<table border=\"1\" class=\"dataframe\">\n",
              "  <thead>\n",
              "    <tr style=\"text-align: right;\">\n",
              "      <th></th>\n",
              "      <th>title</th>\n",
              "      <th>Full_Article</th>\n",
              "    </tr>\n",
              "  </thead>\n",
              "  <tbody>\n",
              "    <tr>\n",
              "      <th>0</th>\n",
              "      <td>Hobbs-owner acquires White Stuff in bid to boo...</td>\n",
              "      <td>TFG London, the parent company behind Hobbs, P...</td>\n",
              "    </tr>\n",
              "    <tr>\n",
              "      <th>1</th>\n",
              "      <td>South Africa’s TFG acquires White Stuff</td>\n",
              "      <td>South African retail group TFG, through its Lo...</td>\n",
              "    </tr>\n",
              "    <tr>\n",
              "      <th>2</th>\n",
              "      <td>Fiftysomethings in pink bobble jumpers: how Wh...</td>\n",
              "      <td>‘I’m just getting going,” says Jo Jenkins, the...</td>\n",
              "    </tr>\n",
              "    <tr>\n",
              "      <th>3</th>\n",
              "      <td>TFG acquires fashion and lifestyle retailer, W...</td>\n",
              "      <td>TFG acquires fashion and lifestyle retailer, W...</td>\n",
              "    </tr>\n",
              "    <tr>\n",
              "      <th>4</th>\n",
              "      <td>Whistles owner The Foschini Group buys White S...</td>\n",
              "      <td>Whistles owner The Foschini Group buys White S...</td>\n",
              "    </tr>\n",
              "  </tbody>\n",
              "</table>\n",
              "</div>\n",
              "    <div class=\"colab-df-buttons\">\n",
              "\n",
              "  <div class=\"colab-df-container\">\n",
              "    <button class=\"colab-df-convert\" onclick=\"convertToInteractive('df-1d9f0d24-ca54-4374-9c6e-41575e0dcad9')\"\n",
              "            title=\"Convert this dataframe to an interactive table.\"\n",
              "            style=\"display:none;\">\n",
              "\n",
              "  <svg xmlns=\"http://www.w3.org/2000/svg\" height=\"24px\" viewBox=\"0 -960 960 960\">\n",
              "    <path d=\"M120-120v-720h720v720H120Zm60-500h600v-160H180v160Zm220 220h160v-160H400v160Zm0 220h160v-160H400v160ZM180-400h160v-160H180v160Zm440 0h160v-160H620v160ZM180-180h160v-160H180v160Zm440 0h160v-160H620v160Z\"/>\n",
              "  </svg>\n",
              "    </button>\n",
              "\n",
              "  <style>\n",
              "    .colab-df-container {\n",
              "      display:flex;\n",
              "      gap: 12px;\n",
              "    }\n",
              "\n",
              "    .colab-df-convert {\n",
              "      background-color: #E8F0FE;\n",
              "      border: none;\n",
              "      border-radius: 50%;\n",
              "      cursor: pointer;\n",
              "      display: none;\n",
              "      fill: #1967D2;\n",
              "      height: 32px;\n",
              "      padding: 0 0 0 0;\n",
              "      width: 32px;\n",
              "    }\n",
              "\n",
              "    .colab-df-convert:hover {\n",
              "      background-color: #E2EBFA;\n",
              "      box-shadow: 0px 1px 2px rgba(60, 64, 67, 0.3), 0px 1px 3px 1px rgba(60, 64, 67, 0.15);\n",
              "      fill: #174EA6;\n",
              "    }\n",
              "\n",
              "    .colab-df-buttons div {\n",
              "      margin-bottom: 4px;\n",
              "    }\n",
              "\n",
              "    [theme=dark] .colab-df-convert {\n",
              "      background-color: #3B4455;\n",
              "      fill: #D2E3FC;\n",
              "    }\n",
              "\n",
              "    [theme=dark] .colab-df-convert:hover {\n",
              "      background-color: #434B5C;\n",
              "      box-shadow: 0px 1px 3px 1px rgba(0, 0, 0, 0.15);\n",
              "      filter: drop-shadow(0px 1px 2px rgba(0, 0, 0, 0.3));\n",
              "      fill: #FFFFFF;\n",
              "    }\n",
              "  </style>\n",
              "\n",
              "    <script>\n",
              "      const buttonEl =\n",
              "        document.querySelector('#df-1d9f0d24-ca54-4374-9c6e-41575e0dcad9 button.colab-df-convert');\n",
              "      buttonEl.style.display =\n",
              "        google.colab.kernel.accessAllowed ? 'block' : 'none';\n",
              "\n",
              "      async function convertToInteractive(key) {\n",
              "        const element = document.querySelector('#df-1d9f0d24-ca54-4374-9c6e-41575e0dcad9');\n",
              "        const dataTable =\n",
              "          await google.colab.kernel.invokeFunction('convertToInteractive',\n",
              "                                                    [key], {});\n",
              "        if (!dataTable) return;\n",
              "\n",
              "        const docLinkHtml = 'Like what you see? Visit the ' +\n",
              "          '<a target=\"_blank\" href=https://colab.research.google.com/notebooks/data_table.ipynb>data table notebook</a>'\n",
              "          + ' to learn more about interactive tables.';\n",
              "        element.innerHTML = '';\n",
              "        dataTable['output_type'] = 'display_data';\n",
              "        await google.colab.output.renderOutput(dataTable, element);\n",
              "        const docLink = document.createElement('div');\n",
              "        docLink.innerHTML = docLinkHtml;\n",
              "        element.appendChild(docLink);\n",
              "      }\n",
              "    </script>\n",
              "  </div>\n",
              "\n",
              "\n",
              "<div id=\"df-7f321036-69a5-42d8-9abd-1160ba1d0579\">\n",
              "  <button class=\"colab-df-quickchart\" onclick=\"quickchart('df-7f321036-69a5-42d8-9abd-1160ba1d0579')\"\n",
              "            title=\"Suggest charts\"\n",
              "            style=\"display:none;\">\n",
              "\n",
              "<svg xmlns=\"http://www.w3.org/2000/svg\" height=\"24px\"viewBox=\"0 0 24 24\"\n",
              "     width=\"24px\">\n",
              "    <g>\n",
              "        <path d=\"M19 3H5c-1.1 0-2 .9-2 2v14c0 1.1.9 2 2 2h14c1.1 0 2-.9 2-2V5c0-1.1-.9-2-2-2zM9 17H7v-7h2v7zm4 0h-2V7h2v10zm4 0h-2v-4h2v4z\"/>\n",
              "    </g>\n",
              "</svg>\n",
              "  </button>\n",
              "\n",
              "<style>\n",
              "  .colab-df-quickchart {\n",
              "      --bg-color: #E8F0FE;\n",
              "      --fill-color: #1967D2;\n",
              "      --hover-bg-color: #E2EBFA;\n",
              "      --hover-fill-color: #174EA6;\n",
              "      --disabled-fill-color: #AAA;\n",
              "      --disabled-bg-color: #DDD;\n",
              "  }\n",
              "\n",
              "  [theme=dark] .colab-df-quickchart {\n",
              "      --bg-color: #3B4455;\n",
              "      --fill-color: #D2E3FC;\n",
              "      --hover-bg-color: #434B5C;\n",
              "      --hover-fill-color: #FFFFFF;\n",
              "      --disabled-bg-color: #3B4455;\n",
              "      --disabled-fill-color: #666;\n",
              "  }\n",
              "\n",
              "  .colab-df-quickchart {\n",
              "    background-color: var(--bg-color);\n",
              "    border: none;\n",
              "    border-radius: 50%;\n",
              "    cursor: pointer;\n",
              "    display: none;\n",
              "    fill: var(--fill-color);\n",
              "    height: 32px;\n",
              "    padding: 0;\n",
              "    width: 32px;\n",
              "  }\n",
              "\n",
              "  .colab-df-quickchart:hover {\n",
              "    background-color: var(--hover-bg-color);\n",
              "    box-shadow: 0 1px 2px rgba(60, 64, 67, 0.3), 0 1px 3px 1px rgba(60, 64, 67, 0.15);\n",
              "    fill: var(--button-hover-fill-color);\n",
              "  }\n",
              "\n",
              "  .colab-df-quickchart-complete:disabled,\n",
              "  .colab-df-quickchart-complete:disabled:hover {\n",
              "    background-color: var(--disabled-bg-color);\n",
              "    fill: var(--disabled-fill-color);\n",
              "    box-shadow: none;\n",
              "  }\n",
              "\n",
              "  .colab-df-spinner {\n",
              "    border: 2px solid var(--fill-color);\n",
              "    border-color: transparent;\n",
              "    border-bottom-color: var(--fill-color);\n",
              "    animation:\n",
              "      spin 1s steps(1) infinite;\n",
              "  }\n",
              "\n",
              "  @keyframes spin {\n",
              "    0% {\n",
              "      border-color: transparent;\n",
              "      border-bottom-color: var(--fill-color);\n",
              "      border-left-color: var(--fill-color);\n",
              "    }\n",
              "    20% {\n",
              "      border-color: transparent;\n",
              "      border-left-color: var(--fill-color);\n",
              "      border-top-color: var(--fill-color);\n",
              "    }\n",
              "    30% {\n",
              "      border-color: transparent;\n",
              "      border-left-color: var(--fill-color);\n",
              "      border-top-color: var(--fill-color);\n",
              "      border-right-color: var(--fill-color);\n",
              "    }\n",
              "    40% {\n",
              "      border-color: transparent;\n",
              "      border-right-color: var(--fill-color);\n",
              "      border-top-color: var(--fill-color);\n",
              "    }\n",
              "    60% {\n",
              "      border-color: transparent;\n",
              "      border-right-color: var(--fill-color);\n",
              "    }\n",
              "    80% {\n",
              "      border-color: transparent;\n",
              "      border-right-color: var(--fill-color);\n",
              "      border-bottom-color: var(--fill-color);\n",
              "    }\n",
              "    90% {\n",
              "      border-color: transparent;\n",
              "      border-bottom-color: var(--fill-color);\n",
              "    }\n",
              "  }\n",
              "</style>\n",
              "\n",
              "  <script>\n",
              "    async function quickchart(key) {\n",
              "      const quickchartButtonEl =\n",
              "        document.querySelector('#' + key + ' button');\n",
              "      quickchartButtonEl.disabled = true;  // To prevent multiple clicks.\n",
              "      quickchartButtonEl.classList.add('colab-df-spinner');\n",
              "      try {\n",
              "        const charts = await google.colab.kernel.invokeFunction(\n",
              "            'suggestCharts', [key], {});\n",
              "      } catch (error) {\n",
              "        console.error('Error during call to suggestCharts:', error);\n",
              "      }\n",
              "      quickchartButtonEl.classList.remove('colab-df-spinner');\n",
              "      quickchartButtonEl.classList.add('colab-df-quickchart-complete');\n",
              "    }\n",
              "    (() => {\n",
              "      let quickchartButtonEl =\n",
              "        document.querySelector('#df-7f321036-69a5-42d8-9abd-1160ba1d0579 button');\n",
              "      quickchartButtonEl.style.display =\n",
              "        google.colab.kernel.accessAllowed ? 'block' : 'none';\n",
              "    })();\n",
              "  </script>\n",
              "</div>\n",
              "\n",
              "    </div>\n",
              "  </div>\n"
            ],
            "application/vnd.google.colaboratory.intrinsic+json": {
              "type": "dataframe",
              "variable_name": "df",
              "summary": "{\n  \"name\": \"df\",\n  \"rows\": 544,\n  \"fields\": [\n    {\n      \"column\": \"title\",\n      \"properties\": {\n        \"dtype\": \"string\",\n        \"num_unique_values\": 340,\n        \"samples\": [\n          \"A comprehensive analysis of India's textile stocks in stock market\",\n          \"Strong Q4 net profit growth boosts Teejay Lanka\\u2019s outlook for year ahead\",\n          \"Teejay reforesting continues strong momentum with WNPS PLANT\"\n        ],\n        \"semantic_type\": \"\",\n        \"description\": \"\"\n      }\n    },\n    {\n      \"column\": \"Full_Article\",\n      \"properties\": {\n        \"dtype\": \"string\",\n        \"num_unique_values\": 343,\n        \"samples\": [\n          \"Ahmedabad: The \\u2018illegal\\u2019 strike by workers at homegrown textile conglomerate, Arvind Limited\\u2019s Santej factory, caused its profits to nosedive by 40% in the first quarter of the financial year 2024-25.\\nAs the strike affected the company\\u2019s main businesses, including the woven segment, denim segment, and the industrial and human protection parts of the advanced materials segment, the company\\u2019s profits plunged to 39 crore during the quarter as compared to 65 crore in the year-ago period of FY 2024.\\nDemanding higher wages, workers at the factory went on strike for 21 days. It had an approximate impact of 200 crore on the company\\u2019s revenues and 60 crore on its EBITDA, including about 11 crore in increased costs such as air freight and additional worker costs incurred to mitigate the strike\\u2019s effects.\\nThe textile retailer posted an overall revenue of 1,831 crore during the quarter and an EBITDA of 150 crore.\\n\\u201cWhile the company maintained the gross margin for all the businesses, the EBITDA margin had a significant reduction due to a decline in volume and resultant under-absorption of elevated overheads. We are taking measures to optimise cost wherever possible to safeguard the margin in quarters ahead,\\u201d a company statement said.\\nInflationary pressures also had a grave impact on Arvind Limited\\u2019s quarterly performance.\\n\\u201cThe financial performance and growth of Arvind Limited in Q1 of FY25 were impacted by two unrelated events: the National general election and an illegal worker\\u2019s unrest. The unrest impaired the performance at the Santej factory, our largest textile facility, for 21 days. The strike has been called off, and workers have gradually resumed duty, restoring normalcy to our operations,\\u201d the company said in a statement.\\nArvind Limited\\u2019s share price closed at 374.10 apiece on the BSE on Monday, down 3.26% against its previous close of 386.7 apiece.\\nWe also published the following articles recently\\nNestle India profit rises 7% to Rs 746.6 crore in June quarterFMCG giant Nestle India reported a 6.9% rise in net profit to Rs 746.60 crore for the quarter ending June 2024, compared to Rs 698.34 crore the previous year. Revenue from product sales increased by 3.75% to Rs 4,792.97 crore. Domestic sales grew by 4.24%, while exports declined by 7.17%. Adani Wilmar posts Rs 313 crore profit in April-June quarter on higher incomeAdani Wilmar, a joint venture between Adani Group and Wilmar, reported a consolidated net profit of Rs 313.20 crore for Q1 of this fiscal, compared to a net loss of Rs 78.92 crore in the same period last year. Their total income increased to Rs 14,229.87 crore from Rs 12,994.18 crore, driven by higher revenue. Cipla revenue up 7% in first quarterCipla saw a 7% rise in revenue to Rs 6,694 crore and an 18% year-on-year increase in net profit to Rs 1,178 crore for Q1 ending June 30, 2024. The quarter benefited from strong India and US operations. Revenue growth in the US hit an all-time high at $250 million, driven by a differentiated portfolio.\",\n          \"Monday Feb 10, 2025\\nFriday, 17 May 2024 00:47 - - {{hitsCtrl.values.hits}}\\nChairman Ajit Gunewardene (left) and CEO Pubudu De Silva\\nSri Lanka\\u2019s first multinational textile manufacturer has reported net profit of Rs. 549.1 million for the three months ending 31 March 2024, up 260% over the corresponding quarter of the previous year and a 15% improvement over the preceding quarter.\\nDespite an increase in sales volumes, the Group\\u2019s revenue for the quarter, at Rs 15.3 billion, was down 4% over the figure for the third quarter of the year and 12% lower than the revenue of the corresponding quarter of the previous year. This was due to the appreciation of the Sri Lanka Rupee.\\nFor the year ending 31 March 2024, Teejay Lanka reported revenue of Rs. 60.8 billion, profit before tax of Rs. 1.6 billion, and net profit of Rs. 1.1 billion, reflecting declines of 28%, 49% and 48% respectively over 2022-23 as a result of the softening of the global market conditions during the year.\\nNevertheless, the Group ended the financial year with a strong balance sheet with a cash and cash equivalents balance of Rs. 8.9 billion and a net assets base of Rs. 30.1 billion. Teejay\\u2019s net assets value per share of Rs. 42 was lower by 6% when compared to the corresponding quarter, stemming from the strengthening of the Rupee against the Dollar, the Group said.\\nTeejay Lanka CEO Pubudu De Silva said: \\u201cThe Group has reported gross profit of Rs. 1.5 billion representing a year-on-year increase of 27% and a 17% increase when compared to the third quarter, as a result of the effective utilisation of the Group\\u2019s capacity at its two locations. Further optimisation of capacity utilisation and operational efficiency and stability in yarn prices have positively contributed to this growth, strengthening our confidence for the year ahead.\\u201d\\nTeejay Lanka Chairman Ajit Gunewardene said it was encouraging to note the success of the multifaceted strategic initiatives undertaken to reverse the losses of the first quarter and to respond to market dynamics.\\n\\u201cThe Group\\u2019s long-term priorities include digitalization, establishing and executing a robust ESG framework, reducing costs, developing new products, enhancing synthetic capacity, and uplifting and empowering human capital to enhance resourcefulness. These strategies are expected to come into effect in the current financial year, indicating promising prospects for the future and enabling the Group to mitigate the impact of identified pressures, volatilities, and challenges,\\u201d Gunawardene added,\\nThe Teejay Group owns manufacturing facilities in Sri Lanka and India, along with a state-of-the-art printing facility in Sri Lanka.\\nDiscover Kapruka, the leading online shopping platform in Sri Lanka, where you can conveniently send Gifts and Flowers to your loved ones for any event including Valentine \\u2019s Day. Explore a wide range of popular Shopping Categories on Kapruka, including Toys, Groceries, Electronics, Birthday Cakes, Fruits, Chocolates, Flower Bouquets, Clothing, Watches, Lingerie, Gift Sets and Jewellery. Also if you\\u2019re interested in selling with Kapruka, Partner Central by Kapruka is the best solution to start with. Moreover, through Kapruka Global Shop, you can also enjoy the convenience of purchasing products from renowned platforms like Amazon and eBay and have them delivered to Sri Lanka.\\nDiscover Kapruka, the leading online shopping platform in Sri Lanka, where you can conveniently send Gifts and Flowers to your loved ones for any event including Valentine \\u2019s Day. Explore a wide range of popular Shopping Categories on Kapruka, including Toys, Groceries, Electronics, Birthday Cakes, Fruits, Chocolates, Flower Bouquets, Clothing, Watches, Lingerie, Gift Sets and Jewellery. Also if you\\u2019re interested in selling with Kapruka, Partner Central by Kapruka is the best solution to start with. Moreover, through Kapruka Global Shop, you can also enjoy the convenience of purchasing products from renowned platforms like Amazon and eBay and have them delivered to Sri Lanka.\",\n          \"Business\\nTeejay reforesting continues strong momentum with WNPS PLANT\\nTeejay Lanka PLC, in collaboration with the Wildlife and Nature Protection Society (WNPS) through its PLANT initiative, continues to drive a significant ecological restoration project along the Maskeli Oya in Sri Lanka. This effort, part of Teejay\\u2019s \\u2018Abhivarah 2030\\u2019 sustainability road map, focuses on reforesting degraded areas to create a 9km forest corridor, restoring the riparian ecosystem and enhancing biodiversity. With 2,650 native trees already planted, the project also generates valuable carbon credits while addressing environmental challenges through community-driven efforts and scientific monitoring, highlighting the role of the private sector in advancing sustainable land management practices.\\nTeams from Teejay Lanka PLC and the WNPS PLANT teams recently engaged in an inspection and replanting visit to the Gouravilla Estate of the Horana Plantations Group, who are part of Hayleys Plantations. The teams added 300 new plants to the location that day and reviewed the progress of the efforts.\\n\\u201cThe overarching goal of this project by WNPS PLANT (www.plantsl.org) in partnership with Horana Plantations, is to establish a nine-km forest corridor along the Maskeli Oya, enhancing habitat connectivity across the estate lands. Five estates are covered within this corridor, including the Gouravilla segment, and the banks of the Oya will be reforested with native trees sourced from selected nurseries,\\u201d a news release connected with the initiative said.\\n\\u201cThe reforestation is community-driven, with community people employed to carry out planting and maintenance activities. Despite the challenges posed by extreme weather conditions and pest attacks, over 2,650 trees have already been planted in the Gouravilla segment alone in less than a year. To protect young saplings from herbivory, plant guards have been installed, and regular watering during dry spells ensures their survival. Our field team conducts routine monitoring to assess the health and progress of the planted trees, ensuring that the reforestation efforts are on track.\\u201d\\nThe release explained this project is dedicated to restoring the riparian ecosystem along the Maskeli Oya, an important tributary of the Kelani River, originating from the Peak Wilderness Nature Reserve. The initiative aims to improve the environmental conditions supporting the health of Kelani valley basin which is a key focus area for Teejay. These objectives are achieved by improving the riparian forest ecosystem by planting native montane forest species suited to the unique geoclimatic conditions of the Upcot Valley. A rapid biodiversity assessment across the entire project site revealed the presence of 70 flowering plant species and 99 faunal species, encompassing mammals, birds, reptiles, amphibians, and more.\\nThe flora selected for the restoration are all native species, carefully chosen to ensure ecological compatibility and success. Among these are species such as Gal Weralu (Elaeocarpus subvillosus), Thel Keena (Calophyllum tomentosum), Thiththa Weralu (Elaeocarpus montanus), Kenda (Macaranga indica), Kudu Dawula (Neolitsea fuscata).\\n\\u201cThe Gouravilla segment sponsored by Teejay Lanka PLC, is a vital area for the preservation of this region\\u2019s unique biodiversity. This broader site is home to an array of wildlife, including records of Day geckos (Cnemaspis samanalensis and Cnemaspis upendrai) from outside of their known range, two endemic fresh water fish species including one Critically Endangered (Devario monticola) and one a Near Threatened (Garra ceylonensis)\\u201d the release said.\\n\\u201cThe record of Devario monticola in Maskeli Oya is very important because it was recorded only from the Agra Oya river basin in the country. The record of the Spotless grass yellow is another important finding of this study as it has not been recorded around Maskeliya previously. These underscore the importance of this project in protecting the island\\u2019s rich biodiversity through the restoration of the degraded ecosystems along the Maskeli Oya\\u201d.\\nIt added that progress is not easy as these plants are majorly threatened by human activity including the cutting of new saplings along with the high grass, and due to herbivore presence. Montane plants are also extremely slow growing and various added measures will be needed to complement these efforts.\\nThis two-year project is a significant element of Teejay\\u2019s \\u2018Abhivarah 2030\\u2019 sustainability road map and generates valuable carbon credits, while helping restore one of the country\\u2019s most scenic natural habitats to its pristine state. Teejay is also focused on initiatives to improve the environment in and around the Kelani River and its related ecosystems, and this project is an extension of that commitment.\\n\\u201cThis project is not merely about planting trees; it is a scientifically driven ecological restoration effort. By carefully monitoring and nurturing these plants, the project aims to restore and expand the forested areas, creating a thriving habitat that supports a diverse array of species. This initiative by the WNPS and PLANT teams and their partners exemplifies the role that Private Sector can play to reversing ecological degradation and promote sustainable land management practices in Sri Lanka,\\u201d the release concluded.\\nBusiness\\nQuestion of \\u2018data privacy\\u2019 looms large in govt\\u2019s DPI strategy\\nHans Wijayasuriya tries to get the elephant out of the room\\nBy Sanath Nanayakkare\\nAs the government of Sri Lanka accelerates its digital public infrastructure (DPI) strategy, the question of data privacy looms large.\\nThe Chief Advisor to the President on Digital Economy, Dr.Hans Wijayasuriya, stepped in to address this critical issue head-on, in a recent keynote at the BIMSTEC Digital Conclave 2025 held at Taj Samudra, Colombo on February 7-8.\\nWijayasuriya emphasized the need for robust data protection frameworks to ensure public trust in digital initiatives as the collection and use of personal data may raise significant ethical and legal questions in Sri Lanka.\\nDr. Wijayasuriya advocated for a balanced approach, combining innovation with stringent privacy safeguards, at a time the public in Sri Lanka is split down the middle on the implementation of Digital Public Infrastructure (DPI), and rolling out bio-metric digital ID to provide many key government services online, with the support of tech companies in foreign countries.\\nFurthermore, the Public Digital Conferences being held in Colombo these days with the participation of foreign players are likely to result in policy action and implementation on the ground at any point in time.\\nIn these circumstances, his insights served as a timely reminder that data privacy is not just a technical challenge, but a cornerstone of sustainable digital transformation.\\nTaking a question from the moderator at the Conclave whether DPI would compromise the security interests of the Sovereign he said,\\u201d I think the question of Sovereignty\\u2019s security comes second because fundamental security and control assemblies come first. And this can be subject to proportionate assessment of risk and granular data in use. Different types of data need different treatments in terms of risk mitigation. So, what we strive for is \\u2018risk proportional safeguards\\u2019 plus federated digital platforms with a focus on privacy and data control by not centralizing user information on one single platform. We should have a very well-architectured system to ensure internal and sovereignty-related security in the transferring of data. Sri Lanka has a Data Protection Act in force. Sri Lanka also has a Data Protection Authority in place.This means there is a strong legal framework as well as an institutional framework to implement the mechanisms for data protection. Looking at the cross-border scenario, sovereignty interests are critical, and therefore, we will adhere to the principles based on the categorization of data. Let me add another point about Application Programming Interfaces (APIs). When an additional API is opened to enable seamless integration and automation between different staking platforms and applications, the demand for security escalates. That is the nature of this exercise. If we are to benefit from open architecture systems, we need to consider these issues and build robust systems to mitigate the risks,\\u201d he explained.\\n\\u201cThere are many layers which lend themselves to integration and the extension of horizontal layers. We should look at multiple dimensions for citizen-centric services without compromising on national security. Also, we will look at businesses in a cross-border angle and in an inclusion angle, where business to business (B2B) interfaces can especially boost trade volumes and transactions in the region,\\u201d he said.\\nHigh Commissioner of India Santosh Jha speaking at the Conclave said,\\u201d \\u201cIndia has over the past decade or so undergone a digital transformation at an unprecedented pace and scale, with unparalleled benefits to all sections of the society. At a time when mobile and data access were seen globally as a convenience, India adopted a model that envisioned digitization not only as a means of connectivity \\u2013 but as a medium of equity and opportunity. And that to me is the essence of Digital Public Infrastructure.\\u201d\\nResponding to a question from The Island Financial Review as to which foreign companies in which countries would get the contract awards, Eranga Weerarathna, Dep. Minister of Digital Economy replied,\\u201d We will explore working with local tech companies. We will also need to outsource foreign collaboration in this exercise to leapfrog in DPI. Wherever we see value, we will work with foreign companies while ensuring the protection of very sensitive data.\\u201d\\nDuring the networking time, a local ICT expert was overheard saying, \\u2018The elephant is out of the room, and policymakers need to address it.'\\u201d\\nOn Feb. 5, key officials of the United Nations Development Programme (UNDP) and Asian Development Bank took part in the Sri Lanka Digital Public Infrastructure (DPI) Summit held in Colombo where they pledged support to Sri Lanka to become a digital economy powerhouse in the region. The Ministry of Digital Economy had put together that two-day summit in partnership with the UNDP in Sri Lanka, the ADB and key collaborators including Huawei.\\nBusiness\\nAitken Spence announces appointment of new chairperson,\\nStasshani Jayawardena\\nAitken Spence is deeply saddened on the passing away of its honourable Chairman, Deshamanya D H S Jayawardena (Harry Jayawardena) who was known for his visionary leadership and unwavering dedication that have been instrumental in shaping the company\\u2019s success. The company expressed its deepest gratitude to Deshamanya D H S Jayawardena for his remarkable contributions and extends its heartfelt condolences to the Jayawardena family during this difficult time.\\nIn light of this profound loss, the company is pleased to announce the appointment of Ms. D S T Jayawardena (Stasshani Jayawardena) as the new Chairperson with immediate effect. Ms. Jayawardena brings a wealth of experience and a strong commitment to continuing the legacy of excellence established by her predecessor.\\nMs. Jayawardena has been an integral part of Aitken Spence for over 10 years, serving in various leadership roles and contributing significantly to our growth and innovation. Ms. Jayawardena marks several milestones for Aitken Spence PLC as the youngest Board Member, and the first female member on the Board. Her appointment demonstrates the company\\u2019s trust in her capability to guide Aitken Spence towards continued success and innovation.\\nMs. Jayawardena has over 15 years of experience in the management of companies under the guidance of her late father, Deshamanya D H S Jayawardena. She has been managing and providing strategic direction to Aitken Spence Group Companies, including the tourism sector, and carries with her a wealth of knowledge and experience which is imperative for the continuous growth of the Aitken Spence Group of Companies, following the vision of the late Deshamanya D H S Jayawardena.\\nMs. Jayawardena was also appointed as Chairperson of Aitken Spence Hotel Holdings PLC and Browns Beach Hotels PLC and, Deputy Chairperson of Lanka Milk Foods (CWE) PLC, and continues as Director of Melstacorp PLC, Distilleries Company of Sri Lanka PLC.\\nShe is a graduate of St. James\\u2019 and Lucie Clayton College and Keele University in the United Kingdom, Emeritus Institute of Management, Singapore and an Associate Alumni of University of Cambridge (Judges Business School), United Kingdom. Ms. Jayawardena was the youngest intern to work under US Senator Hilary Rodham Clinton and the Former US President Bill Clinton in 2003.\\nIn recognition of her work and commitment to inspire, she has been recognised on several local and international platforms. Ms. Stasshani Jayawardena\\u2019s extensive leadership in diversified conglomerate structures has reinforced her capability to lead Aitken Spence into a new era of success.\\nBusiness\\nCargills Bank and Mastercard collaborate to power \\u2018Tapit\\u2019\\nCargills Bank and Mastercard have collaborated to launch Sri Lanka\\u2019s first contactless sticker payment solution. Titled \\u2018Tapit\\u2019, the new solution promises to revolutionize everyday transactions for Mastercard credit and debit cardholders.\\nCombining Mastercard\\u2019s global expertise in payments with Cargills Bank\\u2019s local insights, the \\u2018Tapit\\u2019 solution will not only promote digital payments but will also advance contactless transactions, thereby furthering financial inclusion in the country and supporting its digital transformation.\\n\\u2018Tapit\\u2019 is an adhesive payment enabled sticker that can be easily pasted on a mobile phone, handbag or any other item of day-to-day use which has a flat surface. It uses advanced Near Field Communication (NFC) technology and is protected by military-grade EMV chip encryption and security protocols.\\nCardholders can simply paste the sticker on the item of their choice and begin their contactless payments journey. To complete a transaction, all they need to do is hold the item close to the Point of Sale (POS) device. The transaction is concluded instantly with an SMS alert in real time.\\nSenarath Bandara, Managing Director and CEO, Cargills Bank, said, \\u201cThis contactless sticker card represents Cargills Bank\\u2019s commitment to innovative banking solutions. Combining state-of-the-art technology with convenience and security, we are enhancing customer experience while advancing Sri Lanka\\u2019s digital banking landscape.\\u201d\\n-\\nNews4 days ago\\nMusk reveals \\u2018crazy waste\\u2019 of USAID funds in Sri Lanka\\n-\\nNews7 days ago\\nCID questions top official over releasing of 323 containers\\n-\\nOpinion7 days ago\\nA singular modern Lankan mentor \\u2013 Part III\\n-\\nNews7 days ago\\nHarry and Ken pass away\\n-\\nFeatures7 days ago\\nThe President\\u2019s Jaffna visit and its implications\\n-\\nMidweek Review6 days ago\\nCanada plays politics with Sri Lanka again ahead of its national election\\n-\\nBusiness5 days ago\\nUNDP, ADB pledge support to SL on its public digital journey at key summit\\n-\\nNews2 days ago\\nSLAS senior to be HC in London, several new dpl appointments\"\n        ],\n        \"semantic_type\": \"\",\n        \"description\": \"\"\n      }\n    }\n  ]\n}"
            }
          },
          "metadata": {},
          "execution_count": 39
        }
      ],
      "source": [
        "df.head()"
      ]
    },
    {
      "cell_type": "code",
      "execution_count": 40,
      "metadata": {
        "colab": {
          "base_uri": "https://localhost:8080/",
          "height": 206
        },
        "id": "ZEPbK_hZx3_T",
        "outputId": "038ae467-ca50-4ffc-f3a1-1a895ab73b3b"
      },
      "outputs": [
        {
          "output_type": "execute_result",
          "data": {
            "text/plain": [
              "                                                 title  \\\n",
              "743  Caleres Reports Second Quarter Results and Upd...   \n",
              "744  Caleres Names Liz Dunn SVP of Corporate Develo...   \n",
              "745  Is Caleres, Inc. (NYSE:CAL) Potentially Underv...   \n",
              "746  Caleres Reports Second Quarter Results and Upd...   \n",
              "747  Does Caleres (NYSE:CAL) Have A Healthy Balance...   \n",
              "\n",
              "                                          Full_Article  \n",
              "743  ST. LOUIS--(BUSINESS WIRE)--Caleres (NYSE: CAL...  \n",
              "744  ST. LOUIS--(BUSINESS WIRE)--Caleres (NYSE: CAL...  \n",
              "745  In This Article:\\nWhile Caleres, Inc. (NYSE:CA...  \n",
              "746  ST. LOUIS--(BUSINESS WIRE)--Caleres (NYSE: CAL...  \n",
              "747  Some say volatility, rather than debt, is the ...  "
            ],
            "text/html": [
              "\n",
              "  <div id=\"df-e2b7b723-9b48-43f0-bf0c-b041526db5a0\" class=\"colab-df-container\">\n",
              "    <div>\n",
              "<style scoped>\n",
              "    .dataframe tbody tr th:only-of-type {\n",
              "        vertical-align: middle;\n",
              "    }\n",
              "\n",
              "    .dataframe tbody tr th {\n",
              "        vertical-align: top;\n",
              "    }\n",
              "\n",
              "    .dataframe thead th {\n",
              "        text-align: right;\n",
              "    }\n",
              "</style>\n",
              "<table border=\"1\" class=\"dataframe\">\n",
              "  <thead>\n",
              "    <tr style=\"text-align: right;\">\n",
              "      <th></th>\n",
              "      <th>title</th>\n",
              "      <th>Full_Article</th>\n",
              "    </tr>\n",
              "  </thead>\n",
              "  <tbody>\n",
              "    <tr>\n",
              "      <th>743</th>\n",
              "      <td>Caleres Reports Second Quarter Results and Upd...</td>\n",
              "      <td>ST. LOUIS--(BUSINESS WIRE)--Caleres (NYSE: CAL...</td>\n",
              "    </tr>\n",
              "    <tr>\n",
              "      <th>744</th>\n",
              "      <td>Caleres Names Liz Dunn SVP of Corporate Develo...</td>\n",
              "      <td>ST. LOUIS--(BUSINESS WIRE)--Caleres (NYSE: CAL...</td>\n",
              "    </tr>\n",
              "    <tr>\n",
              "      <th>745</th>\n",
              "      <td>Is Caleres, Inc. (NYSE:CAL) Potentially Underv...</td>\n",
              "      <td>In This Article:\\nWhile Caleres, Inc. (NYSE:CA...</td>\n",
              "    </tr>\n",
              "    <tr>\n",
              "      <th>746</th>\n",
              "      <td>Caleres Reports Second Quarter Results and Upd...</td>\n",
              "      <td>ST. LOUIS--(BUSINESS WIRE)--Caleres (NYSE: CAL...</td>\n",
              "    </tr>\n",
              "    <tr>\n",
              "      <th>747</th>\n",
              "      <td>Does Caleres (NYSE:CAL) Have A Healthy Balance...</td>\n",
              "      <td>Some say volatility, rather than debt, is the ...</td>\n",
              "    </tr>\n",
              "  </tbody>\n",
              "</table>\n",
              "</div>\n",
              "    <div class=\"colab-df-buttons\">\n",
              "\n",
              "  <div class=\"colab-df-container\">\n",
              "    <button class=\"colab-df-convert\" onclick=\"convertToInteractive('df-e2b7b723-9b48-43f0-bf0c-b041526db5a0')\"\n",
              "            title=\"Convert this dataframe to an interactive table.\"\n",
              "            style=\"display:none;\">\n",
              "\n",
              "  <svg xmlns=\"http://www.w3.org/2000/svg\" height=\"24px\" viewBox=\"0 -960 960 960\">\n",
              "    <path d=\"M120-120v-720h720v720H120Zm60-500h600v-160H180v160Zm220 220h160v-160H400v160Zm0 220h160v-160H400v160ZM180-400h160v-160H180v160Zm440 0h160v-160H620v160ZM180-180h160v-160H180v160Zm440 0h160v-160H620v160Z\"/>\n",
              "  </svg>\n",
              "    </button>\n",
              "\n",
              "  <style>\n",
              "    .colab-df-container {\n",
              "      display:flex;\n",
              "      gap: 12px;\n",
              "    }\n",
              "\n",
              "    .colab-df-convert {\n",
              "      background-color: #E8F0FE;\n",
              "      border: none;\n",
              "      border-radius: 50%;\n",
              "      cursor: pointer;\n",
              "      display: none;\n",
              "      fill: #1967D2;\n",
              "      height: 32px;\n",
              "      padding: 0 0 0 0;\n",
              "      width: 32px;\n",
              "    }\n",
              "\n",
              "    .colab-df-convert:hover {\n",
              "      background-color: #E2EBFA;\n",
              "      box-shadow: 0px 1px 2px rgba(60, 64, 67, 0.3), 0px 1px 3px 1px rgba(60, 64, 67, 0.15);\n",
              "      fill: #174EA6;\n",
              "    }\n",
              "\n",
              "    .colab-df-buttons div {\n",
              "      margin-bottom: 4px;\n",
              "    }\n",
              "\n",
              "    [theme=dark] .colab-df-convert {\n",
              "      background-color: #3B4455;\n",
              "      fill: #D2E3FC;\n",
              "    }\n",
              "\n",
              "    [theme=dark] .colab-df-convert:hover {\n",
              "      background-color: #434B5C;\n",
              "      box-shadow: 0px 1px 3px 1px rgba(0, 0, 0, 0.15);\n",
              "      filter: drop-shadow(0px 1px 2px rgba(0, 0, 0, 0.3));\n",
              "      fill: #FFFFFF;\n",
              "    }\n",
              "  </style>\n",
              "\n",
              "    <script>\n",
              "      const buttonEl =\n",
              "        document.querySelector('#df-e2b7b723-9b48-43f0-bf0c-b041526db5a0 button.colab-df-convert');\n",
              "      buttonEl.style.display =\n",
              "        google.colab.kernel.accessAllowed ? 'block' : 'none';\n",
              "\n",
              "      async function convertToInteractive(key) {\n",
              "        const element = document.querySelector('#df-e2b7b723-9b48-43f0-bf0c-b041526db5a0');\n",
              "        const dataTable =\n",
              "          await google.colab.kernel.invokeFunction('convertToInteractive',\n",
              "                                                    [key], {});\n",
              "        if (!dataTable) return;\n",
              "\n",
              "        const docLinkHtml = 'Like what you see? Visit the ' +\n",
              "          '<a target=\"_blank\" href=https://colab.research.google.com/notebooks/data_table.ipynb>data table notebook</a>'\n",
              "          + ' to learn more about interactive tables.';\n",
              "        element.innerHTML = '';\n",
              "        dataTable['output_type'] = 'display_data';\n",
              "        await google.colab.output.renderOutput(dataTable, element);\n",
              "        const docLink = document.createElement('div');\n",
              "        docLink.innerHTML = docLinkHtml;\n",
              "        element.appendChild(docLink);\n",
              "      }\n",
              "    </script>\n",
              "  </div>\n",
              "\n",
              "\n",
              "<div id=\"df-f3b416d5-1914-4c8e-ab18-6be2ac5ab125\">\n",
              "  <button class=\"colab-df-quickchart\" onclick=\"quickchart('df-f3b416d5-1914-4c8e-ab18-6be2ac5ab125')\"\n",
              "            title=\"Suggest charts\"\n",
              "            style=\"display:none;\">\n",
              "\n",
              "<svg xmlns=\"http://www.w3.org/2000/svg\" height=\"24px\"viewBox=\"0 0 24 24\"\n",
              "     width=\"24px\">\n",
              "    <g>\n",
              "        <path d=\"M19 3H5c-1.1 0-2 .9-2 2v14c0 1.1.9 2 2 2h14c1.1 0 2-.9 2-2V5c0-1.1-.9-2-2-2zM9 17H7v-7h2v7zm4 0h-2V7h2v10zm4 0h-2v-4h2v4z\"/>\n",
              "    </g>\n",
              "</svg>\n",
              "  </button>\n",
              "\n",
              "<style>\n",
              "  .colab-df-quickchart {\n",
              "      --bg-color: #E8F0FE;\n",
              "      --fill-color: #1967D2;\n",
              "      --hover-bg-color: #E2EBFA;\n",
              "      --hover-fill-color: #174EA6;\n",
              "      --disabled-fill-color: #AAA;\n",
              "      --disabled-bg-color: #DDD;\n",
              "  }\n",
              "\n",
              "  [theme=dark] .colab-df-quickchart {\n",
              "      --bg-color: #3B4455;\n",
              "      --fill-color: #D2E3FC;\n",
              "      --hover-bg-color: #434B5C;\n",
              "      --hover-fill-color: #FFFFFF;\n",
              "      --disabled-bg-color: #3B4455;\n",
              "      --disabled-fill-color: #666;\n",
              "  }\n",
              "\n",
              "  .colab-df-quickchart {\n",
              "    background-color: var(--bg-color);\n",
              "    border: none;\n",
              "    border-radius: 50%;\n",
              "    cursor: pointer;\n",
              "    display: none;\n",
              "    fill: var(--fill-color);\n",
              "    height: 32px;\n",
              "    padding: 0;\n",
              "    width: 32px;\n",
              "  }\n",
              "\n",
              "  .colab-df-quickchart:hover {\n",
              "    background-color: var(--hover-bg-color);\n",
              "    box-shadow: 0 1px 2px rgba(60, 64, 67, 0.3), 0 1px 3px 1px rgba(60, 64, 67, 0.15);\n",
              "    fill: var(--button-hover-fill-color);\n",
              "  }\n",
              "\n",
              "  .colab-df-quickchart-complete:disabled,\n",
              "  .colab-df-quickchart-complete:disabled:hover {\n",
              "    background-color: var(--disabled-bg-color);\n",
              "    fill: var(--disabled-fill-color);\n",
              "    box-shadow: none;\n",
              "  }\n",
              "\n",
              "  .colab-df-spinner {\n",
              "    border: 2px solid var(--fill-color);\n",
              "    border-color: transparent;\n",
              "    border-bottom-color: var(--fill-color);\n",
              "    animation:\n",
              "      spin 1s steps(1) infinite;\n",
              "  }\n",
              "\n",
              "  @keyframes spin {\n",
              "    0% {\n",
              "      border-color: transparent;\n",
              "      border-bottom-color: var(--fill-color);\n",
              "      border-left-color: var(--fill-color);\n",
              "    }\n",
              "    20% {\n",
              "      border-color: transparent;\n",
              "      border-left-color: var(--fill-color);\n",
              "      border-top-color: var(--fill-color);\n",
              "    }\n",
              "    30% {\n",
              "      border-color: transparent;\n",
              "      border-left-color: var(--fill-color);\n",
              "      border-top-color: var(--fill-color);\n",
              "      border-right-color: var(--fill-color);\n",
              "    }\n",
              "    40% {\n",
              "      border-color: transparent;\n",
              "      border-right-color: var(--fill-color);\n",
              "      border-top-color: var(--fill-color);\n",
              "    }\n",
              "    60% {\n",
              "      border-color: transparent;\n",
              "      border-right-color: var(--fill-color);\n",
              "    }\n",
              "    80% {\n",
              "      border-color: transparent;\n",
              "      border-right-color: var(--fill-color);\n",
              "      border-bottom-color: var(--fill-color);\n",
              "    }\n",
              "    90% {\n",
              "      border-color: transparent;\n",
              "      border-bottom-color: var(--fill-color);\n",
              "    }\n",
              "  }\n",
              "</style>\n",
              "\n",
              "  <script>\n",
              "    async function quickchart(key) {\n",
              "      const quickchartButtonEl =\n",
              "        document.querySelector('#' + key + ' button');\n",
              "      quickchartButtonEl.disabled = true;  // To prevent multiple clicks.\n",
              "      quickchartButtonEl.classList.add('colab-df-spinner');\n",
              "      try {\n",
              "        const charts = await google.colab.kernel.invokeFunction(\n",
              "            'suggestCharts', [key], {});\n",
              "      } catch (error) {\n",
              "        console.error('Error during call to suggestCharts:', error);\n",
              "      }\n",
              "      quickchartButtonEl.classList.remove('colab-df-spinner');\n",
              "      quickchartButtonEl.classList.add('colab-df-quickchart-complete');\n",
              "    }\n",
              "    (() => {\n",
              "      let quickchartButtonEl =\n",
              "        document.querySelector('#df-f3b416d5-1914-4c8e-ab18-6be2ac5ab125 button');\n",
              "      quickchartButtonEl.style.display =\n",
              "        google.colab.kernel.accessAllowed ? 'block' : 'none';\n",
              "    })();\n",
              "  </script>\n",
              "</div>\n",
              "\n",
              "    </div>\n",
              "  </div>\n"
            ],
            "application/vnd.google.colaboratory.intrinsic+json": {
              "type": "dataframe",
              "summary": "{\n  \"name\": \"df\",\n  \"rows\": 5,\n  \"fields\": [\n    {\n      \"column\": \"title\",\n      \"properties\": {\n        \"dtype\": \"string\",\n        \"num_unique_values\": 4,\n        \"samples\": [\n          \"Caleres Names Liz Dunn SVP of Corporate Development and Strategic Communications\",\n          \"Does Caleres (NYSE:CAL) Have A Healthy Balance Sheet?\",\n          \"Caleres Reports Second Quarter Results and Updates Guidance\"\n        ],\n        \"semantic_type\": \"\",\n        \"description\": \"\"\n      }\n    },\n    {\n      \"column\": \"Full_Article\",\n      \"properties\": {\n        \"dtype\": \"string\",\n        \"num_unique_values\": 4,\n        \"samples\": [\n          \"ST. LOUIS--(BUSINESS WIRE)--Caleres (NYSE: CAL), a market-leading portfolio of consumer-driven footwear brands, today announced that Liz Dunn has joined the company as senior vice president of corporate development and strategic communications.\\nIn this newly created role, Dunn will leverage her nearly 30 years\\u2019 experience spanning equity research, investment banking, consulting, and finance to ensure Caleres aligns its growth ambitions and strategic communications with delivering shareholder value. Dunn will report to Caleres president and CEO Jay Schmidt.\\n\\u201cWe are pleased to welcome Liz to the Caleres leadership team,\\u201d said Schmidt. \\u201cLiz has been working closely with Caleres for the last year as a consultant to provide a thoughtful perspective on our strategic and financial plans. Achieving our growth objectives will require disciplined execution and coordinated communication. I am confident Liz\\u2019s knowledge and expertise will support our efforts to drive value for our shareholders.\\u201d\\nFor the last 10 years, Dunn has worked with retailers, brands, and private equity firms as an independent consultant. Previously, Dunn spent over a decade as a sell-side equity research analyst covering footwear & apparel, luxury, department stores, and specialty retail. Throughout her career, Dunn has been featured in national print and television media as a subject matter expert on consumer companies and stocks. She has served on both public company and non-profit boards. Early in her career, Dunn worked in the finance departments of Liz Claiborne and Gap Inc., and she began her career in the consumer investment banking group at Bear Stearns. She holds a bachelor\\u2019s degree in economics from Spelman College.\\n\\u201cI am pleased to be joining Caleres at this pivotal time,\\u201d Dunn said. \\u201cCaleres has transformed its earnings power and recently outlined plans for even greater growth in earnings and shareholder value. I look forward to being part of the team that works to achieve these goals.\\u201d\\nAbout Caleres\\nCaleres is a market-leading portfolio of global footwear brands that includes Famous Footwear, Sam Edelman, Allen Edmonds, Naturalizer and Vionic. Our products are available virtually everywhere - in the nearly 1,000 retail stores we operate, in hundreds of major department and specialty stores, on our branded e-commerce sites, and on many additional third-party retail websites. Combined, these brands make Caleres a company with both a legacy and a mission. Our legacy is our more than 140 years of craftsmanship and our passion for fit, while our mission is to continue to inspire people to feel great\\u2026 feet first. Visit caleres.com to learn more about us.\",\n          \"Some say volatility, rather than debt, is the best way to think about risk as an investor, but Warren Buffett famously said that 'Volatility is far from synonymous with risk.' So it might be obvious that you need to consider debt, when you think about how risky any given stock is, because too much debt can sink a company. We can see that Caleres, Inc. (NYSE:CAL) does use debt in its business. But the more important question is: how much risk is that debt creating?\\nWhen Is Debt Dangerous?\\nDebt assists a business until the business has trouble paying it off, either with new capital or with free cash flow. If things get really bad, the lenders can take control of the business. However, a more frequent (but still costly) occurrence is where a company must issue shares at bargain-basement prices, permanently diluting shareholders, just to shore up its balance sheet. Having said that, the most common situation is where a company manages its debt reasonably well - and to its own advantage. The first thing to do when considering how much debt a business uses is to look at its cash and debt together.\\nView our latest analysis for Caleres\\nWhat Is Caleres's Net Debt?\\nYou can click the graphic below for the historical numbers, but it shows that Caleres had US$146.5m of debt in August 2024, down from US$244.0m, one year before. However, it does have US$51.8m in cash offsetting this, leading to net debt of about US$94.7m.\\nHow Healthy Is Caleres' Balance Sheet?\\nWe can see from the most recent balance sheet that Caleres had liabilities of US$860.4m falling due within a year, and liabilities of US$546.1m due beyond that. On the other hand, it had cash of US$51.8m and US$156.3m worth of receivables due within a year. So its liabilities outweigh the sum of its cash and (near-term) receivables by US$1.20b.\\nGiven this deficit is actually higher than the company's market capitalization of US$1.14b, we think shareholders really should watch Caleres's debt levels, like a parent watching their child ride a bike for the first time. In the scenario where the company had to clean up its balance sheet quickly, it seems likely shareholders would suffer extensive dilution.\\nIn order to size up a company's debt relative to its earnings, we calculate its net debt divided by its earnings before interest, tax, depreciation, and amortization (EBITDA) and its earnings before interest and tax (EBIT) divided by its interest expense (its interest cover). This way, we consider both the absolute quantum of the debt, as well as the interest rates paid on it.\\nCaleres's net debt is only 0.39 times its EBITDA. And its EBIT covers its interest expense a whopping 12.1 times over. So you could argue it is no more threatened by its debt than an elephant is by a mouse. On the other hand, Caleres saw its EBIT drop by 2.5% in the last twelve months. If earnings continue to decline at that rate the company may have increasing difficulty managing its debt load. When analysing debt levels, the balance sheet is the obvious place to start. But ultimately the future profitability of the business will decide if Caleres can strengthen its balance sheet over time. So if you want to see what the professionals think, you might find this free report on analyst profit forecasts to be interesting.\\nFinally, while the tax-man may adore accounting profits, lenders only accept cold hard cash. So we always check how much of that EBIT is translated into free cash flow. In the last three years, Caleres's free cash flow amounted to 49% of its EBIT, less than we'd expect. That's not great, when it comes to paying down debt.\\nOur View\\nEven if we have reservations about how easily Caleres is capable of staying on top of its total liabilities, its interest cover and net debt to EBITDA make us think feel relatively unconcerned. We think that Caleres's debt does make it a bit risky, after considering the aforementioned data points together. That's not necessarily a bad thing, since leverage can boost returns on equity, but it is something to be aware of. Given our hesitation about the stock, it would be good to know if Caleres insiders have sold any shares recently. You click here to find out if insiders have sold recently.\\nIf you're interested in investing in businesses that can grow profits without the burden of debt, then check out this free list of growing businesses that have net cash on the balance sheet.\\nNew: AI Stock Screener & Alerts\\nOur new AI Stock Screener scans the market every day to uncover opportunities.\\n\\u2022 Dividend Powerhouses (3%+ Yield)\\n\\u2022 Undervalued Small Caps with Insider Buying\\n\\u2022 High growth Tech and AI Companies\\nOr build your own from over 50 metrics.\\nHave feedback on this article? Concerned about the content? Get in touch with us directly. Alternatively, email editorial-team (at) simplywallst.com.\\nThis article by Simply Wall St is general in nature. We provide commentary based on historical data and analyst forecasts only using an unbiased methodology and our articles are not intended to be financial advice. It does not constitute a recommendation to buy or sell any stock, and does not take account of your objectives, or your financial situation. We aim to bring you long-term focused analysis driven by fundamental data. Note that our analysis may not factor in the latest price-sensitive company announcements or qualitative material. Simply Wall St has no position in any stocks mentioned.\\nAbout NYSE:CAL\\nCaleres\\nEngages in the retail and wholesale of footwear business in the United States, Canada, East Asia, and internationally.\\nVery undervalued with flawless balance sheet and pays a dividend.\",\n          \"ST. LOUIS--(BUSINESS WIRE)--Caleres (NYSE: CAL), a market-leading portfolio of consumer-driven footwear brands, today reported financial results for the second quarter 2024.\\n-\\nReported Sales of $683.3 million, down 1.8% year-on-year;\\n- Famous Footwear sales increased 1.5% versus the second quarter of 2023 with a later than expected back- to-school season;\\n- Brand Portfolio sales declined 5.1% versus the second quarter of 2023 due to operational reporting challenges in connection with its SAP ERP implementation, and pockets of weak seasonal demand;\\n- Improved second quarter consolidated gross margin rate to 45.5 percent, up 30 basis points year-on-year;\\n- Reported $0.85 in earnings per share for the second quarter, below expectations;\\n- Generated second quarter EBITDA of $57.2 million;\\n- Announces restructuring actions that will result in $7.5 million in annualized SG&A savings and $2 million in SG&A savings in fiscal 2024;\\n- Lowers fiscal 2024 outlook of net sales to down low-single-digits percent versus previous guidance of flat to up 2 percent;\\n- Lowers fiscal 2024 outlook for earnings per diluted share to $3.94 - $4.09 versus prior guidance of $4.30 to $4.60 and provides guidance for adjusted earnings per diluted share of $4.00 to $4.15, which excludes $3 million in restructuring costs expected to occur in the third quarter.\\n\\u201cCaleres reported second quarter results that were below expectations. While our brands and products continue to resonate with consumers and we remain confident in our long-term vision, our second quarter results in both segments fell short of our potential. Our systems implementation led to lack of visibility that prevented us from delivering our expected results. We also experienced weak seasonal demand and back-to-school business came later than expected,\\u201d said Jay Schmidt, president and chief executive officer. \\u201cDespite the sales miss, our gross margin remained strong, driven by the Brand Portfolio. At the same time, Famous Footwear gained market share in the strategically important Kids category. Furthermore, back-to-school sales surged in August bringing the season in total in-line with our expectations.\\u201d\\n\\u201cWe are confident in our ability to get back on track and have addressed the issues from the ERP implementation that temporarily impacted visibility. We are also accelerating certain restructuring actions to improve the efficiency and effectiveness of our teams. Looking ahead, we are confident in our ability to deliver earnings per share in line with our revised guidance,\\u201d said Schmidt. \\u201cLonger-term, we believe we are exceptionally well positioned to execute our strategic plan, invest to fuel our growth initiatives, and drive sustained value for our shareholders.\\u201d\\nSecond Quarter 2024 Results\\n(13-weeks ended August 3, 2024 compared to 13-weeks ended July 29, 2023)\\n-\\nNet sales were $683.3 million, down 1.8 percent from the second quarter of 2023;\\n- Famous Footwear segment net sales increased 1.5 percent, with comparable sales down 2.9 percent\\n- Brand Portfolio segment net sales declined 5.1 percent\\n- Direct-to-consumer sales represented approximately 75 percent of total net sales\\n-\\nGross profit was $310.9 million, while gross margin was 45.5 percent, up 30 basis points versus last year;\\n- Famous Footwear segment gross margin of 45.0 percent, down 120 basis points versus last year\\n- Brand Portfolio segment gross margin of 42.7 percent, up 140 basis points versus last year\\n- SG&A as a percentage of net sales was 39.3 percent, reflecting planned investment in marketing at certain Lead Brands, international expansion and the implementation of the integrated SAP platform;\\n- Net earnings of $30.0 million, or earnings per diluted share of $0.85, compared to net earnings of $33.9 million, or earnings per diluted share of $0.95 in the second quarter 2023 and adjusted net earnings of $35.2 million, or adjusted earnings per diluted share of $0.98 in the second quarter of 2023;\\n- Inventory was flat to the second quarter 2023 in total;\\n- Borrowings under the asset-based revolving credit facility were $146.5 million at the end of the period, down $98 million from the second quarter of 2023, and included the benefit from a deferred vendor payment of $49 million.\\nCapital Allocation Update\\nDuring the quarter, Caleres continued to invest in value-driving growth opportunities while at the same time returning cash to shareholders through our dividend. In the near term, the company expects to continue to focus on reducing debt and still expects borrowings under its asset-based revolving credit facility will be less than $100 million by 2026. Caleres will continue to consider business performance and market conditions as it evaluates all opportunities for free cash flow as the year progresses, including share repurchases.\\nFiscal 2024 Outlook:\\nCaleres is revising its fiscal 2024 financial outlook. As previously noted, its fiscal 2024 is a 52-week year and compares to a 53-week year in fiscal 2023. The revised assumptions are summarized in the table below. Our tax rate expectation of 24% is unchanged.\\nMetric |\\nPrior 2024 Annual\\n|\\nRevised 2024 Annual\\n|\\nThird Quarter\\n|\\nSales Change |\\nFlat to up 2% |\\nDown low single digits |\\nFlat to down 2% |\\nOperating Margin |\\n7.3% - 7.5% |\\n7.0% - 7.1% |\\n|\\nGAAP EPS |\\n$4.30 - $4.60 |\\n$3.94 - $4.09 |\\n$1.24 - $1.34 |\\nAdjusted EPS |\\n$4.30 - $4.60 |\\n$4.00 - $4.15* |\\n$1.30 - $1.40* |\\nCapital Expenditures |\\n$60 - $70 million |\\n$50 - $55 million |\\n|\\n* Adjusted EPS excludes $0.06 associated with restructuring costs in the third quarter.\\nInvestor Conference Call\\nCaleres will host a conference call at 10:00 a.m. ET today, Thursday, September 12, 2024. The webcast and associated slides will be available at investor.caleres.com/events-and-presentations. A live conference call will be available at (877) 704-4453 for North America participants or (201) 389-0920 for international participants, no passcode necessary. A replay will be also available at investor.caleres.com/events-and-presentations/archive for a limited period. Investors may also access the replay by dialing (844) 512-2921 in North America or (412) 317-6671 internationally and using the conference pin 13748562.\\nDefinitions\\nAll references in this press release, outside of the condensed consolidated financial statements that follow, unless otherwise noted, related to net earnings attributable to Caleres, Inc. and diluted earnings per common share attributable to Caleres, Inc. shareholders, are presented as net earnings and earnings per diluted share, respectively.\\nNon-GAAP Financial Measures and Metrics\\nIn this press release, the company\\u2019s financial results are provided both in accordance with generally accepted accounting principles (GAAP) and using certain non-GAAP financial measures and metrics. In particular, the company provides earnings before interest, taxes, depreciation and amortization (EBITDA) and estimated and future operating earnings, net earnings and earnings per diluted share, adjusted to exclude certain gains, charges and recoveries, which are non-GAAP financial measures, and the debt to EBITDA leverage ratio, which is a non-GAAP financial metric. These results are included as a complement to results provided in accordance with GAAP because management believes this non-GAAP financial measure and metric help identify underlying trends in the company\\u2019s business and provide useful information to both management and investors by excluding certain items that may not be indicative of the company\\u2019s core operating results. This measure and metric should not be considered a substitute for or superior to GAAP results.\\nSafe Harbor Statement Under the Private Securities Litigation Reform Act of 1995\\nThis press release contains certain forward-looking statements and expectations regarding the company\\u2019s future performance and the performance of its brands. Such statements are subject to various risks and uncertainties that could cause actual results to differ materially. These risks include (i) changing consumer demands, which may be influenced by general economic conditions and other factors; (ii) inflationary pressures and supply chain disruptions (iii) rapidly changing consumer preferences and purchasing patterns and fashion trends; (iv) supplier concentration, customer concentration and increased consolidation in the retail industry; (v) intense competition within the footwear industry; (vi) foreign currency fluctuations; (vii) political and economic conditions or other threats to the continued and uninterrupted flow of inventory from China and other countries, where the company relies heavily on third-party manufacturing facilities for a significant amount of its inventory; (viii) cybersecurity threats or other major disruption to the company\\u2019s information technology systems including those related to our ERP upgrade; (ix) the ability to accurately forecast sales and manage inventory levels; (x) a disruption in the company\\u2019s distribution centers; (xi) the ability to recruit and retain senior management and other key associates; (xii) the ability to secure/exit leases on favorable terms; (xiii) the ability to maintain relationships with current suppliers; (xiv) transitional challenges with acquisitions and divestitures; (xiv) changes to tax laws, policies and treaties; (xvi) our commitments and shareholder expectations related to environmental, social and governance considerations; (xvii) compliance with applicable laws and standards with respect to labor, trade and product safety issues; and (xvii) the ability to attract, retain, and maintain good relationships with licensors and protect our intellectual property rights. The company's reports to the Securities and Exchange Commission contain detailed information relating to such factors, including, without limitation, the information under the caption Risk Factors in Item 1A of the company\\u2019s Annual Report on Form 10-K for the year ended February 3, 2024, which information is incorporated by reference herein and updated by the company\\u2019s Quarterly Reports on Form 10-Q. The company does not undertake any obligation or plan to update these forward-looking statements, even though its situation may change.\\nSCHEDULE 1 |\\n|\\nCALERES, INC. |\\nCONDENSED CONSOLIDATED STATEMENTS OF EARNINGS |\\n|\\n|\\n|\\n|\\n|\\n|\\n|\\n|\\n|\\n|\\n|\\n|\\n|\\n||||\\n|\\n|\\n(Unaudited) |\\n||||||||||||||\\n|\\n|\\nThirteen Weeks Ended |\\n|\\nTwenty-Six Weeks Ended |\\n||||||||||||\\n($ thousands, except per share data) |\\n|\\nAugust 3, 2024 |\\n|\\nJuly 29, 2023 |\\n|\\nAugust 3, 2024 |\\n|\\nJuly 29, 2023 |\\n||||||||\\nNet sales |\\n|\\n$ |\\n683,317 |\\n|\\n|\\n$ |\\n695,533 |\\n|\\n|\\n$ |\\n1,342,515 |\\n|\\n|\\n$ |\\n1,358,267 |\\n|\\nCost of goods sold |\\n|\\n|\\n372,439 |\\n|\\n|\\n|\\n381,360 |\\n|\\n|\\n|\\n722,542 |\\n|\\n|\\n|\\n741,412 |\\n|\\nGross profit |\\n|\\n|\\n310,878 |\\n|\\n|\\n|\\n314,173 |\\n|\\n|\\n|\\n619,973 |\\n|\\n|\\n|\\n616,855 |\\n|\\nSelling and administrative expenses |\\n|\\n|\\n268,349 |\\n|\\n|\\n|\\n262,823 |\\n|\\n|\\n|\\n534,685 |\\n|\\n|\\n|\\n515,918 |\\n|\\nRestructuring and other special charges, net |\\n|\\n|\\n\\u2014 |\\n|\\n|\\n|\\n1,647 |\\n|\\n|\\n|\\n\\u2014 |\\n|\\n|\\n|\\n1,647 |\\n|\\nOperating earnings |\\n|\\n|\\n42,529 |\\n|\\n|\\n|\\n49,703 |\\n|\\n|\\n|\\n85,288 |\\n|\\n|\\n|\\n99,290 |\\n|\\nInterest expense, net |\\n|\\n|\\n(3,332 |\\n) |\\n|\\n|\\n(5,128 |\\n) |\\n|\\n|\\n(7,111 |\\n) |\\n|\\n|\\n(10,751 |\\n) |\\nOther income, net |\\n|\\n|\\n1,177 |\\n|\\n|\\n|\\n1,616 |\\n|\\n|\\n|\\n2,169 |\\n|\\n|\\n|\\n3,108 |\\n|\\nEarnings before income taxes |\\n|\\n|\\n40,374 |\\n|\\n|\\n|\\n46,191 |\\n|\\n|\\n|\\n80,346 |\\n|\\n|\\n|\\n91,647 |\\n|\\nIncome tax provision |\\n|\\n|\\n(10,101 |\\n) |\\n|\\n|\\n(11,826 |\\n) |\\n|\\n|\\n(19,275 |\\n) |\\n|\\n|\\n(22,490 |\\n) |\\nNet earnings |\\n|\\n|\\n30,273 |\\n|\\n|\\n|\\n34,365 |\\n|\\n|\\n|\\n61,071 |\\n|\\n|\\n|\\n69,157 |\\n|\\nNet earnings attributable to noncontrolling interests |\\n|\\n|\\n315 |\\n|\\n|\\n|\\n422 |\\n|\\n|\\n|\\n173 |\\n|\\n|\\n|\\n487 |\\n|\\nNet earnings attributable to Caleres, Inc. |\\n|\\n$ |\\n29,958 |\\n|\\n|\\n$ |\\n33,943 |\\n|\\n|\\n$ |\\n60,898 |\\n|\\n|\\n$ |\\n68,670 |\\n|\\n|\\n|\\n|\\n|\\n|\\n|\\n|\\n|\\n|\\n|\\n|\\n|\\n|\\n||||\\nBasic earnings per common share attributable to Caleres, Inc. shareholders |\\n|\\n$ |\\n0.85 |\\n|\\n|\\n$ |\\n0.95 |\\n|\\n|\\n$ |\\n1.73 |\\n|\\n|\\n$ |\\n1.91 |\\n|\\n|\\n|\\n|\\n|\\n|\\n|\\n|\\n|\\n|\\n|\\n|\\n|\\n|\\n||||\\nDiluted earnings per common share attributable to Caleres, Inc. shareholders |\\n|\\n$ |\\n0.85 |\\n|\\n|\\n$ |\\n0.95 |\\n|\\n|\\n$ |\\n1.73 |\\n|\\n|\\n$ |\\n1.91 |\\n|\\nSCHEDULE 2 |\\n|\\nCALERES, INC. |\\nCONDENSED CONSOLIDATED BALANCE SHEETS |\\n|\\n|\\n|\\n|\\n|\\n|\\n|\\n|\\n|\\n(Unaudited) |\\n||||\\n($ thousands) |\\n|\\nAugust 3, 2024 |\\n|\\nJuly 29, 2023 |\\n||\\nASSETS |\\n|\\n|\\n|\\n|\\n|\\n|\\nCash and cash equivalents |\\n|\\n$ |\\n51,753 |\\n|\\n$ |\\n47,098 |\\nReceivables, net |\\n|\\n|\\n151,055 |\\n|\\n|\\n136,549 |\\nInventories, net |\\n|\\n|\\n661,146 |\\n|\\n|\\n660,690 |\\nProperty and equipment, held for sale |\\n|\\n|\\n16,777 |\\n|\\n|\\n16,777 |\\nPrepaid expenses and other current assets |\\n|\\n|\\n58,969 |\\n|\\n|\\n53,709 |\\nTotal current assets |\\n|\\n|\\n939,700 |\\n|\\n|\\n914,823 |\\n|\\n|\\n|\\n|\\n|\\n|\\n|\\nLease right-of-use assets |\\n|\\n|\\n588,842 |\\n|\\n|\\n505,423 |\\nProperty and equipment, net |\\n|\\n|\\n169,459 |\\n|\\n|\\n157,717 |\\nGoodwill and intangible assets, net |\\n|\\n|\\n197,792 |\\n|\\n|\\n209,314 |\\nOther assets |\\n|\\n|\\n124,192 |\\n|\\n|\\n116,683 |\\nTotal assets |\\n|\\n$ |\\n2,019,985 |\\n|\\n$ |\\n1,903,960 |\\n|\\n|\\n|\\n|\\n|\\n|\\n|\\nLIABILITIES AND EQUITY |\\n|\\n|\\n|\\n|\\n|\\n|\\nBorrowings under revolving credit agreement |\\n|\\n$ |\\n146,500 |\\n|\\n$ |\\n244,000 |\\nTrade accounts payable |\\n|\\n|\\n396,450 |\\n|\\n|\\n350,020 |\\nLease obligations |\\n|\\n|\\n116,619 |\\n|\\n|\\n133,743 |\\nOther accrued expenses |\\n|\\n|\\n200,854 |\\n|\\n|\\n228,608 |\\nTotal current liabilities |\\n|\\n|\\n860,423 |\\n|\\n|\\n956,371 |\\n|\\n|\\n|\\n|\\n|\\n|\\n|\\nNoncurrent lease obligations |\\n|\\n|\\n508,950 |\\n|\\n|\\n429,192 |\\nOther liabilities |\\n|\\n|\\n37,128 |\\n|\\n|\\n46,816 |\\nTotal other liabilities |\\n|\\n|\\n546,078 |\\n|\\n|\\n476,008 |\\n|\\n|\\n|\\n|\\n|\\n|\\n|\\nTotal Caleres, Inc. shareholders\\u2019 equity |\\n|\\n|\\n606,062 |\\n|\\n|\\n464,992 |\\nNoncontrolling interests |\\n|\\n|\\n7,422 |\\n|\\n|\\n6,589 |\\nTotal equity |\\n|\\n|\\n613,484 |\\n|\\n|\\n471,581 |\\nTotal liabilities and equity |\\n|\\n$ |\\n2,019,985 |\\n|\\n$ |\\n1,903,960 |\\nSCHEDULE 3 |\\n|\\nCALERES, INC. |\\nCONDENSED CONSOLIDATED STATEMENTS OF CASH FLOWS |\\n|\\n|\\n|\\n|\\n|\\n|\\n|\\n||\\n|\\n|\\n(Unaudited) |\\n||||||\\n|\\n|\\nTwenty-Six Weeks Ended |\\n||||||\\n($ thousands) |\\n|\\nAugust 3, 2024 |\\n|\\nJuly 29, 2023 |\\n||||\\nOPERATING ACTIVITIES: |\\n|\\n|\\n|\\n|\\n|\\n|\\n||\\nNet cash provided by operating activities |\\n|\\n$ |\\n115,696 |\\n|\\n|\\n$ |\\n125,176 |\\n|\\n|\\n|\\n|\\n|\\n|\\n|\\n|\\n||\\nINVESTING ACTIVITIES: |\\n|\\n|\\n|\\n|\\n|\\n|\\n||\\nPurchases of property and equipment |\\n|\\n|\\n(20,886 |\\n) |\\n|\\n|\\n(15,044 |\\n) |\\nCapitalized software |\\n|\\n|\\n(922 |\\n) |\\n|\\n|\\n(1,833 |\\n) |\\nNet cash used for investing activities |\\n|\\n|\\n(21,808 |\\n) |\\n|\\n|\\n(16,877 |\\n) |\\n|\\n|\\n|\\n|\\n|\\n|\\n|\\n||\\nFINANCING ACTIVITIES: |\\n|\\n|\\n|\\n|\\n|\\n|\\n||\\nBorrowings under revolving credit agreement |\\n|\\n|\\n306,868 |\\n|\\n|\\n|\\n252,000 |\\n|\\nRepayments under revolving credit agreement |\\n|\\n|\\n(342,368 |\\n) |\\n|\\n|\\n(315,500 |\\n) |\\nDividends paid |\\n|\\n|\\n(4,899 |\\n) |\\n|\\n|\\n(4,997 |\\n) |\\nAcquisition of treasury stock |\\n|\\n|\\n(15,070 |\\n) |\\n|\\n|\\n(17,445 |\\n) |\\nIssuance of common stock under share-based plans, net |\\n|\\n|\\n(8,457 |\\n) |\\n|\\n|\\n(10,010 |\\n) |\\nContributions by noncontrolling interests |\\n|\\n|\\n500 |\\n|\\n|\\n|\\n1,000 |\\n|\\nNet cash used for financing activities |\\n|\\n|\\n(63,426 |\\n) |\\n|\\n|\\n(94,952 |\\n) |\\nEffect of exchange rate changes on cash and cash equivalents |\\n|\\n|\\n(67 |\\n) |\\n|\\n|\\n51 |\\n|\\nIncrease in cash and cash equivalents |\\n|\\n|\\n30,395 |\\n|\\n|\\n|\\n13,398 |\\n|\\nCash and cash equivalents at beginning of period |\\n|\\n|\\n21,358 |\\n|\\n|\\n|\\n33,700 |\\n|\\nCash and cash equivalents at end of period |\\n|\\n$ |\\n51,753 |\\n|\\n|\\n$ |\\n47,098 |\\n|\\nSCHEDULE 4 |\\n|\\nCALERES, INC. |\\nRECONCILIATION OF NET EARNINGS AND DILUTED EARNINGS PER SHARE (GAAP BASIS) TO ADJUSTED NET EARNINGS AND ADJUSTED DILUTED EARNINGS PER SHARE (NON-GAAP BASIS) |\\n|\\n|\\n|\\n|\\n|\\n|\\n|\\n|\\n|\\n|\\n|\\n|\\n|\\n|\\n|\\n|\\n|\\n|\\n|\\n|\\n|\\n(Unaudited) |\\n||||||||||||||||\\n|\\n|\\nThirteen Weeks Ended |\\n||||||||||||||||\\n|\\n|\\nAugust 3, 2024 |\\n|\\nJuly 29, 2023 |\\n||||||||||||||\\n|\\n|\\n|\\n|\\n|\\n|\\n|\\n|\\n|\\n|\\n|\\n|\\n|\\n|\\n|\\n|\\n|\\n||\\n|\\n|\\nPre-Tax |\\n|\\nNet Earnings |\\n|\\n|\\n|\\n|\\nPre-Tax |\\n|\\nNet Earnings |\\n|\\n|\\n|||||\\n|\\n|\\nImpact of |\\n|\\nAttributable |\\n|\\n|\\nDiluted |\\n|\\nImpact of |\\n|\\nAttributable |\\n|\\nDiluted |\\n|||||\\n|\\n|\\nCharges/Other |\\n|\\nto Caleres, |\\n|\\n|\\nEarnings |\\n|\\nCharges/Other |\\n|\\nto Caleres, |\\n|\\nEarnings |\\n|||||\\n($ thousands, except per share data) |\\n|\\nItems |\\n|\\nInc. |\\n|\\n|\\nPer Share |\\n|\\nItems |\\n|\\nInc. |\\n|\\nPer Share |\\n|||||\\n|\\n|\\n|\\n|\\n|\\n|\\n|\\n|\\n|\\n|\\n|\\n|\\n|\\n|\\n|\\n|\\n|\\n|\\n|\\nGAAP earnings |\\n|\\n|\\n|\\n|\\n$ |\\n29,958 |\\n|\\n$ |\\n0.85 |\\n|\\n|\\n|\\n|\\n$ |\\n33,943 |\\n|\\n$ |\\n0.95 |\\n|\\n|\\n|\\n|\\n|\\n|\\n|\\n|\\n|\\n|\\n|\\n|\\n|\\n|\\n|\\n|\\n|\\n|\\n|\\nCharges/other items: |\\n|\\n|\\n|\\n|\\n|\\n|\\n|\\n|\\n|\\n|\\n|\\n|\\n|\\n|\\n|\\n|\\n|\\n|\\nExpense reduction initiatives |\\n|\\n|\\n\\u2014 |\\n|\\n|\\n\\u2014 |\\n|\\n|\\n\\u2014 |\\n|\\n|\\n1,647 |\\n|\\n|\\n1,224 |\\n|\\n|\\n0.03 |\\nTotal charges/other items |\\n|\\n$ |\\n\\u2014 |\\n|\\n$ |\\n\\u2014 |\\n|\\n$ |\\n\\u2014 |\\n|\\n$ |\\n1,647 |\\n|\\n$ |\\n1,224 |\\n|\\n$ |\\n0.03 |\\nAdjusted earnings |\\n|\\n|\\n|\\n|\\n$ |\\n29,958 |\\n|\\n$ |\\n0.85 |\\n|\\n|\\n|\\n|\\n$ |\\n35,167 |\\n|\\n$ |\\n0.98 |\\n|\\n|\\n|\\n|\\n|\\n|\\n|\\n|\\n|\\n|\\n|\\n|\\n|\\n|\\n|\\n|\\n|\\n|\\n|\\n|\\n|\\n(Unaudited) |\\n||||||||||||||||\\n|\\n|\\nTwenty-Six Weeks Ended |\\n||||||||||||||||\\n|\\n|\\nAugust 3, 2024 |\\n|\\nJuly 29, 2023 |\\n||||||||||||||\\n|\\n|\\n|\\n|\\n|\\n|\\n|\\n|\\n|\\n|\\n|\\n|\\n|\\n|\\n|\\n|\\n|\\n||\\n|\\n|\\nPre-Tax |\\n|\\nNet Earnings |\\n|\\n|\\n|\\nPre-Tax |\\n|\\nNet Earnings |\\n|\\n|\\n||||||\\n|\\n|\\nImpact of |\\n|\\nAttributable |\\n|\\nDiluted |\\n|\\nImpact of |\\n|\\nAttributable |\\n|\\nDiluted |\\n||||||\\n|\\n|\\nCharges/Other |\\n|\\nto Caleres, |\\n|\\nEarnings |\\n|\\nCharges/Other |\\n|\\nto Caleres, |\\n|\\nEarnings |\\n||||||\\n($ thousands, except per share data) |\\n|\\nItems |\\n|\\nInc. |\\n|\\nPer Share |\\n|\\nItems |\\n|\\nInc. |\\n|\\nPer Share |\\n||||||\\n|\\n|\\n|\\n|\\n|\\n|\\n|\\n|\\n|\\n|\\n|\\n|\\n|\\n|\\n|\\n|\\n|\\n|\\n|\\nGAAP earnings |\\n|\\n|\\n|\\n|\\n$ |\\n60,898 |\\n|\\n$ |\\n1.73 |\\n|\\n|\\n|\\n|\\n$ |\\n68,670 |\\n|\\n$ |\\n1.91 |\\n|\\n|\\n|\\n|\\n|\\n|\\n|\\n|\\n|\\n|\\n|\\n|\\n|\\n|\\n|\\n|\\n|\\n|\\n|\\nCharges/other items: |\\n|\\n|\\n|\\n|\\n|\\n|\\n|\\n|\\n|\\n|\\n|\\n|\\n|\\n|\\n|\\n|\\n|\\n|\\nExpense reduction initiatives |\\n|\\n|\\n\\u2014 |\\n|\\n|\\n\\u2014 |\\n|\\n|\\n\\u2014 |\\n|\\n|\\n1,647 |\\n|\\n|\\n1,224 |\\n|\\n|\\n0.04 |\\nTotal charges/other items |\\n|\\n$ |\\n\\u2014 |\\n|\\n$ |\\n\\u2014 |\\n|\\n$ |\\n\\u2014 |\\n|\\n$ |\\n1,647 |\\n|\\n$ |\\n1,224 |\\n|\\n$ |\\n0.04 |\\nAdjusted earnings |\\n|\\n|\\n|\\n|\\n$ |\\n60,898 |\\n|\\n$ |\\n1.73 |\\n|\\n|\\n|\\n|\\n$ |\\n69,894 |\\n|\\n$ |\\n1.95 |\\n|\\n|\\n|\\n|\\n|\\n|\\n|\\n|\\n|\\n|\\n|\\n|\\n|\\n|\\n||\\n|\\n|\\n(Unaudited) |\\n|||||||||||||\\n|\\n|\\nTrailing Twelve Months Ended |\\n|||||||||||||\\n|\\n|\\nAugust 3, 2024 |\\n|\\nJuly 29, 2023 |\\n|||||||||||\\n|\\n|\\n|\\n|\\n|\\n|\\n|\\n|\\n|\\n|\\n|\\n|\\n|\\n|\\n||\\n|\\n|\\nPre-Tax |\\n|\\nNet Earnings (Loss) |\\n|\\n|\\nPre-Tax |\\n|\\nNet Earnings (Loss) |\\n||||||\\n|\\n|\\nImpact of |\\n|\\nAttributable |\\n|\\n|\\nImpact of |\\n|\\nAttributable |\\n||||||\\n|\\n|\\nCharges/Other |\\n|\\nto Caleres, |\\n|\\n|\\nCharges/Other |\\n|\\nto Caleres, |\\n||||||\\n($ thousands) |\\n|\\nItems |\\n|\\nInc. |\\n|\\n|\\nItems |\\n|\\nInc. |\\n||||||\\n|\\n|\\n|\\n|\\n|\\n|\\n|\\n|\\n|\\n|\\n|\\n|\\n|\\n|\\n||\\nGAAP earnings |\\n|\\n|\\n|\\n|\\n$ |\\n163,619 |\\n|\\n|\\n|\\n|\\n|\\n|\\n$ |\\n148,725 |\\n|\\n|\\n|\\n|\\n|\\n|\\n|\\n|\\n|\\n|\\n|\\n|\\n|\\n|\\n|\\n||\\nCharges/other items: |\\n|\\n|\\n|\\n|\\n|\\n|\\n|\\n|\\n|\\n|\\n|\\n|\\n|\\n||\\nDeferred tax valuation allowance adjustments |\\n|\\n$ |\\n\\u2014 |\\n|\\n|\\n(26,654 |\\n) |\\n|\\n|\\n$ |\\n\\u2014 |\\n|\\n|\\n(17,374 |\\n) |\\nExpense reduction initiatives |\\n|\\n|\\n4,456 |\\n|\\n|\\n3,308 |\\n|\\n|\\n|\\n|\\n1,647 |\\n|\\n|\\n1,224 |\\n|\\nOrganizational changes |\\n|\\n|\\n\\u2014 |\\n|\\n|\\n\\u2014 |\\n|\\n|\\n|\\n|\\n2,910 |\\n|\\n|\\n2,723 |\\n|\\nTotal charges/other items |\\n|\\n$ |\\n4,456 |\\n|\\n$ |\\n(23,346 |\\n) |\\n|\\n|\\n$ |\\n4,557 |\\n|\\n$ |\\n(13,427 |\\n) |\\nAdjusted earnings |\\n|\\n|\\n|\\n|\\n$ |\\n140,273 |\\n|\\n|\\n|\\n|\\n|\\n|\\n$ |\\n135,298 |\\n|\\nSCHEDULE 5 |\\n||||||||\\n|\\n|\\n|\\n|\\n|\\n|\\n|\\n|\\n|\\nCALERES, INC. |\\n||||||||\\nSUMMARY FINANCIAL RESULTS BY SEGMENT |\\n||||||||\\n|\\n|\\n|\\n|\\n|\\n|\\n|\\n|\\n|\\nSUMMARY FINANCIAL RESULTS |\\n|\\n|\\n|\\n|\\n|\\n|\\n|\\n|\\n|\\n|\\n|\\n|\\n|\\n|\\n|\\n|\\n|\\n|\\n|\\n|\\n|\\n|\\n|\\n|\\n|\\n|\\n|\\n|\\n|\\n|\\n|\\n||||\\n|\\n|\\n(Unaudited) |\\n|\\n||||||||||||||||||||||||||\\n|\\n|\\nThirteen Weeks Ended |\\n|\\n||||||||||||||||||||||||||\\n|\\n|\\nFamous Footwear |\\n|\\nBrand Portfolio |\\n|\\nEliminations and Other |\\n|\\nConsolidated |\\n|\\n||||||||||||||||||||\\n|\\n|\\nAugust 3, |\\n|\\nJuly 29, |\\n|\\nAugust 3, |\\n|\\nJuly 29, |\\n|\\nAugust 3, |\\n|\\nJuly 29, |\\n|\\nAugust 3, |\\n|\\nJuly 29, |\\n|\\n||||||||||||\\n($ thousands) |\\n|\\n2024 |\\n|\\n|\\n2023 |\\n|\\n|\\n2024 |\\n|\\n2023 |\\n|\\n2024 |\\n|\\n|\\n2023 |\\n|\\n|\\n2024 |\\n|\\n2023 |\\n|\\n||||||||\\nNet sales |\\n|\\n$ |\\n420,289 |\\n|\\n|\\n$ |\\n414,238 |\\n|\\n|\\n$ |\\n285,497 |\\n|\\n$ |\\n300,873 |\\n|\\n$ |\\n(22,469 |\\n) |\\n|\\n$ |\\n(19,578 |\\n) |\\n|\\n$ |\\n683,317 |\\n|\\n$ |\\n695,533 |\\n|\\nGross profit |\\n|\\n|\\n189,337 |\\n|\\n|\\n|\\n191,479 |\\n|\\n|\\n|\\n121,883 |\\n|\\n|\\n124,124 |\\n|\\n|\\n(342 |\\n) |\\n|\\n|\\n(1,430 |\\n) |\\n|\\n|\\n310,878 |\\n|\\n|\\n314,173 |\\n|\\nGross margin |\\n|\\n|\\n45.0 |\\n|\\n% |\\n|\\n46.2 |\\n|\\n% |\\n|\\n42.7 |\\n% |\\n|\\n41.3 |\\n% |\\n|\\n1.5 |\\n|\\n% |\\n|\\n7.3 |\\n|\\n% |\\n|\\n45.5 |\\n% |\\n|\\n45.2 |\\n% |\\nOperating earnings (loss) |\\n|\\n|\\n34,384 |\\n|\\n|\\n|\\n40,630 |\\n|\\n|\\n|\\n23,620 |\\n|\\n|\\n26,828 |\\n|\\n|\\n(15,475 |\\n) |\\n|\\n|\\n(17,755 |\\n) |\\n|\\n|\\n42,529 |\\n|\\n|\\n49,703 |\\n|\\nAdjusted operating earnings (loss) |\\n|\\n|\\n34,384 |\\n|\\n|\\n|\\n40,830 |\\n|\\n|\\n|\\n23,620 |\\n|\\n|\\n27,709 |\\n|\\n|\\n(15,475 |\\n) |\\n|\\n|\\n(17,189 |\\n) |\\n|\\n|\\n42,529 |\\n|\\n|\\n51,350 |\\n|\\nOperating margin |\\n|\\n|\\n8.2 |\\n|\\n% |\\n|\\n9.8 |\\n|\\n% |\\n|\\n8.3 |\\n% |\\n|\\n8.9 |\\n% |\\n|\\nn/m |\\n|\\n% |\\n|\\nn/m |\\n|\\n% |\\n|\\n6.2 |\\n% |\\n|\\n7.1 |\\n% |\\nAdjusted operating earnings % |\\n|\\n|\\n8.2 |\\n|\\n% |\\n|\\n9.9 |\\n|\\n% |\\n|\\n8.3 |\\n% |\\n|\\n9.2 |\\n% |\\n|\\nn/m |\\n|\\n% |\\n|\\nn/m |\\n|\\n% |\\n|\\n6.2 |\\n% |\\n|\\n7.4 |\\n% |\\nComparable sales % (on a 13-week basis) |\\n|\\n|\\n(2.9 |\\n) |\\n% |\\n|\\n(4.3 |\\n) |\\n% |\\n|\\n4.4 |\\n% |\\n|\\n3.9 |\\n% |\\n|\\n\\u2014 |\\n|\\n% |\\n|\\n\\u2014 |\\n|\\n% |\\n|\\n\\u2014 |\\n% |\\n|\\n\\u2014 |\\n% |\\nCompany-operated stores, end of period |\\n|\\n|\\n855 |\\n|\\n|\\n|\\n861 |\\n|\\n|\\n|\\n104 |\\n|\\n|\\n94 |\\n|\\n|\\n\\u2014 |\\n|\\n|\\n|\\n\\u2014 |\\n|\\n|\\n|\\n959 |\\n|\\n|\\n955 |\\n|\\nn/m \\u2013 Not meaningful |\\nRECONCILIATION OF ADJUSTED RESULTS\\n|\\n|\\n|\\n|\\n|\\n|\\n|\\n|\\n|\\n|\\n|\\n|\\n|\\n|\\n|\\n|\\n|\\n|\\n|\\n|\\n|\\n|\\n|\\n|\\n|\\n|\\n|\\n|\\n|\\n|\\n|\\n||\\n|\\n|\\n(Unaudited) |\\n||||||||||||||||||||||||\\n|\\n|\\nThirteen Weeks Ended |\\n||||||||||||||||||||||||\\n|\\n|\\nFamous Footwear |\\n|\\nBrand Portfolio |\\n|\\nEliminations and Other |\\n|\\nConsolidated |\\n||||||||||||||||||\\n|\\n|\\nAugust 3, |\\n|\\nJuly 29, |\\n|\\nAugust 3, |\\n|\\nJuly 29, |\\n|\\nAugust 3, |\\n|\\nJuly 29, |\\n|\\nAugust 3, |\\n|\\nJuly 29, |\\n||||||||||\\n($ thousands) |\\n|\\n2024 |\\n|\\n2023 |\\n|\\n2024 |\\n|\\n2023 |\\n|\\n2024 |\\n|\\n|\\n2023 |\\n|\\n|\\n2024 |\\n|\\n2023 |\\n||||||||\\nOperating earnings (loss) |\\n|\\n$ |\\n34,384 |\\n|\\n$ |\\n40,630 |\\n|\\n$ |\\n23,620 |\\n|\\n$ |\\n26,828 |\\n|\\n$ |\\n(15,475 |\\n) |\\n|\\n$ |\\n(17,755 |\\n) |\\n|\\n$ |\\n42,529 |\\n|\\n$ |\\n49,703 |\\nCharges/Other Items: |\\n|\\n|\\n|\\n|\\n|\\n|\\n|\\n|\\n|\\n|\\n|\\n|\\n|\\n|\\n|\\n|\\n|\\n|\\n|\\n|\\n|\\n|\\n|\\n|\\n||\\nExpense reduction initiatives |\\n|\\n|\\n\\u2014 |\\n|\\n|\\n200 |\\n|\\n|\\n\\u2014 |\\n|\\n|\\n881 |\\n|\\n|\\n\\u2014 |\\n|\\n|\\n|\\n566 |\\n|\\n|\\n|\\n\\u2014 |\\n|\\n|\\n1,647 |\\nTotal charges/other items |\\n|\\n|\\n\\u2014 |\\n|\\n|\\n200 |\\n|\\n|\\n\\u2014 |\\n|\\n|\\n881 |\\n|\\n|\\n\\u2014 |\\n|\\n|\\n|\\n566 |\\n|\\n|\\n|\\n\\u2014 |\\n|\\n|\\n1,647 |\\nAdjusted operating earnings (loss) |\\n|\\n$ |\\n34,384 |\\n|\\n$ |\\n40,830 |\\n|\\n$ |\\n23,620 |\\n|\\n$ |\\n27,709 |\\n|\\n$ |\\n(15,475 |\\n) |\\n|\\n$ |\\n(17,189 |\\n) |\\n|\\n$ |\\n42,529 |\\n|\\n$ |\\n51,350 |\\nSCHEDULE 5 |\\n||||||||\\n|\\n|\\n|\\n|\\n|\\n|\\n|\\n|\\n|\\nCALERES, INC. |\\n||||||||\\nSUMMARY FINANCIAL RESULTS BY SEGMENT |\\n||||||||\\n|\\n|\\n|\\n|\\n|\\n|\\n|\\n|\\n|\\nSUMMARY FINANCIAL RESULTS |\\n|\\n|\\n|\\n|\\n|\\n|\\n|\\n|\\n|\\n|\\n|\\n|\\n|\\n|\\n|\\n|\\n|\\n|\\n|\\n|\\n|\\n|\\n|\\n|\\n|\\n|\\n|\\n|\\n|\\n|\\n|\\n||||\\n|\\n|\\n(Unaudited) |\\n|\\n||||||||||||||||||||||||||\\n|\\n|\\nTwenty-Six Weeks Ended |\\n|\\n||||||||||||||||||||||||||\\n|\\n|\\nFamous Footwear |\\n|\\nBrand Portfolio |\\n|\\nEliminations and Other |\\n|\\nConsolidated |\\n|\\n||||||||||||||||||||\\n|\\n|\\nAugust 3, |\\n|\\nJuly 29, |\\n|\\nAugust 3, |\\n|\\nJuly 29, |\\n|\\nAugust 3, |\\n|\\nJuly 29, |\\n|\\nAugust 3, |\\n|\\nJuly 29, |\\n|\\n||||||||||||\\n($ thousands) |\\n|\\n2024 |\\n|\\n|\\n2023 |\\n|\\n|\\n2024 |\\n|\\n2023 |\\n|\\n2024 |\\n|\\n|\\n2023 |\\n|\\n|\\n2024 |\\n|\\n2023 |\\n|\\n||||||||\\nNet sales |\\n|\\n$ |\\n769,841 |\\n|\\n|\\n$ |\\n763,396 |\\n|\\n|\\n$ |\\n602,708 |\\n|\\n$ |\\n626,389 |\\n|\\n$ |\\n(30,034 |\\n) |\\n|\\n$ |\\n(31,518 |\\n) |\\n|\\n$ |\\n1,342,515 |\\n|\\n$ |\\n1,358,267 |\\n|\\nGross profit |\\n|\\n|\\n350,342 |\\n|\\n|\\n|\\n350,611 |\\n|\\n|\\n|\\n269,695 |\\n|\\n|\\n267,982 |\\n|\\n|\\n(64 |\\n) |\\n|\\n|\\n(1,738 |\\n) |\\n|\\n|\\n619,973 |\\n|\\n|\\n616,855 |\\n|\\nGross profit rate |\\n|\\n|\\n45.5 |\\n|\\n% |\\n|\\n45.9 |\\n|\\n% |\\n|\\n44.7 |\\n% |\\n|\\n42.8 |\\n% |\\n|\\n0.2 |\\n|\\n% |\\n|\\n5.5 |\\n|\\n% |\\n|\\n46.2 |\\n% |\\n|\\n45.4 |\\n% |\\nOperating earnings (loss) |\\n|\\n|\\n51,240 |\\n|\\n|\\n|\\n57,686 |\\n|\\n|\\n|\\n65,045 |\\n|\\n|\\n69,497 |\\n|\\n|\\n(30,997 |\\n) |\\n|\\n|\\n(27,893 |\\n) |\\n|\\n|\\n85,288 |\\n|\\n|\\n99,290 |\\n|\\nAdjusted operating earnings (loss) |\\n|\\n|\\n51,240 |\\n|\\n|\\n|\\n57,886 |\\n|\\n|\\n|\\n65,045 |\\n|\\n|\\n70,378 |\\n|\\n|\\n(30,997 |\\n) |\\n|\\n|\\n(27,327 |\\n) |\\n|\\n|\\n85,288 |\\n|\\n|\\n100,937 |\\n|\\nOperating earnings % |\\n|\\n|\\n6.7 |\\n|\\n% |\\n|\\n7.6 |\\n|\\n% |\\n|\\n10.8 |\\n% |\\n|\\n11.1 |\\n% |\\n|\\nn/m |\\n|\\n% |\\n|\\nn/m |\\n|\\n% |\\n|\\n6.4 |\\n% |\\n|\\n7.3 |\\n% |\\nAdjusted operating earnings % |\\n|\\n|\\n6.7 |\\n|\\n% |\\n|\\n7.6 |\\n|\\n% |\\n|\\n10.8 |\\n% |\\n|\\n11.2 |\\n% |\\n|\\nn/m |\\n|\\n% |\\n|\\nn/m |\\n|\\n% |\\n|\\n6.4 |\\n% |\\n|\\n7.4 |\\n% |\\nComparable sales % (on a 26-week basis) |\\n|\\n|\\n(2.6 |\\n) |\\n% |\\n|\\n(6.3 |\\n) |\\n% |\\n|\\n1.9 |\\n% |\\n|\\n7.0 |\\n% |\\n|\\n\\u2014 |\\n|\\n% |\\n|\\n\\u2014 |\\n|\\n% |\\n|\\n\\u2014 |\\n% |\\n|\\n\\u2014 |\\n% |\\nCompany-operated stores, end of period |\\n|\\n|\\n855 |\\n|\\n|\\n|\\n861 |\\n|\\n|\\n|\\n104 |\\n|\\n|\\n94 |\\n|\\n|\\n\\u2014 |\\n|\\n|\\n|\\n\\u2014 |\\n|\\n|\\n|\\n959 |\\n|\\n|\\n955 |\\n|\\nn/m \\u2013 Not meaningful |\\nRECONCILIATION OF ADJUSTED RESULTS\\n|\\n|\\n|\\n|\\n|\\n|\\n|\\n|\\n|\\n|\\n|\\n|\\n|\\n|\\n|\\n|\\n|\\n|\\n|\\n|\\n|\\n|\\n|\\n|\\n|\\n|\\n|\\n|\\n|\\n|\\n|\\n||\\n|\\n|\\n(Unaudited) |\\n||||||||||||||||||||||||\\n|\\n|\\nTwenty-Six Weeks Ended |\\n||||||||||||||||||||||||\\n|\\n|\\nFamous Footwear |\\n|\\nBrand Portfolio |\\n|\\nEliminations and Other |\\n|\\nConsolidated |\\n||||||||||||||||||\\n|\\n|\\nAugust 3, |\\n|\\nJuly 29, |\\n|\\nAugust 3, |\\n|\\nJuly 29, |\\n|\\nAugust 3, |\\n|\\nJuly 29, |\\n|\\nAugust 3, |\\n|\\nJuly 29, |\\n||||||||||\\n($ thousands) |\\n|\\n2024 |\\n|\\n2023 |\\n|\\n2024 |\\n|\\n2023 |\\n|\\n2024 |\\n|\\n|\\n2023 |\\n|\\n|\\n2024 |\\n|\\n2023 |\\n||||||||\\nOperating earnings (loss) |\\n|\\n$ |\\n51,240 |\\n|\\n$ |\\n57,686 |\\n|\\n$ |\\n65,045 |\\n|\\n$ |\\n69,497 |\\n|\\n$ |\\n(30,997 |\\n) |\\n|\\n$ |\\n(27,893 |\\n) |\\n|\\n$ |\\n85,288 |\\n|\\n$ |\\n99,290 |\\nCharges/Other Items: |\\n|\\n|\\n|\\n|\\n|\\n|\\n|\\n|\\n|\\n|\\n|\\n|\\n|\\n|\\n|\\n|\\n|\\n|\\n|\\n|\\n|\\n|\\n|\\n|\\n||\\nExpense reduction initiatives |\\n|\\n|\\n\\u2014 |\\n|\\n|\\n200 |\\n|\\n|\\n\\u2014 |\\n|\\n|\\n881 |\\n|\\n|\\n\\u2014 |\\n|\\n|\\n|\\n566 |\\n|\\n|\\n|\\n\\u2014 |\\n|\\n|\\n1,647 |\\nTotal charges/other items |\\n|\\n|\\n\\u2014 |\\n|\\n|\\n200 |\\n|\\n|\\n\\u2014 |\\n|\\n|\\n881 |\\n|\\n|\\n\\u2014 |\\n|\\n|\\n|\\n566 |\\n|\\n|\\n|\\n\\u2014 |\\n|\\n|\\n1,647 |\\nAdjusted operating earnings (loss) |\\n|\\n$ |\\n51,240 |\\n|\\n$ |\\n57,886 |\\n|\\n$ |\\n65,045 |\\n|\\n$ |\\n70,378 |\\n|\\n$ |\\n(30,997 |\\n) |\\n|\\n$ |\\n(27,327 |\\n) |\\n|\\n$ |\\n85,288 |\\n|\\n$ |\\n100,937 |\\nSCHEDULE 6 |\\n|\\nCALERES, INC. |\\nBASIC AND DILUTED EARNINGS PER SHARE RECONCILIATION |\\n|\\n|\\n|\\n|\\n|\\n|\\n|\\n|\\n|\\n|\\n|\\n|\\n|\\n||||\\n|\\n|\\n(Unaudited) |\\n||||||||||||||\\n|\\n|\\nThirteen Weeks Ended |\\n|\\nTwenty-Six Weeks Ended |\\n||||||||||||\\n|\\n|\\nAugust 3, 2024 |\\n|\\nJuly 29, 2023 |\\n|\\nAugust 3, 2024 |\\n|\\nJuly 29, 2023 |\\n||||||||\\n($ thousands, except per share data) |\\n|\\n|\\n|\\n|\\n|\\n|\\n|\\n|\\n|\\n|\\n|\\n|\\n||||\\nNet earnings attributable to Caleres, Inc.: |\\n|\\n|\\n|\\n|\\n|\\n|\\n|\\n|\\n|\\n|\\n|\\n|\\n||||\\nNet earnings |\\n|\\n$ |\\n30,273 |\\n|\\n|\\n$ |\\n34,365 |\\n|\\n|\\n$ |\\n61,071 |\\n|\\n|\\n$ |\\n69,157 |\\n|\\nNet earnings attributable to noncontrolling interests |\\n|\\n|\\n(315 |\\n) |\\n|\\n|\\n(422 |\\n) |\\n|\\n|\\n(173 |\\n) |\\n|\\n|\\n(487 |\\n) |\\nNet earnings attributable to Caleres, Inc. |\\n|\\n|\\n29,958 |\\n|\\n|\\n|\\n33,943 |\\n|\\n|\\n|\\n60,898 |\\n|\\n|\\n|\\n68,670 |\\n|\\nNet earnings allocated to participating securities |\\n|\\n|\\n(1,065 |\\n) |\\n|\\n|\\n(1,513 |\\n) |\\n|\\n|\\n(2,278 |\\n) |\\n|\\n|\\n(2,990 |\\n) |\\nNet earnings attributable to Caleres, Inc. after allocation of earnings to participating securities |\\n|\\n$ |\\n28,893 |\\n|\\n|\\n$ |\\n32,430 |\\n|\\n|\\n$ |\\n58,620 |\\n|\\n|\\n$ |\\n65,680 |\\n|\\n|\\n|\\n|\\n|\\n|\\n|\\n|\\n|\\n|\\n|\\n|\\n|\\n|\\n||||\\nBasic and diluted common shares attributable to Caleres, Inc.: |\\n|\\n|\\n|\\n|\\n|\\n|\\n|\\n|\\n|\\n|\\n|\\n|\\n||||\\nBasic common shares |\\n|\\n|\\n33,883 |\\n|\\n|\\n|\\n34,280 |\\n|\\n|\\n|\\n33,838 |\\n|\\n|\\n|\\n34,343 |\\n|\\nDilutive effect of share-based awards |\\n|\\n|\\n106 |\\n|\\n|\\n|\\n\\u2014 |\\n|\\n|\\n|\\n106 |\\n|\\n|\\n|\\n\\u2014 |\\n|\\nDiluted common shares attributable to Caleres, Inc. |\\n|\\n|\\n33,989 |\\n|\\n|\\n|\\n34,280 |\\n|\\n|\\n|\\n33,944 |\\n|\\n|\\n|\\n34,343 |\\n|\\n|\\n|\\n|\\n|\\n|\\n|\\n|\\n|\\n|\\n|\\n|\\n|\\n|\\n||||\\nBasic earnings per common share attributable to Caleres, Inc. shareholders |\\n|\\n$ |\\n0.85 |\\n|\\n|\\n$ |\\n0.95 |\\n|\\n|\\n$ |\\n1.73 |\\n|\\n|\\n$ |\\n1.91 |\\n|\\n|\\n|\\n|\\n|\\n|\\n|\\n|\\n|\\n|\\n|\\n|\\n|\\n|\\n||||\\nDiluted earnings per common share attributable to Caleres, Inc. shareholders |\\n|\\n$ |\\n0.85 |\\n|\\n|\\n$ |\\n0.95 |\\n|\\n|\\n$ |\\n1.73 |\\n|\\n|\\n$ |\\n1.91 |\\n|\\nSCHEDULE 7 |\\n|\\nCALERES, INC. |\\nBASIC AND DILUTED ADJUSTED EARNINGS PER SHARE RECONCILIATION |\\n|\\n|\\n|\\n|\\n|\\n|\\n|\\n|\\n|\\n|\\n|\\n|\\n|\\n||||\\n|\\n|\\n(Unaudited) |\\n||||||||||||||\\n|\\n|\\nThirteen Weeks Ended |\\n|\\nTwenty-Six Weeks Ended |\\n||||||||||||\\n|\\n|\\nAugust 3, 2024 |\\n|\\nJuly 29, 2023 |\\n|\\nAugust 3, 2024 |\\n|\\nJuly 29, 2023 |\\n||||||||\\n($ thousands, except per share data) |\\n|\\n|\\n|\\n|\\n|\\n|\\n|\\n|\\n|\\n|\\n|\\n|\\n||||\\nAdjusted net earnings attributable to Caleres, Inc.: |\\n|\\n|\\n|\\n|\\n|\\n|\\n|\\n|\\n|\\n|\\n|\\n|\\n||||\\nAdjusted net earnings |\\n|\\n$ |\\n30,273 |\\n|\\n|\\n$ |\\n35,589 |\\n|\\n|\\n$ |\\n61,071 |\\n|\\n|\\n$ |\\n70,381 |\\n|\\nNet earnings attributable to noncontrolling interests |\\n|\\n|\\n(315 |\\n) |\\n|\\n|\\n(422 |\\n) |\\n|\\n|\\n(173 |\\n) |\\n|\\n|\\n(487 |\\n) |\\nAdjusted net earnings attributable to Caleres, Inc. |\\n|\\n|\\n29,958 |\\n|\\n|\\n|\\n35,167 |\\n|\\n|\\n|\\n60,898 |\\n|\\n|\\n|\\n69,894 |\\n|\\nNet earnings allocated to participating securities |\\n|\\n|\\n(1,065 |\\n) |\\n|\\n|\\n(1,568 |\\n) |\\n|\\n|\\n(2,278 |\\n) |\\n|\\n|\\n(3,044 |\\n) |\\nAdjusted net earnings attributable to Caleres, Inc. after allocation of earnings to participating securities |\\n|\\n$ |\\n28,893 |\\n|\\n|\\n$ |\\n33,599 |\\n|\\n|\\n$ |\\n58,620 |\\n|\\n|\\n$ |\\n66,850 |\\n|\\n|\\n|\\n|\\n|\\n|\\n|\\n|\\n|\\n|\\n|\\n|\\n|\\n|\\n||||\\nBasic and diluted common shares attributable to Caleres, Inc.: |\\n|\\n|\\n|\\n|\\n|\\n|\\n|\\n|\\n|\\n|\\n|\\n|\\n||||\\nBasic common shares |\\n|\\n|\\n33,883 |\\n|\\n|\\n|\\n34,280 |\\n|\\n|\\n|\\n33,838 |\\n|\\n|\\n|\\n34,343 |\\n|\\nDilutive effect of share-based awards |\\n|\\n|\\n106 |\\n|\\n|\\n|\\n\\u2014 |\\n|\\n|\\n|\\n106 |\\n|\\n|\\n|\\n\\u2014 |\\n|\\nDiluted common shares attributable to Caleres, Inc. |\\n|\\n|\\n33,989 |\\n|\\n|\\n|\\n34,280 |\\n|\\n|\\n|\\n33,944 |\\n|\\n|\\n|\\n34,343 |\\n|\\n|\\n|\\n|\\n|\\n|\\n|\\n|\\n|\\n|\\n|\\n|\\n|\\n|\\n||||\\nBasic adjusted earnings per common share attributable to Caleres, Inc. shareholders |\\n|\\n$ |\\n0.85 |\\n|\\n|\\n$ |\\n0.98 |\\n|\\n|\\n$ |\\n1.73 |\\n|\\n|\\n$ |\\n1.95 |\\n|\\n|\\n|\\n|\\n|\\n|\\n|\\n|\\n|\\n|\\n|\\n|\\n|\\n|\\n||||\\nDiluted adjusted earnings per common share attributable to Caleres, Inc. shareholders |\\n|\\n$ |\\n0.85 |\\n|\\n|\\n$ |\\n0.98 |\\n|\\n|\\n$ |\\n1.73 |\\n|\\n|\\n$ |\\n1.95 |\\n|\\nSCHEDULE 8 |\\n|\\nCALERES, INC. |\\nCALCULATION OF EBITDA AND DEBT/EBITDA LEVERAGE RATIO (NON-GAAP METRICS) |\\n|\\n|\\n|\\n|\\n|\\n|\\n|\\n|\\n|\\n|\\n|\\n(Unaudited) |\\n||||||\\n|\\n|\\nThirteen Weeks Ended |\\n||||||\\n($ thousands) |\\n|\\nAugust 3, 2024 |\\n|\\nJuly 29, 2023 |\\n||||\\nEBITDA: |\\n|\\n|\\n|\\n|\\n|\\n|\\n|\\n|\\nNet earnings attributable to Caleres, Inc. |\\n|\\n$ |\\n29,958 |\\n|\\n|\\n$ |\\n33,943 |\\n|\\nIncome tax provision |\\n|\\n|\\n10,101 |\\n|\\n|\\n|\\n11,826 |\\n|\\nInterest expense, net |\\n|\\n|\\n3,332 |\\n|\\n|\\n|\\n5,128 |\\n|\\nDepreciation and amortization (1) |\\n|\\n|\\n13,818 |\\n|\\n|\\n|\\n12,734 |\\n|\\nEBITDA |\\n|\\n$ |\\n57,209 |\\n|\\n|\\n$ |\\n63,631 |\\n|\\n|\\n|\\n|\\n|\\n|\\n|\\n|\\n|\\n|\\nEBITDA margin |\\n|\\n|\\n8.4 |\\n% |\\n|\\n|\\n9.1 |\\n% |\\n|\\n|\\n|\\n|\\n|\\n|\\n|\\n|\\n|\\nAdjusted EBITDA: |\\n|\\n|\\n|\\n|\\n|\\n|\\n|\\n|\\nAdjusted net earnings attributable to Caleres, Inc. (2) |\\n|\\n$ |\\n29,958 |\\n|\\n|\\n$ |\\n35,167 |\\n|\\nIncome tax provision (3) |\\n|\\n|\\n10,101 |\\n|\\n|\\n|\\n12,249 |\\n|\\nInterest expense, net |\\n|\\n|\\n3,332 |\\n|\\n|\\n|\\n5,128 |\\n|\\nDepreciation and amortization (1) |\\n|\\n|\\n13,818 |\\n|\\n|\\n|\\n12,734 |\\n|\\nAdjusted EBITDA |\\n|\\n$ |\\n57,209 |\\n|\\n|\\n$ |\\n65,278 |\\n|\\n|\\n|\\n|\\n|\\n|\\n|\\n|\\n|\\n|\\nAdjusted EBITDA margin |\\n|\\n|\\n8.4 |\\n% |\\n|\\n|\\n9.4 |\\n% |\\n|\\n|\\n|\\n|\\n|\\n|\\n|\\n|\\n|\\n|\\n|\\n(Unaudited) |\\n||||||\\n|\\n|\\nTrailing Twelve Months Ended |\\n||||||\\n($ thousands) |\\n|\\nAugust 3, 2024 |\\n|\\nJuly 29, 2023 |\\n||||\\nEBITDA: |\\n|\\n|\\n|\\n|\\n|\\n|\\n|\\n|\\nNet earnings attributable to Caleres, Inc. |\\n|\\n$ |\\n163,619 |\\n|\\n|\\n$ |\\n148,725 |\\n|\\nIncome tax provision |\\n|\\n|\\n6,275 |\\n|\\n|\\n|\\n20,996 |\\n|\\nInterest expense, net |\\n|\\n|\\n15,703 |\\n|\\n|\\n|\\n20,132 |\\n|\\nDepreciation and amortization (1) |\\n|\\n|\\n55,140 |\\n|\\n|\\n|\\n50,105 |\\n|\\nEBITDA |\\n|\\n$ |\\n240,737 |\\n|\\n|\\n$ |\\n239,958 |\\n|\\n|\\n|\\n|\\n|\\n|\\n|\\n|\\n|\\n|\\nEBITDA margin |\\n|\\n|\\n8.6 |\\n% |\\n|\\n|\\n8.4 |\\n% |\\n|\\n|\\n|\\n|\\n|\\n|\\n|\\n|\\n|\\n|\\n|\\n|\\n|\\n|\\n|\\n|\\n|\\n|\\nAdjusted EBITDA: |\\n|\\n|\\n|\\n|\\n|\\n|\\n|\\n|\\nAdjusted net earnings attributable to Caleres, Inc. (2) |\\n|\\n$ |\\n140,273 |\\n|\\n|\\n$ |\\n135,298 |\\n|\\nIncome tax provision (3) |\\n|\\n|\\n34,077 |\\n|\\n|\\n|\\n38,980 |\\n|\\nInterest expense, net |\\n|\\n|\\n15,703 |\\n|\\n|\\n|\\n20,132 |\\n|\\nDepreciation and amortization (1) |\\n|\\n|\\n55,140 |\\n|\\n|\\n|\\n50,105 |\\n|\\nAdjusted EBITDA |\\n|\\n$ |\\n245,193 |\\n|\\n|\\n$ |\\n244,515 |\\n|\\n|\\n|\\n|\\n|\\n|\\n|\\n|\\n|\\n|\\nAdjusted EBITDA margin |\\n|\\n|\\n8.8 |\\n% |\\n|\\n|\\n8.6 |\\n% |\\n|\\n|\\n|\\n|\\n|\\n|\\n|\\n|\\n|\\n|\\n|\\n(Unaudited) |\\n||||||\\n($ thousands) |\\n|\\nAugust 3, 2024 |\\n|\\nJuly 29, 2023 |\\n||||\\nDebt/EBITDA leverage ratio: |\\n|\\n|\\n|\\n|\\n|\\n|\\n|\\n|\\nBorrowings under revolving credit agreement (4) |\\n|\\n$ |\\n146,500 |\\n|\\n|\\n$ |\\n244,000 |\\n|\\nEBITDA (trailing twelve months) |\\n|\\n|\\n240,737 |\\n|\\n|\\n|\\n239,958 |\\n|\\nDebt/EBITDA |\\n|\\n|\\n0.6 |\\n|\\n|\\n|\\n1.0 |\\n|\\n| ________________________ | ||\\n(1) |\\nIncludes depreciation and amortization of capitalized software and intangible assets. |\\n|\\n(2) |\\nRefer to Schedule 4 for the consolidated reconciliation of net earnings attributable to Caleres, Inc. to adjusted net earnings attributable to Caleres, Inc. | |\\n(3) |\\nExcludes the income tax impacts of the adjustments on Schedule 4. | |\\n(4) |\\nTotal availability under the revolving credit agreement was $344.1 million and $245.3 million as of August 3, 2024 and July 29, 2023, respectively. Total liquidity, which includes cash and cash equivalents and availability under the revolving credit agreement, was $395.9 million and $292.4 million for the respective periods. |\\nSCHEDULE 9 |\\n|\\nCALERES, INC. |\\nRECONCILIATION OF DILUTED EARNINGS PER SHARE (GAAP BASIS) TO ADJUSTED DILUTED EARNINGS PER SHARE (NON-GAAP BASIS) \\u2013 GUIDANCE |\\n|\\n|\\n|\\n|\\n|\\n|\\n|\\n|\\n|\\n|\\n|\\n|\\n|\\n|\\n|\\n(Unaudited) |\\n||||||||||\\n|\\n|\\nThird Quarter 2024 |\\n|\\nFiscal 2024 |\\n||||||||\\n|\\n|\\nLow |\\n|\\nHigh |\\n|\\nLow |\\n|\\nHigh |\\n||||\\n|\\n|\\n|\\n|\\n|\\n|\\n|\\n|\\n|\\n|\\n|\\n|\\n|\\nGAAP diluted earnings per share |\\n|\\n$ |\\n1.24 |\\n|\\n$ |\\n1.34 |\\n|\\n$ |\\n3.94 |\\n|\\n$ |\\n4.09 |\\nCharges/other items: |\\n|\\n|\\n|\\n|\\n|\\n|\\n|\\n|\\n|\\n|\\n|\\n|\\nRestructuring costs |\\n|\\n|\\n0.06 |\\n|\\n|\\n0.06 |\\n|\\n|\\n0.06 |\\n|\\n|\\n0.06 |\\nAdjusted diluted earnings per share |\\n|\\n$ |\\n1.30 |\\n|\\n$ |\\n1.40 |\\n|\\n$ |\\n4.00 |\\n|\\n$ |\\n4.15 |\"\n        ],\n        \"semantic_type\": \"\",\n        \"description\": \"\"\n      }\n    }\n  ]\n}"
            }
          },
          "metadata": {},
          "execution_count": 40
        }
      ],
      "source": [
        "df.tail()"
      ]
    },
    {
      "cell_type": "code",
      "execution_count": 41,
      "metadata": {
        "colab": {
          "base_uri": "https://localhost:8080/"
        },
        "id": "LRRQgaNWmF9F",
        "outputId": "9613ac7a-b169-487d-89d4-44c65514ca17"
      },
      "outputs": [
        {
          "output_type": "stream",
          "name": "stderr",
          "text": [
            "[nltk_data] Downloading package averaged_perceptron_tagger_eng to\n",
            "[nltk_data]     /root/nltk_data...\n",
            "[nltk_data]   Unzipping taggers/averaged_perceptron_tagger_eng.zip.\n",
            "[nltk_data] Downloading package punkt to /root/nltk_data...\n",
            "[nltk_data]   Unzipping tokenizers/punkt.zip.\n",
            "[nltk_data] Downloading package wordnet to /root/nltk_data...\n",
            "[nltk_data] Downloading package stopwords to /root/nltk_data...\n",
            "[nltk_data]   Unzipping corpora/stopwords.zip.\n",
            "[nltk_data] Downloading package punkt_tab to /root/nltk_data...\n",
            "[nltk_data]   Unzipping tokenizers/punkt_tab.zip.\n"
          ]
        },
        {
          "output_type": "execute_result",
          "data": {
            "text/plain": [
              "True"
            ]
          },
          "metadata": {},
          "execution_count": 41
        }
      ],
      "source": [
        "nltk.download(\"averaged_perceptron_tagger_eng\")  # Specify 'eng' for English\n",
        "nltk.download(\"punkt\")\n",
        "nltk.download(\"wordnet\")\n",
        "nltk.download(\"stopwords\")\n",
        "nltk.download('punkt_tab')"
      ]
    },
    {
      "cell_type": "code",
      "execution_count": 42,
      "metadata": {
        "id": "cIuuv39amTHk"
      },
      "outputs": [],
      "source": [
        "# Initialize NLP tools\n",
        "stop_words = set(stopwords.words(\"english\"))\n",
        "lemmatizer = WordNetLemmatizer()"
      ]
    },
    {
      "cell_type": "code",
      "execution_count": 43,
      "metadata": {
        "id": "yaYIhM_MzDpN"
      },
      "outputs": [],
      "source": [
        "# Function to convert POS tags to WordNet format\n",
        "def get_wordnet_pos(word):\n",
        "    tag = pos_tag([word])[0][1][0].upper()  # Get first letter of POS tag\n",
        "    tag_dict = {\"J\": wordnet.ADJ, \"N\": wordnet.NOUN, \"V\": wordnet.VERB, \"R\": wordnet.ADV}\n",
        "    return tag_dict.get(tag, wordnet.NOUN)  # Default to noun if not found"
      ]
    },
    {
      "cell_type": "code",
      "execution_count": 44,
      "metadata": {
        "colab": {
          "base_uri": "https://localhost:8080/"
        },
        "id": "bGFBdL-2mau-",
        "outputId": "40f6ce32-c955-4495-aa7e-20e915397490"
      },
      "outputs": [
        {
          "output_type": "stream",
          "name": "stderr",
          "text": [
            "<ipython-input-44-aa461f298f04>:26: SettingWithCopyWarning: \n",
            "A value is trying to be set on a copy of a slice from a DataFrame.\n",
            "Try using .loc[row_indexer,col_indexer] = value instead\n",
            "\n",
            "See the caveats in the documentation: https://pandas.pydata.org/pandas-docs/stable/user_guide/indexing.html#returning-a-view-versus-a-copy\n",
            "  df[\"Cleaned_Article\"] = df[\"Full_Article\"].apply(preprocess_text)\n"
          ]
        }
      ],
      "source": [
        "def preprocess_text(text):\n",
        "    if pd.isnull(text):  # Handle missing values\n",
        "        return \"\"\n",
        "\n",
        "    # Remove HTML tags\n",
        "    text = BeautifulSoup(text, \"html.parser\").get_text()\n",
        "\n",
        "    # Convert to lowercase\n",
        "    text = text.lower()\n",
        "\n",
        "    # Remove special characters, numbers, and extra spaces\n",
        "    text = re.sub(r\"[^a-z\\s]\", \"\", text)\n",
        "\n",
        "    # Tokenization\n",
        "    words = word_tokenize(text)\n",
        "\n",
        "    # Remove stopwords\n",
        "    words = [word for word in words if word not in stop_words]\n",
        "\n",
        "    # Lemmatization with POS tagging\n",
        "    words = [lemmatizer.lemmatize(word, get_wordnet_pos(word)) for word in words]\n",
        "\n",
        "    return \" \".join(words)\n",
        "\n",
        "# Apply preprocessing to the Full_Article column\n",
        "df[\"Cleaned_Article\"] = df[\"Full_Article\"].apply(preprocess_text)\n"
      ]
    },
    {
      "cell_type": "code",
      "execution_count": 45,
      "metadata": {
        "id": "b63MlMwovBWS"
      },
      "outputs": [],
      "source": [
        "import spacy\n",
        "# Load Spacy NLP model with necessary components\n",
        "#nlp = spacy.load(\"en_core_web_sm\", disable=[\"parser\"])  # Keep 'tagger' for lemmatization"
      ]
    },
    {
      "cell_type": "code",
      "execution_count": 46,
      "metadata": {
        "id": "sOPJrKrYws9d"
      },
      "outputs": [],
      "source": [
        "def extract_named_entities_batch(texts):\n",
        "    \"\"\"Extract Named Entities in batches for efficiency.\"\"\"\n",
        "    entities_list = []\n",
        "    for doc in nlp.pipe(texts, batch_size=20, disable=[\"parser\"]):  # Batch processing for speed\n",
        "        entities = [(ent.text, ent.label_) for ent in doc.ents]\n",
        "        entities_list.append(entities)\n",
        "    return entities_list\n",
        "\n"
      ]
    },
    {
      "cell_type": "code",
      "execution_count": 47,
      "metadata": {
        "id": "R5Y92ZZpzbPP"
      },
      "outputs": [],
      "source": [
        "# Load the dataframe\n",
        "#df = pd.read_csv(\"Updated_Articles.csv\")"
      ]
    },
    {
      "cell_type": "code",
      "execution_count": 48,
      "metadata": {
        "colab": {
          "base_uri": "https://localhost:8080/"
        },
        "id": "fO7jiQLNyz6-",
        "outputId": "64ae25e4-54bd-4457-b05c-9f55b5f8b98d"
      },
      "outputs": [
        {
          "output_type": "stream",
          "name": "stderr",
          "text": [
            "<ipython-input-48-6cd14053ff7c>:2: SettingWithCopyWarning: \n",
            "A value is trying to be set on a copy of a slice from a DataFrame.\n",
            "Try using .loc[row_indexer,col_indexer] = value instead\n",
            "\n",
            "See the caveats in the documentation: https://pandas.pydata.org/pandas-docs/stable/user_guide/indexing.html#returning-a-view-versus-a-copy\n",
            "  df.loc[:, \"Named_Entities\"] = df[\"Cleaned_Article\"].astype(str).apply(lambda text: [(ent.text, ent.label_) for ent in nlp(text).ents])\n"
          ]
        }
      ],
      "source": [
        "# Apply NER on the cleaned article column\n",
        "df.loc[:, \"Named_Entities\"] = df[\"Cleaned_Article\"].astype(str).apply(lambda text: [(ent.text, ent.label_) for ent in nlp(text).ents])"
      ]
    },
    {
      "cell_type": "code",
      "execution_count": 49,
      "metadata": {
        "colab": {
          "base_uri": "https://localhost:8080/"
        },
        "id": "eIJ_l49zDo-a",
        "outputId": "d25ccf82-8dc8-4264-a743-a2b1c9bd164b"
      },
      "outputs": [
        {
          "output_type": "stream",
          "name": "stderr",
          "text": [
            "<ipython-input-49-517820218677>:2: SettingWithCopyWarning: \n",
            "A value is trying to be set on a copy of a slice from a DataFrame.\n",
            "Try using .loc[row_indexer,col_indexer] = value instead\n",
            "\n",
            "See the caveats in the documentation: https://pandas.pydata.org/pandas-docs/stable/user_guide/indexing.html#returning-a-view-versus-a-copy\n",
            "  df.loc[:, \"Sentiment_Score\"] = df[\"Cleaned_Article\"].astype(str).apply(lambda text: TextBlob(text).sentiment.polarity if not pd.isnull(text) else np.nan)\n"
          ]
        }
      ],
      "source": [
        "# Apply Sentiment Analysis on the cleaned article column, handling missing values\n",
        "df.loc[:, \"Sentiment_Score\"] = df[\"Cleaned_Article\"].astype(str).apply(lambda text: TextBlob(text).sentiment.polarity if not pd.isnull(text) else np.nan)"
      ]
    },
    {
      "cell_type": "code",
      "execution_count": 50,
      "metadata": {
        "colab": {
          "base_uri": "https://localhost:8080/"
        },
        "id": "-szr4OTcD58i",
        "outputId": "17ad42c2-a2d2-40c2-f3b0-3b357bc276a7"
      },
      "outputs": [
        {
          "output_type": "stream",
          "name": "stderr",
          "text": [
            "<ipython-input-50-df05ccdd9d34>:14: SettingWithCopyWarning: \n",
            "A value is trying to be set on a copy of a slice from a DataFrame.\n",
            "Try using .loc[row_indexer,col_indexer] = value instead\n",
            "\n",
            "See the caveats in the documentation: https://pandas.pydata.org/pandas-docs/stable/user_guide/indexing.html#returning-a-view-versus-a-copy\n",
            "  df.loc[:, \"Word_Frequency\"] = df[\"Cleaned_Article\"].apply(get_word_frequencies)\n"
          ]
        }
      ],
      "source": [
        "from collections import Counter\n",
        "\n",
        "# Function to get word frequencies\n",
        "def get_word_frequencies(text):\n",
        "    # Check if text is a valid string before splitting\n",
        "    if isinstance(text, str):\n",
        "        words = text.split()\n",
        "        word_counts = Counter(words)\n",
        "        return dict(word_counts)\n",
        "    else:\n",
        "        return {}  # Return an empty dictionary for non-string values\n",
        "\n",
        "# Apply the word frequency function to the 'Cleaned_Article' column\n",
        "df.loc[:, \"Word_Frequency\"] = df[\"Cleaned_Article\"].apply(get_word_frequencies)"
      ]
    },
    {
      "cell_type": "code",
      "execution_count": 51,
      "metadata": {
        "id": "NwETZounTPot"
      },
      "outputs": [],
      "source": [
        "df.to_csv(\"/content/drive/My Drive/Preprocessed2_Articles.csv\", index=False, encoding=\"utf-8\")"
      ]
    },
    {
      "cell_type": "code",
      "execution_count": 52,
      "metadata": {
        "colab": {
          "base_uri": "https://localhost:8080/"
        },
        "id": "7iKgxub13CvY",
        "outputId": "943e5a7d-a14e-4ba3-a30c-4b457040df97"
      },
      "outputs": [
        {
          "output_type": "stream",
          "name": "stdout",
          "text": [
            "<class 'pandas.core.frame.DataFrame'>\n",
            "Index: 544 entries, 0 to 747\n",
            "Data columns (total 6 columns):\n",
            " #   Column           Non-Null Count  Dtype  \n",
            "---  ------           --------------  -----  \n",
            " 0   title            544 non-null    object \n",
            " 1   Full_Article     544 non-null    object \n",
            " 2   Cleaned_Article  544 non-null    object \n",
            " 3   Named_Entities   544 non-null    object \n",
            " 4   Sentiment_Score  544 non-null    float64\n",
            " 5   Word_Frequency   544 non-null    object \n",
            "dtypes: float64(1), object(5)\n",
            "memory usage: 29.8+ KB\n"
          ]
        }
      ],
      "source": [
        "df.info()"
      ]
    },
    {
      "cell_type": "code",
      "execution_count": 53,
      "metadata": {
        "id": "TkO01Azjqh9S"
      },
      "outputs": [],
      "source": [
        "# 4. **Topic Modeling (TF-IDF)**\n",
        "vectorizer = TfidfVectorizer(max_features=50)  # Adjust number of features as needed\n",
        "tfidf_matrix = vectorizer.fit_transform(df[\"Cleaned_Article\"])\n",
        "tfidf_df = pd.DataFrame(tfidf_matrix.toarray(), columns=vectorizer.get_feature_names_out())\n",
        "\n",
        "# Merge TF-IDF features into the main dataset\n",
        "df = pd.concat([df, tfidf_df], axis=1)"
      ]
    },
    {
      "cell_type": "code",
      "execution_count": 54,
      "metadata": {
        "id": "RZTJCh3p4CW9"
      },
      "outputs": [],
      "source": [
        "df.to_csv(\"/content/drive/My Drive/Preprocessed1_Articles.csv\", index=False, encoding=\"utf-8\")"
      ]
    },
    {
      "cell_type": "code",
      "execution_count": 55,
      "metadata": {
        "colab": {
          "base_uri": "https://localhost:8080/"
        },
        "id": "nujXIso-BP1W",
        "outputId": "720343e4-00dd-4ce1-f3ad-03251a84db5f"
      },
      "outputs": [
        {
          "output_type": "stream",
          "name": "stderr",
          "text": [
            "[nltk_data] Downloading package vader_lexicon to /root/nltk_data...\n",
            "[nltk_data] Downloading package punkt to /root/nltk_data...\n",
            "[nltk_data]   Package punkt is already up-to-date!\n"
          ]
        },
        {
          "output_type": "execute_result",
          "data": {
            "text/plain": [
              "True"
            ]
          },
          "metadata": {},
          "execution_count": 55
        }
      ],
      "source": [
        "# Download required NLTK data\n",
        "nltk.download(\"vader_lexicon\")\n",
        "nltk.download(\"punkt\")"
      ]
    },
    {
      "cell_type": "code",
      "execution_count": 56,
      "metadata": {
        "id": "qsolqUofBX70"
      },
      "outputs": [],
      "source": [
        "# Create an empty 'Risk_Category' column\n",
        "#df['Risk_Category'] = np.nan"
      ]
    },
    {
      "cell_type": "code",
      "execution_count": 57,
      "metadata": {
        "id": "RwjeZvgeBaoW"
      },
      "outputs": [],
      "source": [
        "# Select a random sample of 30 articles for manual labeling\n",
        "manual_label_subset = df.sample(30, random_state=42)"
      ]
    },
    {
      "cell_type": "code",
      "execution_count": 58,
      "metadata": {
        "id": "rjMoSJPZDzUH"
      },
      "outputs": [],
      "source": [
        "manual_label_subset = manual_label_subset.loc[:, [\"title\", \"Cleaned_Article\"]]\n",
        "manual_label_subset[\"Risk_Category\"] = \"\""
      ]
    },
    {
      "cell_type": "code",
      "execution_count": 59,
      "metadata": {
        "id": "QPTT7-KlZs5A"
      },
      "outputs": [],
      "source": [
        "# Save as Excel file (fixing multi-line text issue)\n",
        "manual_label_subset.to_excel(\"manual_labeling_template.xlsx\", index=False, engine=\"openpyxl\")"
      ]
    },
    {
      "cell_type": "code",
      "source": [
        "# Drop empty rows if necessary\n",
        "manual_label_subset = manual_label_subset.dropna()"
      ],
      "metadata": {
        "id": "rIue5-Sgpth_"
      },
      "execution_count": 60,
      "outputs": []
    },
    {
      "cell_type": "code",
      "source": [
        "from google.colab import files"
      ],
      "metadata": {
        "id": "SE8OsgwGn0jO"
      },
      "execution_count": 61,
      "outputs": []
    },
    {
      "cell_type": "code",
      "execution_count": 62,
      "metadata": {
        "id": "6wWeE5oqEEAU"
      },
      "outputs": [],
      "source": [
        "#files.download(\"manual_labeling_template.xlsx\")"
      ]
    },
    {
      "cell_type": "code",
      "execution_count": 63,
      "metadata": {
        "id": "isnCVSXYdw6l"
      },
      "outputs": [],
      "source": [
        "from google.colab import files"
      ]
    },
    {
      "cell_type": "code",
      "execution_count": 64,
      "metadata": {
        "colab": {
          "base_uri": "https://localhost:8080/",
          "height": 73
        },
        "id": "s-QlcjQbdn6z",
        "outputId": "6e9009d3-b6c4-46d8-80ab-071d238b3449"
      },
      "outputs": [
        {
          "output_type": "display_data",
          "data": {
            "text/plain": [
              "<IPython.core.display.HTML object>"
            ],
            "text/html": [
              "\n",
              "     <input type=\"file\" id=\"files-651ea098-2c62-4d9b-8fa4-f03670c1a514\" name=\"files[]\" multiple disabled\n",
              "        style=\"border:none\" />\n",
              "     <output id=\"result-651ea098-2c62-4d9b-8fa4-f03670c1a514\">\n",
              "      Upload widget is only available when the cell has been executed in the\n",
              "      current browser session. Please rerun this cell to enable.\n",
              "      </output>\n",
              "      <script>// Copyright 2017 Google LLC\n",
              "//\n",
              "// Licensed under the Apache License, Version 2.0 (the \"License\");\n",
              "// you may not use this file except in compliance with the License.\n",
              "// You may obtain a copy of the License at\n",
              "//\n",
              "//      http://www.apache.org/licenses/LICENSE-2.0\n",
              "//\n",
              "// Unless required by applicable law or agreed to in writing, software\n",
              "// distributed under the License is distributed on an \"AS IS\" BASIS,\n",
              "// WITHOUT WARRANTIES OR CONDITIONS OF ANY KIND, either express or implied.\n",
              "// See the License for the specific language governing permissions and\n",
              "// limitations under the License.\n",
              "\n",
              "/**\n",
              " * @fileoverview Helpers for google.colab Python module.\n",
              " */\n",
              "(function(scope) {\n",
              "function span(text, styleAttributes = {}) {\n",
              "  const element = document.createElement('span');\n",
              "  element.textContent = text;\n",
              "  for (const key of Object.keys(styleAttributes)) {\n",
              "    element.style[key] = styleAttributes[key];\n",
              "  }\n",
              "  return element;\n",
              "}\n",
              "\n",
              "// Max number of bytes which will be uploaded at a time.\n",
              "const MAX_PAYLOAD_SIZE = 100 * 1024;\n",
              "\n",
              "function _uploadFiles(inputId, outputId) {\n",
              "  const steps = uploadFilesStep(inputId, outputId);\n",
              "  const outputElement = document.getElementById(outputId);\n",
              "  // Cache steps on the outputElement to make it available for the next call\n",
              "  // to uploadFilesContinue from Python.\n",
              "  outputElement.steps = steps;\n",
              "\n",
              "  return _uploadFilesContinue(outputId);\n",
              "}\n",
              "\n",
              "// This is roughly an async generator (not supported in the browser yet),\n",
              "// where there are multiple asynchronous steps and the Python side is going\n",
              "// to poll for completion of each step.\n",
              "// This uses a Promise to block the python side on completion of each step,\n",
              "// then passes the result of the previous step as the input to the next step.\n",
              "function _uploadFilesContinue(outputId) {\n",
              "  const outputElement = document.getElementById(outputId);\n",
              "  const steps = outputElement.steps;\n",
              "\n",
              "  const next = steps.next(outputElement.lastPromiseValue);\n",
              "  return Promise.resolve(next.value.promise).then((value) => {\n",
              "    // Cache the last promise value to make it available to the next\n",
              "    // step of the generator.\n",
              "    outputElement.lastPromiseValue = value;\n",
              "    return next.value.response;\n",
              "  });\n",
              "}\n",
              "\n",
              "/**\n",
              " * Generator function which is called between each async step of the upload\n",
              " * process.\n",
              " * @param {string} inputId Element ID of the input file picker element.\n",
              " * @param {string} outputId Element ID of the output display.\n",
              " * @return {!Iterable<!Object>} Iterable of next steps.\n",
              " */\n",
              "function* uploadFilesStep(inputId, outputId) {\n",
              "  const inputElement = document.getElementById(inputId);\n",
              "  inputElement.disabled = false;\n",
              "\n",
              "  const outputElement = document.getElementById(outputId);\n",
              "  outputElement.innerHTML = '';\n",
              "\n",
              "  const pickedPromise = new Promise((resolve) => {\n",
              "    inputElement.addEventListener('change', (e) => {\n",
              "      resolve(e.target.files);\n",
              "    });\n",
              "  });\n",
              "\n",
              "  const cancel = document.createElement('button');\n",
              "  inputElement.parentElement.appendChild(cancel);\n",
              "  cancel.textContent = 'Cancel upload';\n",
              "  const cancelPromise = new Promise((resolve) => {\n",
              "    cancel.onclick = () => {\n",
              "      resolve(null);\n",
              "    };\n",
              "  });\n",
              "\n",
              "  // Wait for the user to pick the files.\n",
              "  const files = yield {\n",
              "    promise: Promise.race([pickedPromise, cancelPromise]),\n",
              "    response: {\n",
              "      action: 'starting',\n",
              "    }\n",
              "  };\n",
              "\n",
              "  cancel.remove();\n",
              "\n",
              "  // Disable the input element since further picks are not allowed.\n",
              "  inputElement.disabled = true;\n",
              "\n",
              "  if (!files) {\n",
              "    return {\n",
              "      response: {\n",
              "        action: 'complete',\n",
              "      }\n",
              "    };\n",
              "  }\n",
              "\n",
              "  for (const file of files) {\n",
              "    const li = document.createElement('li');\n",
              "    li.append(span(file.name, {fontWeight: 'bold'}));\n",
              "    li.append(span(\n",
              "        `(${file.type || 'n/a'}) - ${file.size} bytes, ` +\n",
              "        `last modified: ${\n",
              "            file.lastModifiedDate ? file.lastModifiedDate.toLocaleDateString() :\n",
              "                                    'n/a'} - `));\n",
              "    const percent = span('0% done');\n",
              "    li.appendChild(percent);\n",
              "\n",
              "    outputElement.appendChild(li);\n",
              "\n",
              "    const fileDataPromise = new Promise((resolve) => {\n",
              "      const reader = new FileReader();\n",
              "      reader.onload = (e) => {\n",
              "        resolve(e.target.result);\n",
              "      };\n",
              "      reader.readAsArrayBuffer(file);\n",
              "    });\n",
              "    // Wait for the data to be ready.\n",
              "    let fileData = yield {\n",
              "      promise: fileDataPromise,\n",
              "      response: {\n",
              "        action: 'continue',\n",
              "      }\n",
              "    };\n",
              "\n",
              "    // Use a chunked sending to avoid message size limits. See b/62115660.\n",
              "    let position = 0;\n",
              "    do {\n",
              "      const length = Math.min(fileData.byteLength - position, MAX_PAYLOAD_SIZE);\n",
              "      const chunk = new Uint8Array(fileData, position, length);\n",
              "      position += length;\n",
              "\n",
              "      const base64 = btoa(String.fromCharCode.apply(null, chunk));\n",
              "      yield {\n",
              "        response: {\n",
              "          action: 'append',\n",
              "          file: file.name,\n",
              "          data: base64,\n",
              "        },\n",
              "      };\n",
              "\n",
              "      let percentDone = fileData.byteLength === 0 ?\n",
              "          100 :\n",
              "          Math.round((position / fileData.byteLength) * 100);\n",
              "      percent.textContent = `${percentDone}% done`;\n",
              "\n",
              "    } while (position < fileData.byteLength);\n",
              "  }\n",
              "\n",
              "  // All done.\n",
              "  yield {\n",
              "    response: {\n",
              "      action: 'complete',\n",
              "    }\n",
              "  };\n",
              "}\n",
              "\n",
              "scope.google = scope.google || {};\n",
              "scope.google.colab = scope.google.colab || {};\n",
              "scope.google.colab._files = {\n",
              "  _uploadFiles,\n",
              "  _uploadFilesContinue,\n",
              "};\n",
              "})(self);\n",
              "</script> "
            ]
          },
          "metadata": {}
        },
        {
          "output_type": "stream",
          "name": "stdout",
          "text": [
            "Saving manual_labeling_template (1).xlsx to manual_labeling_template (1).xlsx\n"
          ]
        }
      ],
      "source": [
        "uploaded = files.upload()"
      ]
    },
    {
      "cell_type": "code",
      "execution_count": 65,
      "metadata": {
        "id": "OVISODqAd5dW"
      },
      "outputs": [],
      "source": [
        "manual_labels = pd.read_excel(\"manual_labeling_template (1).xlsx\")"
      ]
    },
    {
      "cell_type": "code",
      "execution_count": 66,
      "metadata": {
        "colab": {
          "base_uri": "https://localhost:8080/",
          "height": 206
        },
        "id": "GEzks_8NdGfy",
        "outputId": "24a8aa98-f9df-473f-f143-d4ee5b2a638d"
      },
      "outputs": [
        {
          "output_type": "execute_result",
          "data": {
            "text/plain": [
              "                                               title  \\\n",
              "0  Caleres Reports Second Quarter Results and Upd...   \n",
              "1  Interloop’s Pakistan Plant Earns LEED Platinum...   \n",
              "2  Caleres Inc (CAL) Q2 2024 Earnings: EPS of $0....   \n",
              "3  Welspun Living Buyback 2024 Record Date, Price...   \n",
              "4                   VIS upgrades Interloop’s ratings   \n",
              "\n",
              "                                     Cleaned_Article  \\\n",
              "0  st louisbusiness wirecaleres nyse cal marketle...   \n",
              "1  interloops new apparel plant pakistan receive ...   \n",
              "2  september caleres inc cal financial release k ...   \n",
              "3  welspun living crore approve board director me...   \n",
              "4  july mln vi credit rating company limited vi u...   \n",
              "\n",
              "                          Risk_Category  \n",
              "0       Financial and Operational Risks  \n",
              "1  Agricultural and Environmental Risks  \n",
              "2     Geopolitical and Regulatory Risks  \n",
              "3       Financial and Operational Risks  \n",
              "4       Financial and Operational Risks  "
            ],
            "text/html": [
              "\n",
              "  <div id=\"df-aed681dd-ddb3-4d74-b662-30ee52a403c2\" class=\"colab-df-container\">\n",
              "    <div>\n",
              "<style scoped>\n",
              "    .dataframe tbody tr th:only-of-type {\n",
              "        vertical-align: middle;\n",
              "    }\n",
              "\n",
              "    .dataframe tbody tr th {\n",
              "        vertical-align: top;\n",
              "    }\n",
              "\n",
              "    .dataframe thead th {\n",
              "        text-align: right;\n",
              "    }\n",
              "</style>\n",
              "<table border=\"1\" class=\"dataframe\">\n",
              "  <thead>\n",
              "    <tr style=\"text-align: right;\">\n",
              "      <th></th>\n",
              "      <th>title</th>\n",
              "      <th>Cleaned_Article</th>\n",
              "      <th>Risk_Category</th>\n",
              "    </tr>\n",
              "  </thead>\n",
              "  <tbody>\n",
              "    <tr>\n",
              "      <th>0</th>\n",
              "      <td>Caleres Reports Second Quarter Results and Upd...</td>\n",
              "      <td>st louisbusiness wirecaleres nyse cal marketle...</td>\n",
              "      <td>Financial and Operational Risks</td>\n",
              "    </tr>\n",
              "    <tr>\n",
              "      <th>1</th>\n",
              "      <td>Interloop’s Pakistan Plant Earns LEED Platinum...</td>\n",
              "      <td>interloops new apparel plant pakistan receive ...</td>\n",
              "      <td>Agricultural and Environmental Risks</td>\n",
              "    </tr>\n",
              "    <tr>\n",
              "      <th>2</th>\n",
              "      <td>Caleres Inc (CAL) Q2 2024 Earnings: EPS of $0....</td>\n",
              "      <td>september caleres inc cal financial release k ...</td>\n",
              "      <td>Geopolitical and Regulatory Risks</td>\n",
              "    </tr>\n",
              "    <tr>\n",
              "      <th>3</th>\n",
              "      <td>Welspun Living Buyback 2024 Record Date, Price...</td>\n",
              "      <td>welspun living crore approve board director me...</td>\n",
              "      <td>Financial and Operational Risks</td>\n",
              "    </tr>\n",
              "    <tr>\n",
              "      <th>4</th>\n",
              "      <td>VIS upgrades Interloop’s ratings</td>\n",
              "      <td>july mln vi credit rating company limited vi u...</td>\n",
              "      <td>Financial and Operational Risks</td>\n",
              "    </tr>\n",
              "  </tbody>\n",
              "</table>\n",
              "</div>\n",
              "    <div class=\"colab-df-buttons\">\n",
              "\n",
              "  <div class=\"colab-df-container\">\n",
              "    <button class=\"colab-df-convert\" onclick=\"convertToInteractive('df-aed681dd-ddb3-4d74-b662-30ee52a403c2')\"\n",
              "            title=\"Convert this dataframe to an interactive table.\"\n",
              "            style=\"display:none;\">\n",
              "\n",
              "  <svg xmlns=\"http://www.w3.org/2000/svg\" height=\"24px\" viewBox=\"0 -960 960 960\">\n",
              "    <path d=\"M120-120v-720h720v720H120Zm60-500h600v-160H180v160Zm220 220h160v-160H400v160Zm0 220h160v-160H400v160ZM180-400h160v-160H180v160Zm440 0h160v-160H620v160ZM180-180h160v-160H180v160Zm440 0h160v-160H620v160Z\"/>\n",
              "  </svg>\n",
              "    </button>\n",
              "\n",
              "  <style>\n",
              "    .colab-df-container {\n",
              "      display:flex;\n",
              "      gap: 12px;\n",
              "    }\n",
              "\n",
              "    .colab-df-convert {\n",
              "      background-color: #E8F0FE;\n",
              "      border: none;\n",
              "      border-radius: 50%;\n",
              "      cursor: pointer;\n",
              "      display: none;\n",
              "      fill: #1967D2;\n",
              "      height: 32px;\n",
              "      padding: 0 0 0 0;\n",
              "      width: 32px;\n",
              "    }\n",
              "\n",
              "    .colab-df-convert:hover {\n",
              "      background-color: #E2EBFA;\n",
              "      box-shadow: 0px 1px 2px rgba(60, 64, 67, 0.3), 0px 1px 3px 1px rgba(60, 64, 67, 0.15);\n",
              "      fill: #174EA6;\n",
              "    }\n",
              "\n",
              "    .colab-df-buttons div {\n",
              "      margin-bottom: 4px;\n",
              "    }\n",
              "\n",
              "    [theme=dark] .colab-df-convert {\n",
              "      background-color: #3B4455;\n",
              "      fill: #D2E3FC;\n",
              "    }\n",
              "\n",
              "    [theme=dark] .colab-df-convert:hover {\n",
              "      background-color: #434B5C;\n",
              "      box-shadow: 0px 1px 3px 1px rgba(0, 0, 0, 0.15);\n",
              "      filter: drop-shadow(0px 1px 2px rgba(0, 0, 0, 0.3));\n",
              "      fill: #FFFFFF;\n",
              "    }\n",
              "  </style>\n",
              "\n",
              "    <script>\n",
              "      const buttonEl =\n",
              "        document.querySelector('#df-aed681dd-ddb3-4d74-b662-30ee52a403c2 button.colab-df-convert');\n",
              "      buttonEl.style.display =\n",
              "        google.colab.kernel.accessAllowed ? 'block' : 'none';\n",
              "\n",
              "      async function convertToInteractive(key) {\n",
              "        const element = document.querySelector('#df-aed681dd-ddb3-4d74-b662-30ee52a403c2');\n",
              "        const dataTable =\n",
              "          await google.colab.kernel.invokeFunction('convertToInteractive',\n",
              "                                                    [key], {});\n",
              "        if (!dataTable) return;\n",
              "\n",
              "        const docLinkHtml = 'Like what you see? Visit the ' +\n",
              "          '<a target=\"_blank\" href=https://colab.research.google.com/notebooks/data_table.ipynb>data table notebook</a>'\n",
              "          + ' to learn more about interactive tables.';\n",
              "        element.innerHTML = '';\n",
              "        dataTable['output_type'] = 'display_data';\n",
              "        await google.colab.output.renderOutput(dataTable, element);\n",
              "        const docLink = document.createElement('div');\n",
              "        docLink.innerHTML = docLinkHtml;\n",
              "        element.appendChild(docLink);\n",
              "      }\n",
              "    </script>\n",
              "  </div>\n",
              "\n",
              "\n",
              "<div id=\"df-629a7ffa-af9c-4ad7-8334-7c8c24fa6017\">\n",
              "  <button class=\"colab-df-quickchart\" onclick=\"quickchart('df-629a7ffa-af9c-4ad7-8334-7c8c24fa6017')\"\n",
              "            title=\"Suggest charts\"\n",
              "            style=\"display:none;\">\n",
              "\n",
              "<svg xmlns=\"http://www.w3.org/2000/svg\" height=\"24px\"viewBox=\"0 0 24 24\"\n",
              "     width=\"24px\">\n",
              "    <g>\n",
              "        <path d=\"M19 3H5c-1.1 0-2 .9-2 2v14c0 1.1.9 2 2 2h14c1.1 0 2-.9 2-2V5c0-1.1-.9-2-2-2zM9 17H7v-7h2v7zm4 0h-2V7h2v10zm4 0h-2v-4h2v4z\"/>\n",
              "    </g>\n",
              "</svg>\n",
              "  </button>\n",
              "\n",
              "<style>\n",
              "  .colab-df-quickchart {\n",
              "      --bg-color: #E8F0FE;\n",
              "      --fill-color: #1967D2;\n",
              "      --hover-bg-color: #E2EBFA;\n",
              "      --hover-fill-color: #174EA6;\n",
              "      --disabled-fill-color: #AAA;\n",
              "      --disabled-bg-color: #DDD;\n",
              "  }\n",
              "\n",
              "  [theme=dark] .colab-df-quickchart {\n",
              "      --bg-color: #3B4455;\n",
              "      --fill-color: #D2E3FC;\n",
              "      --hover-bg-color: #434B5C;\n",
              "      --hover-fill-color: #FFFFFF;\n",
              "      --disabled-bg-color: #3B4455;\n",
              "      --disabled-fill-color: #666;\n",
              "  }\n",
              "\n",
              "  .colab-df-quickchart {\n",
              "    background-color: var(--bg-color);\n",
              "    border: none;\n",
              "    border-radius: 50%;\n",
              "    cursor: pointer;\n",
              "    display: none;\n",
              "    fill: var(--fill-color);\n",
              "    height: 32px;\n",
              "    padding: 0;\n",
              "    width: 32px;\n",
              "  }\n",
              "\n",
              "  .colab-df-quickchart:hover {\n",
              "    background-color: var(--hover-bg-color);\n",
              "    box-shadow: 0 1px 2px rgba(60, 64, 67, 0.3), 0 1px 3px 1px rgba(60, 64, 67, 0.15);\n",
              "    fill: var(--button-hover-fill-color);\n",
              "  }\n",
              "\n",
              "  .colab-df-quickchart-complete:disabled,\n",
              "  .colab-df-quickchart-complete:disabled:hover {\n",
              "    background-color: var(--disabled-bg-color);\n",
              "    fill: var(--disabled-fill-color);\n",
              "    box-shadow: none;\n",
              "  }\n",
              "\n",
              "  .colab-df-spinner {\n",
              "    border: 2px solid var(--fill-color);\n",
              "    border-color: transparent;\n",
              "    border-bottom-color: var(--fill-color);\n",
              "    animation:\n",
              "      spin 1s steps(1) infinite;\n",
              "  }\n",
              "\n",
              "  @keyframes spin {\n",
              "    0% {\n",
              "      border-color: transparent;\n",
              "      border-bottom-color: var(--fill-color);\n",
              "      border-left-color: var(--fill-color);\n",
              "    }\n",
              "    20% {\n",
              "      border-color: transparent;\n",
              "      border-left-color: var(--fill-color);\n",
              "      border-top-color: var(--fill-color);\n",
              "    }\n",
              "    30% {\n",
              "      border-color: transparent;\n",
              "      border-left-color: var(--fill-color);\n",
              "      border-top-color: var(--fill-color);\n",
              "      border-right-color: var(--fill-color);\n",
              "    }\n",
              "    40% {\n",
              "      border-color: transparent;\n",
              "      border-right-color: var(--fill-color);\n",
              "      border-top-color: var(--fill-color);\n",
              "    }\n",
              "    60% {\n",
              "      border-color: transparent;\n",
              "      border-right-color: var(--fill-color);\n",
              "    }\n",
              "    80% {\n",
              "      border-color: transparent;\n",
              "      border-right-color: var(--fill-color);\n",
              "      border-bottom-color: var(--fill-color);\n",
              "    }\n",
              "    90% {\n",
              "      border-color: transparent;\n",
              "      border-bottom-color: var(--fill-color);\n",
              "    }\n",
              "  }\n",
              "</style>\n",
              "\n",
              "  <script>\n",
              "    async function quickchart(key) {\n",
              "      const quickchartButtonEl =\n",
              "        document.querySelector('#' + key + ' button');\n",
              "      quickchartButtonEl.disabled = true;  // To prevent multiple clicks.\n",
              "      quickchartButtonEl.classList.add('colab-df-spinner');\n",
              "      try {\n",
              "        const charts = await google.colab.kernel.invokeFunction(\n",
              "            'suggestCharts', [key], {});\n",
              "      } catch (error) {\n",
              "        console.error('Error during call to suggestCharts:', error);\n",
              "      }\n",
              "      quickchartButtonEl.classList.remove('colab-df-spinner');\n",
              "      quickchartButtonEl.classList.add('colab-df-quickchart-complete');\n",
              "    }\n",
              "    (() => {\n",
              "      let quickchartButtonEl =\n",
              "        document.querySelector('#df-629a7ffa-af9c-4ad7-8334-7c8c24fa6017 button');\n",
              "      quickchartButtonEl.style.display =\n",
              "        google.colab.kernel.accessAllowed ? 'block' : 'none';\n",
              "    })();\n",
              "  </script>\n",
              "</div>\n",
              "\n",
              "    </div>\n",
              "  </div>\n"
            ],
            "application/vnd.google.colaboratory.intrinsic+json": {
              "type": "dataframe",
              "variable_name": "manual_labels",
              "summary": "{\n  \"name\": \"manual_labels\",\n  \"rows\": 30,\n  \"fields\": [\n    {\n      \"column\": \"title\",\n      \"properties\": {\n        \"dtype\": \"string\",\n        \"num_unique_values\": 30,\n        \"samples\": [\n          \"Clayton school board backs out of buying Caleres property after backlash\",\n          \"Textile and fashion company Arvind partners with L&K Saatchi & Saatchi for marketing strategy\",\n          \"Meet woman, who married at 18, later studied at Harvard, now runs Rs 18566 crore company as...\"\n        ],\n        \"semantic_type\": \"\",\n        \"description\": \"\"\n      }\n    },\n    {\n      \"column\": \"Cleaned_Article\",\n      \"properties\": {\n        \"dtype\": \"string\",\n        \"num_unique_values\": 30,\n        \"samples\": [\n          \"clayton clayton board education terminate contract purchase headquarters global footwear company caleres million fierce backlash community although significant number attendee last week public forum express reservation acquisition also receive strong support move forward purchase via email phone call online petition listen carefully perspective recognize reflect diverse viewpoint demographic within clayton community read letter sent monday board school board make priority update longrange facility plan reflect district need next year letter say people also reading steph kukuljan business reporter bring insight st louisarea real estate development caleres formerly brown shoe co several year try downsize acre campus adjacent clayton high school property maryland avenue include square foot three building appraise st louis county million campus still actively market sale goal remains provide flexible modern workspace meet evolve need associate business say caleres president ceo jay schmidt statement monday michael staenberg staenberg group real estate firm say monday continue pursue project site like firm entertainment venue hub chesterfield clayton superintendent nisha patel announce jan school district would close property next month create empowerment campus project public forum wednesday school board member express vary idea project new football field perform art center even flip retail developer majority attendee critical board project lack detail potential cost handful current teacher parent say buoyed opportunity compete district private school new hightech facility mayor michelle harris oppose sale along four former clayton mayor deal fell harris say city clayton commit continue historic partnership district appreciate opportunity include longterm planning land use discussion caleres property annual real estate tax million city clayton receives school district receives close half hypothetical assessment future commercial redevelopment site estimate million would bring city million school district annually accord city leader clayton city manager david gipson respond question hypothetical value calculate highestvalued property clayton pierre laclede business center forsyth boulevard assess million least two potential sale caleres property collapse recent year local development firm pier property group slat take campus deal fell october claycos realty arm crg million plan campus back traffic utility improvement need site would cost million million accord operating partner jeff tegethoff medium personality charlie brennan lead group resident opposition sale say monday glad deal fell hat see property take tax roll think city school district need revenue brennan say expensive purchase without plan really didnt make much sense city need retail tax dollar something would bring people together make clayton little lively\",\n          \"agency support arvinds foray new vertical craft comprehensive brand strategy resonates target audience arvind integrate solution provider textile strong fibertofashion capability global domestic customer appoint lk saatchi saatchi strategic partner strategic move underscore arvind limited focus commitment strengthen modernday consumer connection innovative impactful campaign lk saatchi saatchi adopt strategic approach involve comprehensive analysis collaborate brand elevate identity market part mandate arvind work closely lk saatchi saatchi redefine brand position strategy highly competitive market leverage consumer market research lk saatchi saatchi support arvinds foray new vertical craft compelling comprehensive brand strategy resonates target audience\",\n          \"business husband cofounder chairman welspun group net worth usd billion around r crore several indian businesswoman country successfully lead top company one person dipali goenka manage director ceo welspun living ltd one country large home textile exporter yearold come long way since join company dipali transform textile business innovative idea today market cap company r crore businesswoman get married early age balkrishan goenka move mumbai age join husband textile business husband cofounder chairman welspun group mumbai interest textile pipe couple two daughter radhika vanshika dipali graduate psychology harvard alumnus attend president management program harvard business school dipali born october jaipur marwari family forbes ranked th powerful woman asia th india husband billionaire realtime net worth usd billion per forbes bought luxury penthouse mumbai usd million around r crore today dipali eloquent leader also involve philanthropic initiative focus inclusive development strongly believe woman earns empower enables child go school read company earn r crore day mukesh ambani ratan tata adani delhi girl showcase skill strength netball aali lal kuan emerge winner man dy sexually assault delhi one arrest happen deepinder goyals zomato list indian company recently rebranded life insurance quote explain guide secure family financial future winter essential musthave home appliance keep warm cozy ishq na kario release abhishek kumar take first step cinema roadmap building r crore retirement corpus np sri lanka suffers nationwide power outage due monkey know exactly happen fatima sana shaikh make big claim male actor say shah rukh khan visionary behind modern data platform shreesha hegdes blueprint industry success sam nujoma pass away know namibia fiery freedom fighter first president jahan kaam wahan hum pm modi pitch leadership mantra student pariksha pe charcha raheja developer floor leela sky villa bring ultraluxury central west delhi cristiano ronaldo doesnt tattoo reason leave shock prayagraj see kmlong traffic jam leave devotee without food water amid mahakumbh tirupati laddu prasadam row cbi arrest four people ghee adulteration case jee main result nta jee session result declare know download scorecard donald trump reveals big plan say commit buy gaza allow others lionel messis son thiago score goal single match inter miami here truth india v england rohit sharma go past chris gayle alltime odi list lead shahid afridi ed sheeran break silence bengaluru cop stop street performance wasnt india gain pakistan struggle forex reserve rise r crore paks decline continue ind v eng rohit sharma return form champion trophy slam nd odi century v england mummy daantegi little boy scream tiger pull shirt zoo watch viral video manipur cm n biren resigns nearly two year ethnic violence state viral video woman travel train toilet maha kumbh internet say joke vicky jains bizarre comment leaf wife ankita fume anger netizens declare red flag bengaluru cop stop ed sheerans street performance video go viral watch viral video lion spot move jeep here truth youtuber gaurav taneja reveals shock wife decision teddy day date history significance fourth day valentine week sugar big toxin naga chaitanya call sugar toxic alcohol tobacco blinkit zepto startup claim deliver human minute shock netizens pratik gandhi struggle manage job act chaar gante sona luxury tha exclusive kumar vishwas wife cry manish sisodia lose delhi election always power fast furious car collision creates rohit shetty scene indian road viral video go room cry salman khan wisdom love breakup need valentine day parvesh verma bjp leader defeat arvind kejriwal make big claim say sumona chakravarti join kapil sharma show go ram kapoors sister elon musk still interested buying tiktok tesla ceo provide big update claim groom mother mama join hand burn dance floor viral video set internet fire\"\n        ],\n        \"semantic_type\": \"\",\n        \"description\": \"\"\n      }\n    },\n    {\n      \"column\": \"Risk_Category\",\n      \"properties\": {\n        \"dtype\": \"category\",\n        \"num_unique_values\": 5,\n        \"samples\": [\n          \"Agricultural and Environmental Risks\",\n          \"Supply Chain and Logistics Risks\",\n          \"Geopolitical and Regulatory Risks\"\n        ],\n        \"semantic_type\": \"\",\n        \"description\": \"\"\n      }\n    }\n  ]\n}"
            }
          },
          "metadata": {},
          "execution_count": 66
        }
      ],
      "source": [
        "manual_labels.head()"
      ]
    },
    {
      "cell_type": "code",
      "execution_count": 67,
      "metadata": {
        "id": "ETadunpvcwAH"
      },
      "outputs": [],
      "source": [
        "df = df.merge(manual_labels[[\"title\", \"Risk_Category\"]], on=\"title\", how=\"left\")\n",
        "# Fill missing risk categories as 'Unlabeled'\n",
        "df[\"Risk_Category\"] = df[\"Risk_Category\"].fillna(\"Unlabeled\")"
      ]
    },
    {
      "cell_type": "code",
      "source": [
        "df.info()"
      ],
      "metadata": {
        "colab": {
          "base_uri": "https://localhost:8080/"
        },
        "id": "-iopqKTpwzwp",
        "outputId": "f28e13de-84ac-439c-ff10-a9494362d1e3"
      },
      "execution_count": 68,
      "outputs": [
        {
          "output_type": "stream",
          "name": "stdout",
          "text": [
            "<class 'pandas.core.frame.DataFrame'>\n",
            "RangeIndex: 671 entries, 0 to 670\n",
            "Data columns (total 57 columns):\n",
            " #   Column           Non-Null Count  Dtype  \n",
            "---  ------           --------------  -----  \n",
            " 0   title            544 non-null    object \n",
            " 1   Full_Article     544 non-null    object \n",
            " 2   Cleaned_Article  544 non-null    object \n",
            " 3   Named_Entities   544 non-null    object \n",
            " 4   Sentiment_Score  544 non-null    float64\n",
            " 5   Word_Frequency   544 non-null    object \n",
            " 6   ai               544 non-null    float64\n",
            " 7   also             544 non-null    float64\n",
            " 8   august           544 non-null    float64\n",
            " 9   bank             544 non-null    float64\n",
            " 10  brand            544 non-null    float64\n",
            " 11  business         544 non-null    float64\n",
            " 12  company          544 non-null    float64\n",
            " 13  crore            544 non-null    float64\n",
            " 14  earnings         544 non-null    float64\n",
            " 15  financial        544 non-null    float64\n",
            " 16  global           544 non-null    float64\n",
            " 17  growth           544 non-null    float64\n",
            " 18  high             544 non-null    float64\n",
            " 19  include          544 non-null    float64\n",
            " 20  increase         544 non-null    float64\n",
            " 21  india            544 non-null    float64\n",
            " 22  industry         544 non-null    float64\n",
            " 23  law              544 non-null    float64\n",
            " 24  limited          544 non-null    float64\n",
            " 25  live             544 non-null    float64\n",
            " 26  living           544 non-null    float64\n",
            " 27  ltd              544 non-null    float64\n",
            " 28  make             544 non-null    float64\n",
            " 29  manufacturing    544 non-null    float64\n",
            " 30  market           544 non-null    float64\n",
            " 31  may              544 non-null    float64\n",
            " 32  million          544 non-null    float64\n",
            " 33  net              544 non-null    float64\n",
            " 34  new              544 non-null    float64\n",
            " 35  per              544 non-null    float64\n",
            " 36  price            544 non-null    float64\n",
            " 37  product          544 non-null    float64\n",
            " 38  profit           544 non-null    float64\n",
            " 39  quarter          544 non-null    float64\n",
            " 40  regulation       544 non-null    float64\n",
            " 41  report           544 non-null    float64\n",
            " 42  revenue          544 non-null    float64\n",
            " 43  risk             544 non-null    float64\n",
            " 44  sale             544 non-null    float64\n",
            " 45  say              544 non-null    float64\n",
            " 46  sector           544 non-null    float64\n",
            " 47  see              544 non-null    float64\n",
            " 48  share            544 non-null    float64\n",
            " 49  stock            544 non-null    float64\n",
            " 50  technology       544 non-null    float64\n",
            " 51  textile          544 non-null    float64\n",
            " 52  today            544 non-null    float64\n",
            " 53  use              544 non-null    float64\n",
            " 54  welspun          544 non-null    float64\n",
            " 55  year             544 non-null    float64\n",
            " 56  Risk_Category    671 non-null    object \n",
            "dtypes: float64(51), object(6)\n",
            "memory usage: 298.9+ KB\n"
          ]
        }
      ]
    },
    {
      "cell_type": "code",
      "execution_count": 69,
      "metadata": {
        "colab": {
          "base_uri": "https://localhost:8080/",
          "height": 304
        },
        "id": "FmyMtoAWeQlg",
        "outputId": "3f390da0-3830-4293-8541-3e184788b374"
      },
      "outputs": [
        {
          "output_type": "execute_result",
          "data": {
            "text/plain": [
              "Risk_Category\n",
              "Unlabeled                               610\n",
              "Financial and Operational Risks          28\n",
              "Market and Competitive Risks             25\n",
              "Supply Chain and Logistics Risks          3\n",
              "Agricultural and Environmental Risks      3\n",
              "Geopolitical and Regulatory Risks         2\n",
              "Name: count, dtype: int64"
            ],
            "text/html": [
              "<div>\n",
              "<style scoped>\n",
              "    .dataframe tbody tr th:only-of-type {\n",
              "        vertical-align: middle;\n",
              "    }\n",
              "\n",
              "    .dataframe tbody tr th {\n",
              "        vertical-align: top;\n",
              "    }\n",
              "\n",
              "    .dataframe thead th {\n",
              "        text-align: right;\n",
              "    }\n",
              "</style>\n",
              "<table border=\"1\" class=\"dataframe\">\n",
              "  <thead>\n",
              "    <tr style=\"text-align: right;\">\n",
              "      <th></th>\n",
              "      <th>count</th>\n",
              "    </tr>\n",
              "    <tr>\n",
              "      <th>Risk_Category</th>\n",
              "      <th></th>\n",
              "    </tr>\n",
              "  </thead>\n",
              "  <tbody>\n",
              "    <tr>\n",
              "      <th>Unlabeled</th>\n",
              "      <td>610</td>\n",
              "    </tr>\n",
              "    <tr>\n",
              "      <th>Financial and Operational Risks</th>\n",
              "      <td>28</td>\n",
              "    </tr>\n",
              "    <tr>\n",
              "      <th>Market and Competitive Risks</th>\n",
              "      <td>25</td>\n",
              "    </tr>\n",
              "    <tr>\n",
              "      <th>Supply Chain and Logistics Risks</th>\n",
              "      <td>3</td>\n",
              "    </tr>\n",
              "    <tr>\n",
              "      <th>Agricultural and Environmental Risks</th>\n",
              "      <td>3</td>\n",
              "    </tr>\n",
              "    <tr>\n",
              "      <th>Geopolitical and Regulatory Risks</th>\n",
              "      <td>2</td>\n",
              "    </tr>\n",
              "  </tbody>\n",
              "</table>\n",
              "</div><br><label><b>dtype:</b> int64</label>"
            ]
          },
          "metadata": {},
          "execution_count": 69
        }
      ],
      "source": [
        "df[\"Risk_Category\"].value_counts()"
      ]
    },
    {
      "cell_type": "code",
      "execution_count": 70,
      "metadata": {
        "id": "HRya7-WN7Eol"
      },
      "outputs": [],
      "source": [
        "df.to_csv(\"/content/drive/My Drive/Updated_Articles.csv\", index=False, encoding=\"utf-8\")"
      ]
    },
    {
      "cell_type": "markdown",
      "source": [
        "See Kaggle Notebook for remaining code. This project was run on Kaggle due to GPU issue"
      ],
      "metadata": {
        "id": "Vr13tcXhj8vX"
      }
    }
  ],
  "metadata": {
    "accelerator": "GPU",
    "colab": {
      "gpuType": "T4",
      "provenance": []
    },
    "kernelspec": {
      "display_name": "Python 3",
      "name": "python3"
    },
    "language_info": {
      "name": "python"
    }
  },
  "nbformat": 4,
  "nbformat_minor": 0
}